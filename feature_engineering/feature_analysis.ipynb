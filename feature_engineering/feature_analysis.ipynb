{
 "cells": [
  {
   "cell_type": "code",
   "execution_count": 1,
   "metadata": {},
   "outputs": [],
   "source": [
    "import pandas as pd\n",
    "import numpy as np\n",
    "import nltk\n",
    "from cogroo4py.cogroo import Cogroo\n",
    "# nltk.download('punkt')\n",
    "import language_tool_python as lt\n",
    "import uol_redacoes_xml as uol"
   ]
  },
  {
   "cell_type": "markdown",
   "metadata": {},
   "source": [
    "### Analysing Possible Erros in Essays"
   ]
  },
  {
   "cell_type": "code",
   "execution_count": 2,
   "metadata": {},
   "outputs": [],
   "source": [
    "tool = lt.LanguageTool('pt-BR')\n",
    "cogroo = Cogroo()\n",
    "essays = uol.load()"
   ]
  },
  {
   "cell_type": "code",
   "execution_count": 32,
   "metadata": {},
   "outputs": [],
   "source": [
    "def get_essays_corrections_tool(essays, tool):\n",
    "    data = []\n",
    "    for i, ess in enumerate(essays):\n",
    "        sentences = ess.text.replace('\\n', '').split('.')\n",
    "        for sent in sentences:\n",
    "            matches = tool.check(sent)\n",
    "            for mat in matches:\n",
    "                data.append({\n",
    "                    'essay': i,\n",
    "                    'error': mat.ruleId,\n",
    "                    'message': mat.message,\n",
    "                    'category': mat.category,\n",
    "                    'frase': sent\n",
    "                })\n",
    "    erros_df = pd.DataFrame(data)\n",
    "    return erros_df"
   ]
  },
  {
   "cell_type": "code",
   "execution_count": 37,
   "metadata": {},
   "outputs": [],
   "source": [
    "def get_essays_corrections_cogroo(essays, cogroo):\n",
    "    data = []\n",
    "    for i, ess in enumerate(essays):\n",
    "        sentences = ess.text.replace('\\n', '').split('.')\n",
    "        for sent in sentences:\n",
    "            try:\n",
    "                doc = cogroo.grammar_check(sent)\n",
    "                matches = doc.mistakes\n",
    "                for mat in matches:\n",
    "                    data.append({\n",
    "                        'essay': i,\n",
    "                        'error': mat.rule_id,\n",
    "                        'message':  mat.short_msg,\n",
    "                        'frase': sent\n",
    "                    })\n",
    "            except:\n",
    "                print('Missed sentence', sent)\n",
    "    erros_df = pd.DataFrame(data)\n",
    "    return erros_df"
   ]
  },
  {
   "cell_type": "code",
   "execution_count": null,
   "metadata": {},
   "outputs": [],
   "source": [
    "tool_df = get_essays_corrections_tool(essays, tool)\n",
    "tool_df.to_csv('../data/correction_language_tool.csv', sep='|', index=False)\n",
    "tool_df.head()"
   ]
  },
  {
   "cell_type": "code",
   "execution_count": 42,
   "metadata": {},
   "outputs": [
    {
     "ename": "java.lang.NullPointerException",
     "evalue": "java.lang.NullPointerException: Cannot invoke \"String.length()\" because \"replacement\" is null",
     "output_type": "error",
     "traceback": [
      "\u001b[1;31m---------------------------------------------------------------------------\u001b[0m",
      "\u001b[1;31mException\u001b[0m                                 Traceback (most recent call last)",
      "File \u001b[1;32mGrammarChecker.java:274\u001b[0m, in \u001b[0;36morg.cogroo.checker.GrammarChecker.analyze\u001b[1;34m()\u001b[0m\n",
      "\u001b[1;31mException\u001b[0m: Java Exception",
      "\nThe above exception was the direct cause of the following exception:\n",
      "\u001b[1;31mjava.lang.NullPointerException\u001b[0m            Traceback (most recent call last)",
      "Cell \u001b[1;32mIn[42], line 1\u001b[0m\n\u001b[1;32m----> 1\u001b[0m cogroo_df \u001b[38;5;241m=\u001b[39m \u001b[43mget_essays_corrections_cogroo\u001b[49m\u001b[43m(\u001b[49m\u001b[43messays\u001b[49m\u001b[43m,\u001b[49m\u001b[43m \u001b[49m\u001b[43mcogroo\u001b[49m\u001b[43m)\u001b[49m\n\u001b[0;32m      2\u001b[0m cogroo_df\u001b[38;5;241m.\u001b[39mto_csv(\u001b[38;5;124m'\u001b[39m\u001b[38;5;124m../data/correction_cogroo.csv\u001b[39m\u001b[38;5;124m'\u001b[39m, sep\u001b[38;5;241m=\u001b[39m\u001b[38;5;124m'\u001b[39m\u001b[38;5;124m|\u001b[39m\u001b[38;5;124m'\u001b[39m, index\u001b[38;5;241m=\u001b[39m\u001b[38;5;28;01mFalse\u001b[39;00m)\n\u001b[0;32m      3\u001b[0m cogroo_df\u001b[38;5;241m.\u001b[39mhead()\n",
      "Cell \u001b[1;32mIn[37], line 6\u001b[0m, in \u001b[0;36mget_essays_corrections_cogroo\u001b[1;34m(essays, cogroo)\u001b[0m\n\u001b[0;32m      4\u001b[0m sentences \u001b[38;5;241m=\u001b[39m ess\u001b[38;5;241m.\u001b[39mtext\u001b[38;5;241m.\u001b[39mreplace(\u001b[38;5;124m'\u001b[39m\u001b[38;5;130;01m\\n\u001b[39;00m\u001b[38;5;124m'\u001b[39m, \u001b[38;5;124m'\u001b[39m\u001b[38;5;124m'\u001b[39m)\u001b[38;5;241m.\u001b[39msplit(\u001b[38;5;124m'\u001b[39m\u001b[38;5;124m.\u001b[39m\u001b[38;5;124m'\u001b[39m)\n\u001b[0;32m      5\u001b[0m \u001b[38;5;28;01mfor\u001b[39;00m sent \u001b[38;5;129;01min\u001b[39;00m sentences:\n\u001b[1;32m----> 6\u001b[0m     doc \u001b[38;5;241m=\u001b[39m \u001b[43mcogroo\u001b[49m\u001b[38;5;241;43m.\u001b[39;49m\u001b[43mgrammar_check\u001b[49m\u001b[43m(\u001b[49m\u001b[43msent\u001b[49m\u001b[43m)\u001b[49m\n\u001b[0;32m      7\u001b[0m     matches \u001b[38;5;241m=\u001b[39m doc\u001b[38;5;241m.\u001b[39mmistakes\n\u001b[0;32m      8\u001b[0m     \u001b[38;5;28;01mfor\u001b[39;00m mat \u001b[38;5;129;01min\u001b[39;00m matches:\n",
      "File \u001b[1;32mc:\\Users\\mwuillau\\Documents\\UFRJ\\Correcao-redacoes-ENEM\\env\\lib\\site-packages\\cogroo4py\\cogroo.py:215\u001b[0m, in \u001b[0;36mCogroo.grammar_check\u001b[1;34m(self, text)\u001b[0m\n\u001b[0;32m    213\u001b[0m text \u001b[39m=\u001b[39m \u001b[39mself\u001b[39m\u001b[39m.\u001b[39m_preproc(text)\n\u001b[0;32m    214\u001b[0m doc \u001b[39m=\u001b[39m \u001b[39mNone\u001b[39;00m\n\u001b[1;32m--> 215\u001b[0m doc \u001b[39m=\u001b[39m \u001b[39mself\u001b[39;49m\u001b[39m.\u001b[39;49manalyzer\u001b[39m.\u001b[39;49mgrammarCheck(text)\n\u001b[0;32m    217\u001b[0m \u001b[39mreturn\u001b[39;00m Document(doc)\n",
      "File \u001b[1;32mc:\\Users\\mwuillau\\Documents\\UFRJ\\Correcao-redacoes-ENEM\\env\\lib\\site-packages\\cogroo4py\\cogroo.py:54\u001b[0m, in \u001b[0;36mCogrooAnalyzer.grammarCheck\u001b[1;34m(self, text)\u001b[0m\n\u001b[0;32m     53\u001b[0m \u001b[39mdef\u001b[39;00m \u001b[39mgrammarCheck\u001b[39m(\u001b[39mself\u001b[39m, text: \u001b[39mstr\u001b[39m) \u001b[39m-\u001b[39m\u001b[39m>\u001b[39m CogrooDocument:  \u001b[39m# noqa\u001b[39;00m\n\u001b[1;32m---> 54\u001b[0m     \u001b[39mreturn\u001b[39;00m \u001b[39mself\u001b[39;49m\u001b[39m.\u001b[39;49mgrammar_check(text)\n",
      "File \u001b[1;32mc:\\Users\\mwuillau\\Documents\\UFRJ\\Correcao-redacoes-ENEM\\env\\lib\\site-packages\\cogroo4py\\cogroo.py:50\u001b[0m, in \u001b[0;36mCogrooAnalyzer.grammar_check\u001b[1;34m(self, text)\u001b[0m\n\u001b[0;32m     48\u001b[0m document \u001b[39m=\u001b[39m CheckDocument()\n\u001b[0;32m     49\u001b[0m document\u001b[39m.\u001b[39msetText(text)\n\u001b[1;32m---> 50\u001b[0m \u001b[39mself\u001b[39;49m\u001b[39m.\u001b[39;49m_grammar_checker\u001b[39m.\u001b[39;49manalyze(document)\n\u001b[0;32m     51\u001b[0m \u001b[39mreturn\u001b[39;00m document\n",
      "\u001b[1;31mjava.lang.NullPointerException\u001b[0m: java.lang.NullPointerException: Cannot invoke \"String.length()\" because \"replacement\" is null"
     ]
    }
   ],
   "source": [
    "cogroo_df = get_essays_corrections_cogroo(essays, cogroo)\n",
    "cogroo_df.to_csv('../data/correction_cogroo.csv', sep='|', index=False)\n",
    "cogroo_df.head()"
   ]
  }
 ],
 "metadata": {
  "language_info": {
   "name": "python"
  },
  "orig_nbformat": 4
 },
 "nbformat": 4,
 "nbformat_minor": 2
}
