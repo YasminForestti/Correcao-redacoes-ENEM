{
 "cells": [
  {
   "cell_type": "code",
   "execution_count": 86,
   "metadata": {},
   "outputs": [],
   "source": [
    "import pandas as pd\n",
    "from sklearn.multiclass import OneVsOneClassifier, OneVsRestClassifier \n",
    "import matplotlib.pyplot as plt\n",
    "\n",
    "import numpy as np\n",
    "from sklearn.model_selection import train_test_split\n",
    "from sklearn.metrics import confusion_matrix, ConfusionMatrixDisplay\n",
    "from sklearn.preprocessing import MinMaxScaler\n",
    "from sklearn.model_selection import GridSearchCV\n",
    "from sklearn.metrics import make_scorer\n",
    "from sklearn.metrics import f1_score\n",
    "from sklearn.metrics import recall_score\n",
    "from sklearn.metrics import precision_score\n",
    "from sklearn.metrics import roc_curve\n",
    "from sklearn.metrics import roc_auc_score\n",
    "from sklearn.metrics import confusion_matrix\n",
    "from sklearn.metrics import accuracy_score\n",
    "from sklearn.metrics import r2_score\n",
    "from sklearn.metrics import mean_absolute_error\n",
    "from sklearn.metrics import mean_squared_error\n",
    "from sklearn.preprocessing import StandardScaler\n",
    "from sklearn.model_selection import train_test_split\n",
    "from sklearn.model_selection import KFold\n",
    "from sklearn.model_selection import StratifiedKFold\n",
    "from sklearn.model_selection import cross_val_score\n",
    "from sklearn.model_selection import GridSearchCV\n",
    "from sklearn.metrics import classification_report\n",
    "from sklearn.metrics import confusion_matrix\n",
    "from sklearn.metrics import accuracy_score\n",
    "from sklearn.pipeline import Pipeline\n",
    "from sklearn.linear_model import LogisticRegression\n",
    "from sklearn.tree import DecisionTreeClassifier\n",
    "from sklearn.neighbors import KNeighborsClassifier\n",
    "from sklearn.discriminant_analysis import LinearDiscriminantAnalysis\n",
    "from sklearn.naive_bayes import GaussianNB\n",
    "from sklearn.svm import SVC\n",
    "from sklearn.ensemble import AdaBoostClassifier\n",
    "from sklearn.ensemble import GradientBoostingClassifier\n",
    "from sklearn.ensemble import RandomForestClassifier\n",
    "from sklearn.ensemble import ExtraTreesClassifier"
   ]
  },
  {
   "cell_type": "markdown",
   "metadata": {},
   "source": [
    "### Import and analyse datasets"
   ]
  },
  {
   "cell_type": "code",
   "execution_count": 76,
   "metadata": {},
   "outputs": [],
   "source": [
    "dataset_tool_sofist = pd.read_csv(\"../data/model/dataset_tool_sofist.csv\")\n",
    "dataset_cogroo_sofist = pd.read_csv(\"../data/model/dataset_cogroo_sofist.csv\")\n"
   ]
  },
  {
   "cell_type": "code",
   "execution_count": 9,
   "metadata": {},
   "outputs": [
    {
     "data": {
      "text/plain": [
       "comp1\n",
       "1.0    880\n",
       "1.5    562\n",
       "0.5    424\n",
       "2.0    185\n",
       "0.0     93\n",
       "Name: count, dtype: int64"
      ]
     },
     "execution_count": 9,
     "metadata": {},
     "output_type": "execute_result"
    }
   ],
   "source": [
    "dataset_tool_sofist['comp1'].value_counts()"
   ]
  },
  {
   "cell_type": "markdown",
   "metadata": {},
   "source": [
    "### Pre-processing"
   ]
  },
  {
   "cell_type": "code",
   "execution_count": 91,
   "metadata": {},
   "outputs": [],
   "source": [
    "X1 = dataset_tool_sofist.drop(columns=['comp1', 'essay'])\n",
    "y1 = dataset_tool_sofist['comp1'].astype(str)\n",
    "train_X1, test_X1, train_y1, test_y1 = train_test_split(X1,y1, test_size=0.2, random_state=42)"
   ]
  },
  {
   "cell_type": "code",
   "execution_count": 90,
   "metadata": {},
   "outputs": [],
   "source": [
    "X2 = dataset_cogroo_sofist.drop(columns=['comp1', 'essay'])\n",
    "y2 = dataset_cogroo_sofist['comp1'].astype(str)\n",
    "train_X2, test_X2, train_y2, test_y2 = train_test_split(X2,y2, test_size=0.2, random_state=42)"
   ]
  },
  {
   "cell_type": "code",
   "execution_count": 89,
   "metadata": {},
   "outputs": [],
   "source": [
    "X3 =  dataset_tool_sofist[dataset_tool_sofist['comp1'] != '0.0'].drop(columns=['comp1', 'essay'])\n",
    "y3 = dataset_tool_sofist[dataset_tool_sofist['comp1'] != '0.0']['comp1'].astype(str)\n",
    "train_X3, test_X3, train_y3, test_y3 = train_test_split(X3,y3, test_size=0.2, random_state=42)"
   ]
  },
  {
   "cell_type": "code",
   "execution_count": 88,
   "metadata": {},
   "outputs": [],
   "source": [
    "X4 =  dataset_cogroo_sofist[dataset_cogroo_sofist['comp1'] != '0.0'].drop(columns=['comp1', 'essay'])\n",
    "y4 = dataset_cogroo_sofist[dataset_cogroo_sofist['comp1'] != '0.0']['comp1'].astype(str)\n",
    "train_X4, test_X4, train_y4, test_y4 = train_test_split(X4,y4, test_size=0.2, random_state=42)"
   ]
  },
  {
   "cell_type": "markdown",
   "metadata": {},
   "source": [
    "### Generating Models"
   ]
  },
  {
   "cell_type": "code",
   "execution_count": 66,
   "metadata": {},
   "outputs": [],
   "source": [
    "def calculate_metrics(model, _x_train, _y_train, _x_test, _y_test):\n",
    "    train_metric = model.score(_x_train, _y_train)\n",
    "    test_metric = model.score(_x_test, _y_test) \n",
    "    _y_pred = model.predict(_x_test)\n",
    "    classes = model.classes_\n",
    "    metrics = [\n",
    "        [\"train\", train_metric],\n",
    "        [\"test\", test_metric],\n",
    "        [\"accuracy\", accuracy_score(_y_test, _y_pred)],\n",
    "        [\"f1-macro\", f1_score(_y_test, _y_pred, average='macro')],\n",
    "        [\"mean-squared-error\", mean_squared_error(_y_test, _y_pred)]\n",
    "    ]\n",
    "    return metrics"
   ]
  },
  {
   "cell_type": "code",
   "execution_count": 112,
   "metadata": {},
   "outputs": [],
   "source": [
    "from sklearn.preprocessing import StandardScaler\n",
    "from sklearn.preprocessing import MinMaxScaler\n",
    "\n",
    "\n",
    "def GetScaledModel(nameOfScaler, nameOfMulticlassPred):\n",
    "    \n",
    "    if nameOfScaler == 'standard':\n",
    "        scaler = StandardScaler()\n",
    "    elif nameOfScaler =='minmax':\n",
    "        scaler = MinMaxScaler()\n",
    "\n",
    "    if nameOfMulticlassPred == 'onevsone':\n",
    "        multiclass = OneVsOneClassifier\n",
    "    elif nameOfMulticlassPred == 'onevsrest':\n",
    "        multiclass = OneVsRestClassifier\n",
    "    pipelines = []\n",
    "    pipelines.append((nameOfScaler+'KNN' , Pipeline([('Scaler', scaler),('KNN' , multiclass(KNeighborsClassifier()))])))\n",
    "    pipelines.append((nameOfScaler+'NB'  , Pipeline([('Scaler', scaler),('NB'  , multiclass(GaussianNB()))])))\n",
    "    pipelines.append((nameOfScaler+'SVM' , Pipeline([('Scaler', scaler),('SVM' , multiclass(SVC()))])))\n",
    "    pipelines.append((nameOfScaler+'AB'  , Pipeline([('Scaler', scaler),('AB'  , multiclass(AdaBoostClassifier()))])  ))\n",
    "    pipelines.append((nameOfScaler+'GBM' , Pipeline([('Scaler', scaler),('GMB' , multiclass(GradientBoostingClassifier()))])))\n",
    "    pipelines.append((nameOfScaler+'RF'  , Pipeline([('Scaler', scaler),('RF'  , multiclass(RandomForestClassifier()))])))\n",
    "    pipelines.append((nameOfScaler+'KNN' , Pipeline([('Scaler', scaler),('KNN' , multiclass(KNeighborsClassifier()))])))\n",
    "    pipelines.append((nameOfScaler+'NB'  , Pipeline([('Scaler', scaler),('NB'  , multiclass(GaussianNB()))])))\n",
    "    pipelines.append((nameOfScaler+'SVM' , Pipeline([('Scaler', scaler),('SVM' , multiclass(SVC()))])))\n",
    "    pipelines.append((nameOfScaler+'AB'  , Pipeline([('Scaler', scaler),('AB'  , multiclass(AdaBoostClassifier()))])  ))\n",
    "    pipelines.append((nameOfScaler+'GBM' , Pipeline([('Scaler', scaler),('GMB' , multiclass(GradientBoostingClassifier()))])))\n",
    "    pipelines.append((nameOfScaler+'RF'  , Pipeline([('Scaler', scaler),('RF'  , multiclass(RandomForestClassifier()))])))\n",
    "    return pipelines"
   ]
  },
  {
   "cell_type": "code",
   "execution_count": 119,
   "metadata": {},
   "outputs": [],
   "source": [
    "def BasedLine2(X_train, y_train,models):\n",
    "    # Test options and evaluation metric\n",
    "    num_folds = 10\n",
    "    scoring = 'accuracy'\n",
    "\n",
    "    results = []\n",
    "    names = []\n",
    "    for name, model in models:\n",
    "        kfold = StratifiedKFold(n_splits=num_folds)\n",
    "        print(model)\n",
    "        cv_results = cross_val_score(model, X_train, y_train, cv=kfold, scoring=scoring)\n",
    "        results.append(cv_results)\n",
    "        names.append(name)\n",
    "        msg = \"%s: %f (%f)\" % (name, cv_results.mean(), cv_results.std())\n",
    "        print(msg)\n",
    "        \n",
    "    return names, results"
   ]
  },
  {
   "cell_type": "code",
   "execution_count": 120,
   "metadata": {},
   "outputs": [
    {
     "name": "stdout",
     "output_type": "stream",
     "text": [
      "Pipeline(steps=[('Scaler', MinMaxScaler()),\n",
      "                ('KNN', OneVsOneClassifier(estimator=KNeighborsClassifier()))])\n",
      "minmaxKNN: 0.386648 (0.029816)\n",
      "Pipeline(steps=[('Scaler', MinMaxScaler()),\n",
      "                ('NB', OneVsOneClassifier(estimator=GaussianNB()))])\n",
      "minmaxNB: 0.339416 (0.093299)\n"
     ]
    },
    {
     "data": {
      "text/plain": [
       "[('minmaxKNN',\n",
       "  Pipeline(steps=[('Scaler', MinMaxScaler()),\n",
       "                  ('KNN', OneVsOneClassifier(estimator=KNeighborsClassifier()))])),\n",
       " ('minmaxNB',\n",
       "  Pipeline(steps=[('Scaler', MinMaxScaler()),\n",
       "                  ('NB', OneVsOneClassifier(estimator=GaussianNB()))]))]"
      ]
     },
     "execution_count": 120,
     "metadata": {},
     "output_type": "execute_result"
    }
   ],
   "source": [
    "models = GetScaledModel('minmax', 'onevsone')\n",
    "names,results = BasedLine2(train_X1, train_y1,models)\n",
    "models"
   ]
  }
 ],
 "metadata": {
  "language_info": {
   "name": "python"
  },
  "orig_nbformat": 4
 },
 "nbformat": 4,
 "nbformat_minor": 2
}
