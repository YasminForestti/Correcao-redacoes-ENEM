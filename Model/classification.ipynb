{
 "cells": [
  {
   "cell_type": "code",
   "execution_count": 2,
   "metadata": {},
   "outputs": [],
   "source": [
    "import pandas as pd\n",
    "from sklearn.multiclass import OneVsOneClassifier, OneVsRestClassifier \n",
    "import matplotlib.pyplot as plt\n",
    "from sklearn.metrics import precision_recall_fscore_support\n",
    "import numpy as np\n",
    "from sklearn.model_selection import train_test_split\n",
    "from imblearn.under_sampling import RandomUnderSampler\n",
    "import seaborn as sns\n",
    "from sklearn.metrics import confusion_matrix, ConfusionMatrixDisplay\n",
    "from sklearn.preprocessing import MinMaxScaler\n",
    "from sklearn.model_selection import GridSearchCV\n",
    "from sklearn.metrics import make_scorer\n",
    "from sklearn.metrics import f1_score\n",
    "from sklearn.metrics import recall_score\n",
    "from sklearn.metrics import precision_score\n",
    "from sklearn.metrics import roc_curve\n",
    "from sklearn.metrics import roc_auc_score\n",
    "from sklearn.metrics import confusion_matrix\n",
    "from sklearn.metrics import accuracy_score\n",
    "from sklearn.metrics import r2_score\n",
    "from sklearn.metrics import mean_absolute_error\n",
    "from sklearn.metrics import mean_squared_error\n",
    "from sklearn.preprocessing import StandardScaler\n",
    "from sklearn.model_selection import train_test_split\n",
    "from sklearn.model_selection import KFold\n",
    "from sklearn.model_selection import StratifiedKFold\n",
    "from sklearn.model_selection import cross_val_score\n",
    "from sklearn.model_selection import GridSearchCV\n",
    "from sklearn.metrics import classification_report\n",
    "from sklearn.metrics import confusion_matrix\n",
    "from sklearn.metrics import accuracy_score\n",
    "from sklearn.pipeline import Pipeline\n",
    "from sklearn.linear_model import LogisticRegression\n",
    "from sklearn.tree import DecisionTreeClassifier\n",
    "from sklearn.neighbors import KNeighborsClassifier\n",
    "from sklearn.discriminant_analysis import LinearDiscriminantAnalysis\n",
    "from sklearn.naive_bayes import GaussianNB\n",
    "from sklearn.svm import SVC\n",
    "from sklearn.ensemble import AdaBoostClassifier\n",
    "from sklearn.ensemble import GradientBoostingClassifier\n",
    "from sklearn.ensemble import RandomForestClassifier\n",
    "from sklearn.ensemble import ExtraTreesClassifier"
   ]
  },
  {
   "cell_type": "markdown",
   "metadata": {},
   "source": [
    "### Import and analyse datasets"
   ]
  },
  {
   "cell_type": "code",
   "execution_count": 3,
   "metadata": {},
   "outputs": [],
   "source": [
    "dataset_tool_sofist_comma = pd.read_csv(\"../data/model/dataset_tool_sofist_comma.csv\")\n",
    "dataset_cogroo_sofist_comma = pd.read_csv(\"../data/model/dataset_cogroo_sofist_comma.csv\")"
   ]
  },
  {
   "cell_type": "code",
   "execution_count": 4,
   "metadata": {},
   "outputs": [
    {
     "data": {
      "text/plain": [
       "Index(['essay', 'comp1', 'CASING', 'CLICHES', 'COMPOUNDING', 'CONFUSED_WORDS',\n",
       "       'CONTRACTIONS', 'FORMAL_SPEECH', 'GRAMMAR', 'MISC', 'MISSPELLING',\n",
       "       'PUNCTUATION', 'REDACTION_TIPS', 'REDUNDANCY', 'REPETITIONS', 'STYLE',\n",
       "       'SYNTAX', 'TYPOS', '#correções tool_language', 'palavras_por_texto',\n",
       "       'paragrafos_por_texto', 'palavras_no_paragrafo_1',\n",
       "       'palavras_no_ultimo_paragrafo', 'palavras_nos_intermediarios',\n",
       "       'palavras_unicas', 'quantidade_de_sentencas_longas',\n",
       "       'quantidade_de_paragrafos_com_sentenca_unica', 'comma_mistakes'],\n",
       "      dtype='object')"
      ]
     },
     "execution_count": 4,
     "metadata": {},
     "output_type": "execute_result"
    }
   ],
   "source": [
    "dataset_tool_sofist_comma.columns"
   ]
  },
  {
   "cell_type": "code",
   "execution_count": 5,
   "metadata": {},
   "outputs": [
    {
     "data": {
      "text/plain": [
       "Index(['essay', 'comp1', 'government:GOVERNMENT', 'probs:paronyms',\n",
       "       'punctuation:BEFORE_SENTENCES', 'repetition:DUPLICATED_TOKEN', 'xml:1',\n",
       "       'xml:10', 'xml:103', 'xml:104', 'xml:105', 'xml:107', 'xml:11',\n",
       "       'xml:111', 'xml:113', 'xml:114', 'xml:115', 'xml:117', 'xml:118',\n",
       "       'xml:121', 'xml:122', 'xml:124', 'xml:127', 'xml:128', 'xml:129',\n",
       "       'xml:13', 'xml:14', 'xml:17', 'xml:2', 'xml:21', 'xml:3', 'xml:39',\n",
       "       'xml:4', 'xml:40', 'xml:46', 'xml:47', 'xml:5', 'xml:50', 'xml:51',\n",
       "       'xml:52', 'xml:57', 'xml:58', 'xml:6', 'xml:61', 'xml:65', 'xml:67',\n",
       "       'xml:71', 'xml:73', 'xml:78', 'xml:79', 'xml:82', 'xml:84', 'xml:86',\n",
       "       'xml:87', 'xml:88', 'xml:9', 'xml:91', 'xml:95', 'xml:96', 'xml:97',\n",
       "       '#correções cogroo', 'palavras_por_texto', 'paragrafos_por_texto',\n",
       "       'palavras_no_paragrafo_1', 'palavras_no_ultimo_paragrafo',\n",
       "       'palavras_nos_intermediarios', 'palavras_unicas',\n",
       "       'quantidade_de_sentencas_longas',\n",
       "       'quantidade_de_paragrafos_com_sentenca_unica', 'comma_mistakes',\n",
       "       'TYPOS'],\n",
       "      dtype='object')"
      ]
     },
     "execution_count": 5,
     "metadata": {},
     "output_type": "execute_result"
    }
   ],
   "source": [
    "dataset_cogroo_sofist_comma.columns"
   ]
  },
  {
   "cell_type": "markdown",
   "metadata": {},
   "source": [
    "### Pre-processing"
   ]
  },
  {
   "cell_type": "code",
   "execution_count": 6,
   "metadata": {},
   "outputs": [],
   "source": [
    "X1 = dataset_tool_sofist_comma.drop(columns=['comp1', 'essay'])\n",
    "y1 = dataset_tool_sofist_comma['comp1'].astype(str)\n",
    "train_X1, test_X1, train_y1, test_y1 = train_test_split(X1,y1, test_size=0.2, random_state=42)"
   ]
  },
  {
   "cell_type": "code",
   "execution_count": 7,
   "metadata": {},
   "outputs": [
    {
     "data": {
      "text/plain": [
       "comp1\n",
       "1.0    887\n",
       "1.5    567\n",
       "0.5    428\n",
       "2.0    189\n",
       "0.0     93\n",
       "Name: count, dtype: int64"
      ]
     },
     "execution_count": 7,
     "metadata": {},
     "output_type": "execute_result"
    }
   ],
   "source": [
    "y1.value_counts()"
   ]
  },
  {
   "cell_type": "code",
   "execution_count": 8,
   "metadata": {},
   "outputs": [],
   "source": [
    "X2 = dataset_cogroo_sofist_comma.drop(columns=['comp1', 'essay'])\n",
    "y2 = dataset_cogroo_sofist_comma['comp1'].astype(str)\n",
    "train_X2, test_X2, train_y2, test_y2 = train_test_split(X2,y2, test_size=0.2, random_state=42)"
   ]
  },
  {
   "cell_type": "code",
   "execution_count": 9,
   "metadata": {},
   "outputs": [
    {
     "data": {
      "text/plain": [
       "comp1\n",
       "1.0    887\n",
       "1.5    567\n",
       "0.5    428\n",
       "2.0    189\n",
       "0.0     93\n",
       "Name: count, dtype: int64"
      ]
     },
     "execution_count": 9,
     "metadata": {},
     "output_type": "execute_result"
    }
   ],
   "source": [
    "y2.value_counts()"
   ]
  },
  {
   "cell_type": "code",
   "execution_count": 10,
   "metadata": {},
   "outputs": [],
   "source": [
    "undersample = RandomUnderSampler(sampling_strategy='not minority')\n",
    "train_X1_under, train_y1_under = undersample.fit_resample(train_X1, train_y1)\n",
    "train_X2_under, train_y2_under = undersample.fit_resample(train_X2, train_y2)"
   ]
  },
  {
   "cell_type": "code",
   "execution_count": 11,
   "metadata": {},
   "outputs": [
    {
     "data": {
      "text/plain": [
       "comp1\n",
       "0.0    73\n",
       "0.5    73\n",
       "1.0    73\n",
       "1.5    73\n",
       "2.0    73\n",
       "Name: count, dtype: int64"
      ]
     },
     "execution_count": 11,
     "metadata": {},
     "output_type": "execute_result"
    }
   ],
   "source": [
    "train_y1_under.value_counts()"
   ]
  },
  {
   "cell_type": "code",
   "execution_count": 12,
   "metadata": {},
   "outputs": [
    {
     "data": {
      "text/plain": [
       "comp1\n",
       "0.0    73\n",
       "0.5    73\n",
       "1.0    73\n",
       "1.5    73\n",
       "2.0    73\n",
       "Name: count, dtype: int64"
      ]
     },
     "execution_count": 12,
     "metadata": {},
     "output_type": "execute_result"
    }
   ],
   "source": [
    "train_y2_under.value_counts()"
   ]
  },
  {
   "cell_type": "markdown",
   "metadata": {},
   "source": [
    "### Generating Models"
   ]
  },
  {
   "cell_type": "code",
   "execution_count": 13,
   "metadata": {},
   "outputs": [],
   "source": [
    "def calculate_metrics(model, _x_train, _y_train, _x_test, _y_test):\n",
    "    train_metric = model.score(_x_train, _y_train)\n",
    "    test_metric = model.score(_x_test, _y_test) \n",
    "    _y_pred = model.predict(_x_test)\n",
    "    classes = model.classes_\n",
    "    metrics = [\n",
    "        [\"train\", train_metric],\n",
    "        [\"test\", test_metric],\n",
    "        [\"accuracy\", accuracy_score(_y_test, _y_pred)],\n",
    "        [\"f1-macro\", f1_score(_y_test, _y_pred, average='macro')],\n",
    "        [\"mean-squared-error\", mean_squared_error(_y_test, _y_pred)]\n",
    "    ]\n",
    "    return metrics"
   ]
  },
  {
   "cell_type": "code",
   "execution_count": 14,
   "metadata": {},
   "outputs": [],
   "source": [
    "from sklearn.preprocessing import StandardScaler\n",
    "from sklearn.preprocessing import MinMaxScaler\n",
    "\n",
    "\n",
    "def GetScaledModel(nameOfScaler):\n",
    "    pipelines = []\n",
    "    if nameOfScaler == 'standard':\n",
    "        scaler = StandardScaler()\n",
    "    elif nameOfScaler =='minmax':\n",
    "        scaler = MinMaxScaler()\n",
    "    \n",
    "    pipelines.append((nameOfScaler+'KNN' , Pipeline([('Scaler', scaler),('KNN' ,KNeighborsClassifier())])))\n",
    "    pipelines.append((nameOfScaler+'NB'  , Pipeline([('Scaler', scaler),('NB'  ,GaussianNB())])))\n",
    "    pipelines.append((nameOfScaler+'SVM' , Pipeline([('Scaler', scaler),('SVM' ,SVC())])))\n",
    "    pipelines.append((nameOfScaler+'AB'  , Pipeline([('Scaler', scaler),('AB'  ,AdaBoostClassifier())])  ))\n",
    "    pipelines.append((nameOfScaler+'GBM' , Pipeline([('Scaler', scaler),('GMB' ,GradientBoostingClassifier())])))\n",
    "    pipelines.append((nameOfScaler+'RF'  , Pipeline([('Scaler', scaler),('RF'  ,RandomForestClassifier())])))\n",
    "\n",
    "    return pipelines"
   ]
  },
  {
   "cell_type": "code",
   "execution_count": 15,
   "metadata": {},
   "outputs": [],
   "source": [
    "def BasedLine2(X_train, y_train,models):\n",
    "    # Test options and evaluation metric\n",
    "    num_folds = 10\n",
    "    scoring = 'f1_weighted'\n",
    "\n",
    "    results = {}\n",
    "    for name, model in models:\n",
    "        kfold = StratifiedKFold(n_splits=num_folds)\n",
    "        # print(model)\n",
    "        cv_results = cross_val_score(model, X_train, y_train, cv=kfold, scoring=scoring)\n",
    "        results[f'{name}'] = cv_results\n",
    "        msg = \"%s: %f (%f)\" % (name, cv_results.mean(), cv_results.std())\n",
    "  \n",
    "    return results"
   ]
  },
  {
   "cell_type": "markdown",
   "metadata": {},
   "source": [
    "- Testing for language tool"
   ]
  },
  {
   "cell_type": "code",
   "execution_count": 16,
   "metadata": {},
   "outputs": [],
   "source": [
    "models = GetScaledModel('minmax')\n",
    "results = BasedLine2(train_X1, train_y1,models)"
   ]
  },
  {
   "cell_type": "code",
   "execution_count": 17,
   "metadata": {},
   "outputs": [
    {
     "data": {
      "text/html": [
       "<div>\n",
       "<style scoped>\n",
       "    .dataframe tbody tr th:only-of-type {\n",
       "        vertical-align: middle;\n",
       "    }\n",
       "\n",
       "    .dataframe tbody tr th {\n",
       "        vertical-align: top;\n",
       "    }\n",
       "\n",
       "    .dataframe thead th {\n",
       "        text-align: right;\n",
       "    }\n",
       "</style>\n",
       "<table border=\"1\" class=\"dataframe\">\n",
       "  <thead>\n",
       "    <tr style=\"text-align: right;\">\n",
       "      <th></th>\n",
       "      <th>minmaxKNN</th>\n",
       "      <th>minmaxNB</th>\n",
       "      <th>minmaxSVM</th>\n",
       "      <th>minmaxAB</th>\n",
       "      <th>minmaxGBM</th>\n",
       "      <th>minmaxRF</th>\n",
       "    </tr>\n",
       "  </thead>\n",
       "  <tbody>\n",
       "    <tr>\n",
       "      <th>0</th>\n",
       "      <td>0.358919</td>\n",
       "      <td>0.325002</td>\n",
       "      <td>0.401563</td>\n",
       "      <td>0.394841</td>\n",
       "      <td>0.387970</td>\n",
       "      <td>0.402702</td>\n",
       "    </tr>\n",
       "    <tr>\n",
       "      <th>1</th>\n",
       "      <td>0.329917</td>\n",
       "      <td>0.326328</td>\n",
       "      <td>0.361958</td>\n",
       "      <td>0.352449</td>\n",
       "      <td>0.339398</td>\n",
       "      <td>0.343063</td>\n",
       "    </tr>\n",
       "    <tr>\n",
       "      <th>2</th>\n",
       "      <td>0.314453</td>\n",
       "      <td>0.283995</td>\n",
       "      <td>0.325766</td>\n",
       "      <td>0.391231</td>\n",
       "      <td>0.376512</td>\n",
       "      <td>0.404927</td>\n",
       "    </tr>\n",
       "    <tr>\n",
       "      <th>3</th>\n",
       "      <td>0.371026</td>\n",
       "      <td>0.313682</td>\n",
       "      <td>0.322678</td>\n",
       "      <td>0.425857</td>\n",
       "      <td>0.387509</td>\n",
       "      <td>0.393725</td>\n",
       "    </tr>\n",
       "    <tr>\n",
       "      <th>4</th>\n",
       "      <td>0.307810</td>\n",
       "      <td>0.045312</td>\n",
       "      <td>0.347744</td>\n",
       "      <td>0.391391</td>\n",
       "      <td>0.403349</td>\n",
       "      <td>0.381763</td>\n",
       "    </tr>\n",
       "  </tbody>\n",
       "</table>\n",
       "</div>"
      ],
      "text/plain": [
       "   minmaxKNN  minmaxNB  minmaxSVM  minmaxAB  minmaxGBM  minmaxRF\n",
       "0   0.358919  0.325002   0.401563  0.394841   0.387970  0.402702\n",
       "1   0.329917  0.326328   0.361958  0.352449   0.339398  0.343063\n",
       "2   0.314453  0.283995   0.325766  0.391231   0.376512  0.404927\n",
       "3   0.371026  0.313682   0.322678  0.425857   0.387509  0.393725\n",
       "4   0.307810  0.045312   0.347744  0.391391   0.403349  0.381763"
      ]
     },
     "execution_count": 17,
     "metadata": {},
     "output_type": "execute_result"
    }
   ],
   "source": [
    "tool_results = pd.DataFrame(results)\n",
    "tool_results.head()"
   ]
  },
  {
   "cell_type": "code",
   "execution_count": 18,
   "metadata": {},
   "outputs": [],
   "source": [
    "models = GetScaledModel('minmax')\n",
    "results = BasedLine2(train_X1_under, train_y1_under,models)"
   ]
  },
  {
   "cell_type": "code",
   "execution_count": 19,
   "metadata": {},
   "outputs": [
    {
     "data": {
      "text/html": [
       "<div>\n",
       "<style scoped>\n",
       "    .dataframe tbody tr th:only-of-type {\n",
       "        vertical-align: middle;\n",
       "    }\n",
       "\n",
       "    .dataframe tbody tr th {\n",
       "        vertical-align: top;\n",
       "    }\n",
       "\n",
       "    .dataframe thead th {\n",
       "        text-align: right;\n",
       "    }\n",
       "</style>\n",
       "<table border=\"1\" class=\"dataframe\">\n",
       "  <thead>\n",
       "    <tr style=\"text-align: right;\">\n",
       "      <th></th>\n",
       "      <th>minmaxKNN</th>\n",
       "      <th>minmaxNB</th>\n",
       "      <th>minmaxSVM</th>\n",
       "      <th>minmaxAB</th>\n",
       "      <th>minmaxGBM</th>\n",
       "      <th>minmaxRF</th>\n",
       "    </tr>\n",
       "  </thead>\n",
       "  <tbody>\n",
       "    <tr>\n",
       "      <th>0</th>\n",
       "      <td>0.233532</td>\n",
       "      <td>0.231397</td>\n",
       "      <td>0.220325</td>\n",
       "      <td>0.288706</td>\n",
       "      <td>0.179253</td>\n",
       "      <td>0.165327</td>\n",
       "    </tr>\n",
       "    <tr>\n",
       "      <th>1</th>\n",
       "      <td>0.309710</td>\n",
       "      <td>0.282828</td>\n",
       "      <td>0.405469</td>\n",
       "      <td>0.365877</td>\n",
       "      <td>0.400906</td>\n",
       "      <td>0.336424</td>\n",
       "    </tr>\n",
       "    <tr>\n",
       "      <th>2</th>\n",
       "      <td>0.262487</td>\n",
       "      <td>0.113256</td>\n",
       "      <td>0.296097</td>\n",
       "      <td>0.149247</td>\n",
       "      <td>0.267544</td>\n",
       "      <td>0.265801</td>\n",
       "    </tr>\n",
       "    <tr>\n",
       "      <th>3</th>\n",
       "      <td>0.078113</td>\n",
       "      <td>0.231555</td>\n",
       "      <td>0.329673</td>\n",
       "      <td>0.319665</td>\n",
       "      <td>0.212648</td>\n",
       "      <td>0.220998</td>\n",
       "    </tr>\n",
       "    <tr>\n",
       "      <th>4</th>\n",
       "      <td>0.295215</td>\n",
       "      <td>0.177400</td>\n",
       "      <td>0.366581</td>\n",
       "      <td>0.220978</td>\n",
       "      <td>0.322490</td>\n",
       "      <td>0.331412</td>\n",
       "    </tr>\n",
       "  </tbody>\n",
       "</table>\n",
       "</div>"
      ],
      "text/plain": [
       "   minmaxKNN  minmaxNB  minmaxSVM  minmaxAB  minmaxGBM  minmaxRF\n",
       "0   0.233532  0.231397   0.220325  0.288706   0.179253  0.165327\n",
       "1   0.309710  0.282828   0.405469  0.365877   0.400906  0.336424\n",
       "2   0.262487  0.113256   0.296097  0.149247   0.267544  0.265801\n",
       "3   0.078113  0.231555   0.329673  0.319665   0.212648  0.220998\n",
       "4   0.295215  0.177400   0.366581  0.220978   0.322490  0.331412"
      ]
     },
     "execution_count": 19,
     "metadata": {},
     "output_type": "execute_result"
    }
   ],
   "source": [
    "tool_results_under = pd.DataFrame(results)\n",
    "tool_results_under.head()"
   ]
  },
  {
   "cell_type": "markdown",
   "metadata": {},
   "source": [
    "- Testing for Cogroo"
   ]
  },
  {
   "cell_type": "code",
   "execution_count": 20,
   "metadata": {},
   "outputs": [],
   "source": [
    "models = GetScaledModel('minmax')\n",
    "results = BasedLine2(train_X2, train_y2,models)"
   ]
  },
  {
   "cell_type": "code",
   "execution_count": 21,
   "metadata": {},
   "outputs": [
    {
     "data": {
      "text/html": [
       "<div>\n",
       "<style scoped>\n",
       "    .dataframe tbody tr th:only-of-type {\n",
       "        vertical-align: middle;\n",
       "    }\n",
       "\n",
       "    .dataframe tbody tr th {\n",
       "        vertical-align: top;\n",
       "    }\n",
       "\n",
       "    .dataframe thead th {\n",
       "        text-align: right;\n",
       "    }\n",
       "</style>\n",
       "<table border=\"1\" class=\"dataframe\">\n",
       "  <thead>\n",
       "    <tr style=\"text-align: right;\">\n",
       "      <th></th>\n",
       "      <th>minmaxKNN</th>\n",
       "      <th>minmaxNB</th>\n",
       "      <th>minmaxSVM</th>\n",
       "      <th>minmaxAB</th>\n",
       "      <th>minmaxGBM</th>\n",
       "      <th>minmaxRF</th>\n",
       "    </tr>\n",
       "  </thead>\n",
       "  <tbody>\n",
       "    <tr>\n",
       "      <th>0</th>\n",
       "      <td>0.322077</td>\n",
       "      <td>0.028851</td>\n",
       "      <td>0.298791</td>\n",
       "      <td>0.420564</td>\n",
       "      <td>0.374063</td>\n",
       "      <td>0.367837</td>\n",
       "    </tr>\n",
       "    <tr>\n",
       "      <th>1</th>\n",
       "      <td>0.332731</td>\n",
       "      <td>0.070882</td>\n",
       "      <td>0.291780</td>\n",
       "      <td>0.368266</td>\n",
       "      <td>0.386190</td>\n",
       "      <td>0.400443</td>\n",
       "    </tr>\n",
       "    <tr>\n",
       "      <th>2</th>\n",
       "      <td>0.305286</td>\n",
       "      <td>0.061721</td>\n",
       "      <td>0.283119</td>\n",
       "      <td>0.395723</td>\n",
       "      <td>0.428609</td>\n",
       "      <td>0.402297</td>\n",
       "    </tr>\n",
       "    <tr>\n",
       "      <th>3</th>\n",
       "      <td>0.326433</td>\n",
       "      <td>0.044588</td>\n",
       "      <td>0.302809</td>\n",
       "      <td>0.359314</td>\n",
       "      <td>0.407004</td>\n",
       "      <td>0.350794</td>\n",
       "    </tr>\n",
       "    <tr>\n",
       "      <th>4</th>\n",
       "      <td>0.306806</td>\n",
       "      <td>0.070327</td>\n",
       "      <td>0.298064</td>\n",
       "      <td>0.337224</td>\n",
       "      <td>0.337868</td>\n",
       "      <td>0.369467</td>\n",
       "    </tr>\n",
       "  </tbody>\n",
       "</table>\n",
       "</div>"
      ],
      "text/plain": [
       "   minmaxKNN  minmaxNB  minmaxSVM  minmaxAB  minmaxGBM  minmaxRF\n",
       "0   0.322077  0.028851   0.298791  0.420564   0.374063  0.367837\n",
       "1   0.332731  0.070882   0.291780  0.368266   0.386190  0.400443\n",
       "2   0.305286  0.061721   0.283119  0.395723   0.428609  0.402297\n",
       "3   0.326433  0.044588   0.302809  0.359314   0.407004  0.350794\n",
       "4   0.306806  0.070327   0.298064  0.337224   0.337868  0.369467"
      ]
     },
     "execution_count": 21,
     "metadata": {},
     "output_type": "execute_result"
    }
   ],
   "source": [
    "cogroo_results = pd.DataFrame(results)\n",
    "cogroo_results.head()"
   ]
  },
  {
   "cell_type": "code",
   "execution_count": 22,
   "metadata": {},
   "outputs": [],
   "source": [
    "models = GetScaledModel('minmax')\n",
    "results = BasedLine2(train_X2_under, train_y2_under,models)"
   ]
  },
  {
   "cell_type": "code",
   "execution_count": 23,
   "metadata": {},
   "outputs": [
    {
     "data": {
      "text/html": [
       "<div>\n",
       "<style scoped>\n",
       "    .dataframe tbody tr th:only-of-type {\n",
       "        vertical-align: middle;\n",
       "    }\n",
       "\n",
       "    .dataframe tbody tr th {\n",
       "        vertical-align: top;\n",
       "    }\n",
       "\n",
       "    .dataframe thead th {\n",
       "        text-align: right;\n",
       "    }\n",
       "</style>\n",
       "<table border=\"1\" class=\"dataframe\">\n",
       "  <thead>\n",
       "    <tr style=\"text-align: right;\">\n",
       "      <th></th>\n",
       "      <th>minmaxKNN</th>\n",
       "      <th>minmaxNB</th>\n",
       "      <th>minmaxSVM</th>\n",
       "      <th>minmaxAB</th>\n",
       "      <th>minmaxGBM</th>\n",
       "      <th>minmaxRF</th>\n",
       "    </tr>\n",
       "  </thead>\n",
       "  <tbody>\n",
       "    <tr>\n",
       "      <th>0</th>\n",
       "      <td>0.322077</td>\n",
       "      <td>0.028851</td>\n",
       "      <td>0.298791</td>\n",
       "      <td>0.420564</td>\n",
       "      <td>0.374063</td>\n",
       "      <td>0.367837</td>\n",
       "    </tr>\n",
       "    <tr>\n",
       "      <th>1</th>\n",
       "      <td>0.332731</td>\n",
       "      <td>0.070882</td>\n",
       "      <td>0.291780</td>\n",
       "      <td>0.368266</td>\n",
       "      <td>0.386190</td>\n",
       "      <td>0.400443</td>\n",
       "    </tr>\n",
       "    <tr>\n",
       "      <th>2</th>\n",
       "      <td>0.305286</td>\n",
       "      <td>0.061721</td>\n",
       "      <td>0.283119</td>\n",
       "      <td>0.395723</td>\n",
       "      <td>0.428609</td>\n",
       "      <td>0.402297</td>\n",
       "    </tr>\n",
       "    <tr>\n",
       "      <th>3</th>\n",
       "      <td>0.326433</td>\n",
       "      <td>0.044588</td>\n",
       "      <td>0.302809</td>\n",
       "      <td>0.359314</td>\n",
       "      <td>0.407004</td>\n",
       "      <td>0.350794</td>\n",
       "    </tr>\n",
       "    <tr>\n",
       "      <th>4</th>\n",
       "      <td>0.306806</td>\n",
       "      <td>0.070327</td>\n",
       "      <td>0.298064</td>\n",
       "      <td>0.337224</td>\n",
       "      <td>0.337868</td>\n",
       "      <td>0.369467</td>\n",
       "    </tr>\n",
       "  </tbody>\n",
       "</table>\n",
       "</div>"
      ],
      "text/plain": [
       "   minmaxKNN  minmaxNB  minmaxSVM  minmaxAB  minmaxGBM  minmaxRF\n",
       "0   0.322077  0.028851   0.298791  0.420564   0.374063  0.367837\n",
       "1   0.332731  0.070882   0.291780  0.368266   0.386190  0.400443\n",
       "2   0.305286  0.061721   0.283119  0.395723   0.428609  0.402297\n",
       "3   0.326433  0.044588   0.302809  0.359314   0.407004  0.350794\n",
       "4   0.306806  0.070327   0.298064  0.337224   0.337868  0.369467"
      ]
     },
     "execution_count": 23,
     "metadata": {},
     "output_type": "execute_result"
    }
   ],
   "source": [
    "cogroo_results_under = pd.DataFrame(results)\n",
    "cogroo_results.head()"
   ]
  },
  {
   "cell_type": "markdown",
   "metadata": {},
   "source": [
    "- Generate Comparative Graph"
   ]
  },
  {
   "cell_type": "code",
   "execution_count": 24,
   "metadata": {},
   "outputs": [],
   "source": [
    "comp_df_tool = pd.melt(tool_results)\n",
    "comp_df_tool['fonte'] = 'language tool (sem undersampling)'\n",
    "comp_df_cogroo = pd.melt(cogroo_results)\n",
    "comp_df_cogroo['fonte'] = 'cogroo + hunspell (sem undersampling)'\n",
    "\n",
    "comp_df_tool_under = pd.melt(tool_results_under)\n",
    "comp_df_tool_under['fonte'] = 'language tool (com undersampling)'\n",
    "comp_df_cogroo_under = pd.melt(cogroo_results_under)\n",
    "comp_df_cogroo_under['fonte'] = 'cogroo + hunspell (com undersampling)'\n",
    "\n",
    "comp_df = pd.concat([comp_df_tool, comp_df_tool_under, comp_df_cogroo, comp_df_cogroo_under], axis=0)"
   ]
  },
  {
   "cell_type": "code",
   "execution_count": 25,
   "metadata": {},
   "outputs": [
    {
     "data": {
      "text/plain": [
       "Text(0.5, 0, 'Modelos')"
      ]
     },
     "execution_count": 25,
     "metadata": {},
     "output_type": "execute_result"
    },
    {
     "data": {
      "image/png": "[encoded data removed]",
      "text/plain": [
       "<Figure size 1000x400 with 1 Axes>"
      ]
     },
     "metadata": {},
     "output_type": "display_data"
    }
   ],
   "source": [
    "plt.figure(figsize = (10, 4))\n",
    "sns.barplot(comp_df, hue='fonte', x='variable', y='value')\n",
    "plt.title(\"Resultado do treino das combinações propostas\")\n",
    "plt.ylabel(\"F1 weighted Médio\")\n",
    "plt.xlabel(\"Modelos\")\n"
   ]
  },
  {
   "cell_type": "markdown",
   "metadata": {},
   "source": [
    "### Optimazing GradientBoostingClassifier"
   ]
  },
  {
   "cell_type": "code",
   "execution_count": 30,
   "metadata": {},
   "outputs": [],
   "source": [
    "scaler = MinMaxScaler()\n",
    "scale = scaler.fit(train_X1)\n",
    "train_X1_scaled = scale.fit_transform(train_X1)\n",
    "test_X1_scaled = scale.fit_transform(test_X1)"
   ]
  },
  {
   "cell_type": "code",
   "execution_count": 31,
   "metadata": {},
   "outputs": [],
   "source": [
    "param_grid = {\n",
    "    \"learning_rate\": [0.01, 0.025, 0.05, 0.075, 0.1, 0.15, 0.2],\n",
    "    \"min_samples_split\": np.linspace(0.1, 0.5, 5),\n",
    "    \"min_samples_leaf\": np.linspace(0.1, 0.5, 5),\n",
    "    \"max_depth\":[3,5,8],\n",
    "    \"max_features\":[\"log2\",\"sqrt\"],\n",
    "    \"subsample\":[0.5, 0.8, 0.9, 1.0],\n",
    "    \"n_estimators\":[8, 16, 32, 64, 100]\n",
    "}\n",
    "clf = GridSearchCV(GradientBoostingClassifier(), param_grid, scoring=\"f1_weighted\")"
   ]
  },
  {
   "cell_type": "code",
   "execution_count": 32,
   "metadata": {},
   "outputs": [],
   "source": [
    "gradient_boost_model = clf.fit(train_X1_scaled, train_y1)"
   ]
  },
  {
   "cell_type": "code",
   "execution_count": null,
   "metadata": {},
   "outputs": [],
   "source": [
    "clf_multiclass = OneVsOneClassifier(clf)"
   ]
  },
  {
   "cell_type": "code",
   "execution_count": null,
   "metadata": {},
   "outputs": [
    {
     "data": {
      "text/plain": [
       "0.46239067055393585"
      ]
     },
     "execution_count": 174,
     "metadata": {},
     "output_type": "execute_result"
    }
   ],
   "source": [
    "svm_model.score(train_X1_scaled, train_y1)"
   ]
  },
  {
   "cell_type": "code",
   "execution_count": null,
   "metadata": {},
   "outputs": [],
   "source": [
    "pred_y1 = svm_model.predict(test_X1_scaled)"
   ]
  },
  {
   "cell_type": "code",
   "execution_count": null,
   "metadata": {},
   "outputs": [
    {
     "data": {
      "text/plain": [
       "<sklearn.metrics._plot.confusion_matrix.ConfusionMatrixDisplay at 0x1dd58832500>"
      ]
     },
     "execution_count": 193,
     "metadata": {},
     "output_type": "execute_result"
    },
    {
     "data": {
      "image/png": "[encoded data removed]",
      "text/plain": [
       "<Figure size 640x480 with 2 Axes>"
      ]
     },
     "metadata": {},
     "output_type": "display_data"
    }
   ],
   "source": [
    "cm = confusion_matrix(test_y1, pred_y1, labels=svm_model.classes_)\n",
    "disp = ConfusionMatrixDisplay(confusion_matrix=cm,\n",
    "                                display_labels=svm_model.classes_)\n",
    "disp.plot()"
   ]
  },
  {
   "cell_type": "code",
   "execution_count": null,
   "metadata": {},
   "outputs": [
    {
     "name": "stdout",
     "output_type": "stream",
     "text": [
      "              precision    recall  f1-score   support\n",
      "\n",
      "         0.0       1.00      0.06      0.12        16\n",
      "         0.5       0.52      0.13      0.21       100\n",
      "         1.0       0.41      0.89      0.56       157\n",
      "         1.5       0.47      0.23      0.31       121\n",
      "         2.0       0.00      0.00      0.00        35\n",
      "\n",
      "    accuracy                           0.42       429\n",
      "   macro avg       0.48      0.26      0.24       429\n",
      "weighted avg       0.44      0.42      0.35       429\n",
      "\n"
     ]
    },
    {
     "name": "stderr",
     "output_type": "stream",
     "text": [
      "c:\\Users\\mwuillau\\Documents\\UFRJ\\Correcao-redacoes-ENEM\\env\\lib\\site-packages\\sklearn\\metrics\\_classification.py:1344: UndefinedMetricWarning: Precision and F-score are ill-defined and being set to 0.0 in labels with no predicted samples. Use `zero_division` parameter to control this behavior.\n",
      "  _warn_prf(average, modifier, msg_start, len(result))\n",
      "c:\\Users\\mwuillau\\Documents\\UFRJ\\Correcao-redacoes-ENEM\\env\\lib\\site-packages\\sklearn\\metrics\\_classification.py:1344: UndefinedMetricWarning: Precision and F-score are ill-defined and being set to 0.0 in labels with no predicted samples. Use `zero_division` parameter to control this behavior.\n",
      "  _warn_prf(average, modifier, msg_start, len(result))\n",
      "c:\\Users\\mwuillau\\Documents\\UFRJ\\Correcao-redacoes-ENEM\\env\\lib\\site-packages\\sklearn\\metrics\\_classification.py:1344: UndefinedMetricWarning: Precision and F-score are ill-defined and being set to 0.0 in labels with no predicted samples. Use `zero_division` parameter to control this behavior.\n",
      "  _warn_prf(average, modifier, msg_start, len(result))\n"
     ]
    }
   ],
   "source": [
    "print(classification_report(test_y1, pred_y1))"
   ]
  }
 ],
 "metadata": {
  "kernelspec": {
   "display_name": "env",
   "language": "python",
   "name": "python3"
  },
  "language_info": {
   "codemirror_mode": {
    "name": "ipython",
    "version": 3
   },
   "file_extension": ".py",
   "mimetype": "text/x-python",
   "name": "python",
   "nbconvert_exporter": "python",
   "pygments_lexer": "ipython3",
   "version": "3.10.3"
  },
  "orig_nbformat": 4
 },
 "nbformat": 4,
 "nbformat_minor": 2
}
