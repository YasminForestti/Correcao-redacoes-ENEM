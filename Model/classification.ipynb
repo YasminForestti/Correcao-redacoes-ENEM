{
 "cells": [
  {
   "cell_type": "code",
   "execution_count": 1,
   "metadata": {},
   "outputs": [],
   "source": [
    "import pandas as pd\n",
    "from sklearn.multiclass import OneVsOneClassifier, OneVsRestClassifier \n",
    "import matplotlib.pyplot as plt\n",
    "from sklearn.metrics import precision_recall_fscore_support\n",
    "import numpy as np\n",
    "from sklearn.model_selection import train_test_split\n",
    "from imblearn.under_sampling import RandomUnderSampler\n",
    "import seaborn as sns\n",
    "from sklearn.metrics import confusion_matrix, ConfusionMatrixDisplay\n",
    "from sklearn.preprocessing import MinMaxScaler\n",
    "from sklearn.model_selection import GridSearchCV\n",
    "from sklearn.metrics import make_scorer\n",
    "from sklearn.metrics import f1_score\n",
    "from sklearn.metrics import recall_score\n",
    "from sklearn.metrics import precision_score\n",
    "from sklearn.metrics import roc_curve\n",
    "from sklearn.metrics import roc_auc_score\n",
    "from sklearn.metrics import confusion_matrix\n",
    "from sklearn.metrics import accuracy_score\n",
    "from sklearn.metrics import r2_score\n",
    "from sklearn.metrics import mean_absolute_error\n",
    "from sklearn.metrics import mean_squared_error\n",
    "from sklearn.preprocessing import StandardScaler\n",
    "from sklearn.model_selection import train_test_split\n",
    "from sklearn.model_selection import KFold\n",
    "from sklearn.model_selection import StratifiedKFold\n",
    "from sklearn.model_selection import cross_val_score\n",
    "from sklearn.model_selection import GridSearchCV\n",
    "from sklearn.metrics import classification_report\n",
    "from sklearn.metrics import confusion_matrix\n",
    "from sklearn.metrics import accuracy_score\n",
    "from sklearn.pipeline import Pipeline\n",
    "from sklearn.linear_model import LogisticRegression\n",
    "from sklearn.tree import DecisionTreeClassifier\n",
    "from sklearn.neighbors import KNeighborsClassifier\n",
    "from sklearn.discriminant_analysis import LinearDiscriminantAnalysis\n",
    "from sklearn.naive_bayes import GaussianNB\n",
    "from sklearn.svm import SVC\n",
    "from sklearn.ensemble import AdaBoostClassifier\n",
    "from sklearn.ensemble import GradientBoostingClassifier\n",
    "from sklearn.ensemble import RandomForestClassifier\n",
    "from sklearn.ensemble import ExtraTreesClassifier"
   ]
  },
  {
   "cell_type": "markdown",
   "metadata": {},
   "source": [
    "### Import and analyse datasets"
   ]
  },
  {
   "cell_type": "code",
   "execution_count": 2,
   "metadata": {},
   "outputs": [],
   "source": [
    "dataset_tool_sofist_comma = pd.read_csv(\"../data/model/dataset_tool_sofist_comma.csv\")\n",
    "dataset_cogroo_sofist_comma = pd.read_csv(\"../data/model/dataset_cogroo_sofist_comma.csv\")"
   ]
  },
  {
   "cell_type": "code",
   "execution_count": 3,
   "metadata": {},
   "outputs": [
    {
     "data": {
      "text/plain": [
       "Index(['essay', 'comp1', 'CASING', 'CLICHES', 'COMPOUNDING', 'CONFUSED_WORDS',\n",
       "       'CONTRACTIONS', 'FORMAL_SPEECH', 'GRAMMAR', 'MISC', 'MISSPELLING',\n",
       "       'PUNCTUATION', 'REDACTION_TIPS', 'REDUNDANCY', 'REPETITIONS', 'STYLE',\n",
       "       'SYNTAX', 'TYPOS', '#correções tool_language', 'palavras_por_texto',\n",
       "       'paragrafos_por_texto', 'palavras_no_paragrafo_1',\n",
       "       'palavras_no_ultimo_paragrafo', 'palavras_nos_intermediarios',\n",
       "       'palavras_unicas', 'quantidade_de_sentencas_longas',\n",
       "       'quantidade_de_paragrafos_com_sentenca_unica', 'comma_mistakes'],\n",
       "      dtype='object')"
      ]
     },
     "execution_count": 3,
     "metadata": {},
     "output_type": "execute_result"
    }
   ],
   "source": [
    "dataset_tool_sofist_comma.columns"
   ]
  },
  {
   "cell_type": "code",
   "execution_count": 4,
   "metadata": {},
   "outputs": [
    {
     "data": {
      "text/plain": [
       "Index(['essay', 'comp1', 'government:GOVERNMENT', 'probs:paronyms',\n",
       "       'punctuation:BEFORE_SENTENCES', 'repetition:DUPLICATED_TOKEN', 'xml:1',\n",
       "       'xml:10', 'xml:103', 'xml:104', 'xml:105', 'xml:107', 'xml:11',\n",
       "       'xml:111', 'xml:113', 'xml:114', 'xml:115', 'xml:117', 'xml:118',\n",
       "       'xml:121', 'xml:122', 'xml:124', 'xml:127', 'xml:128', 'xml:129',\n",
       "       'xml:13', 'xml:14', 'xml:17', 'xml:2', 'xml:21', 'xml:3', 'xml:39',\n",
       "       'xml:4', 'xml:40', 'xml:46', 'xml:47', 'xml:5', 'xml:50', 'xml:51',\n",
       "       'xml:52', 'xml:57', 'xml:58', 'xml:6', 'xml:61', 'xml:65', 'xml:67',\n",
       "       'xml:71', 'xml:73', 'xml:78', 'xml:79', 'xml:82', 'xml:84', 'xml:86',\n",
       "       'xml:87', 'xml:88', 'xml:9', 'xml:91', 'xml:95', 'xml:96', 'xml:97',\n",
       "       '#correções cogroo', 'palavras_por_texto', 'paragrafos_por_texto',\n",
       "       'palavras_no_paragrafo_1', 'palavras_no_ultimo_paragrafo',\n",
       "       'palavras_nos_intermediarios', 'palavras_unicas',\n",
       "       'quantidade_de_sentencas_longas',\n",
       "       'quantidade_de_paragrafos_com_sentenca_unica', 'comma_mistakes',\n",
       "       'TYPOS'],\n",
       "      dtype='object')"
      ]
     },
     "execution_count": 4,
     "metadata": {},
     "output_type": "execute_result"
    }
   ],
   "source": [
    "dataset_cogroo_sofist_comma.columns"
   ]
  },
  {
   "cell_type": "markdown",
   "metadata": {},
   "source": [
    "### Pre-processing"
   ]
  },
  {
   "cell_type": "code",
   "execution_count": 5,
   "metadata": {},
   "outputs": [],
   "source": [
    "X1 = dataset_tool_sofist_comma.drop(columns=['comp1', 'essay'])\n",
    "y1 = dataset_tool_sofist_comma['comp1'].astype(str)\n",
    "train_X1, test_X1, train_y1, test_y1 = train_test_split(X1,y1, test_size=0.2, random_state=42)"
   ]
  },
  {
   "cell_type": "code",
   "execution_count": 6,
   "metadata": {},
   "outputs": [
    {
     "data": {
      "text/plain": [
       "comp1\n",
       "1.0    887\n",
       "1.5    567\n",
       "0.5    428\n",
       "2.0    189\n",
       "0.0     93\n",
       "Name: count, dtype: int64"
      ]
     },
     "execution_count": 6,
     "metadata": {},
     "output_type": "execute_result"
    }
   ],
   "source": [
    "y1.value_counts()"
   ]
  },
  {
   "cell_type": "code",
   "execution_count": 7,
   "metadata": {},
   "outputs": [],
   "source": [
    "X2 = dataset_cogroo_sofist_comma.drop(columns=['comp1', 'essay'])\n",
    "y2 = dataset_cogroo_sofist_comma['comp1'].astype(str)\n",
    "train_X2, test_X2, train_y2, test_y2 = train_test_split(X2,y2, test_size=0.2, random_state=42)"
   ]
  },
  {
   "cell_type": "code",
   "execution_count": 8,
   "metadata": {},
   "outputs": [
    {
     "data": {
      "text/plain": [
       "comp1\n",
       "1.0    887\n",
       "1.5    567\n",
       "0.5    428\n",
       "2.0    189\n",
       "0.0     93\n",
       "Name: count, dtype: int64"
      ]
     },
     "execution_count": 8,
     "metadata": {},
     "output_type": "execute_result"
    }
   ],
   "source": [
    "y2.value_counts()"
   ]
  },
  {
   "cell_type": "code",
   "execution_count": 9,
   "metadata": {},
   "outputs": [],
   "source": [
    "undersample = RandomUnderSampler(sampling_strategy='not minority')\n",
    "train_X1_under, train_y1_under = undersample.fit_resample(train_X1, train_y1)\n",
    "train_X2_under, train_y2_under = undersample.fit_resample(train_X2, train_y2)"
   ]
  },
  {
   "cell_type": "code",
   "execution_count": 10,
   "metadata": {},
   "outputs": [
    {
     "data": {
      "text/plain": [
       "comp1\n",
       "0.0    73\n",
       "0.5    73\n",
       "1.0    73\n",
       "1.5    73\n",
       "2.0    73\n",
       "Name: count, dtype: int64"
      ]
     },
     "execution_count": 10,
     "metadata": {},
     "output_type": "execute_result"
    }
   ],
   "source": [
    "train_y1_under.value_counts()"
   ]
  },
  {
   "cell_type": "code",
   "execution_count": 11,
   "metadata": {},
   "outputs": [
    {
     "data": {
      "text/plain": [
       "comp1\n",
       "0.0    73\n",
       "0.5    73\n",
       "1.0    73\n",
       "1.5    73\n",
       "2.0    73\n",
       "Name: count, dtype: int64"
      ]
     },
     "execution_count": 11,
     "metadata": {},
     "output_type": "execute_result"
    }
   ],
   "source": [
    "train_y2_under.value_counts()"
   ]
  },
  {
   "cell_type": "markdown",
   "metadata": {},
   "source": [
    "### Generating Models"
   ]
  },
  {
   "cell_type": "code",
   "execution_count": 30,
   "metadata": {},
   "outputs": [],
   "source": [
    "def calculate_metrics(model, _x_train, _y_train, _x_test, _y_test):\n",
    "    train_metric = model.score(_x_train, _y_train)\n",
    "    test_metric = model.score(_x_test, _y_test) \n",
    "    _y_pred = model.predict(_x_test)\n",
    "    classes = model.classes_\n",
    "    metrics = [\n",
    "        [\"train\", train_metric],\n",
    "        [\"test\", test_metric],\n",
    "        [\"accuracy\", accuracy_score(_y_test, _y_pred)],\n",
    "        [\"f1-weighted\", f1_score(_y_test, _y_pred, average='weighted')],\n",
    "        [\"mean-squared-error\", mean_squared_error(_y_test, _y_pred)]\n",
    "    ]\n",
    "    return metrics"
   ]
  },
  {
   "cell_type": "code",
   "execution_count": 61,
   "metadata": {},
   "outputs": [],
   "source": [
    "from sklearn.preprocessing import StandardScaler\n",
    "from sklearn.preprocessing import MinMaxScaler\n",
    "\n",
    "\n",
    "def GetScaledModel(nameOfScaler):\n",
    "    pipelines = []\n",
    "    if nameOfScaler == 'standard':\n",
    "        scaler = StandardScaler()\n",
    "    elif nameOfScaler =='minmax':\n",
    "        scaler = MinMaxScaler()\n",
    "    \n",
    "    pipelines.append((nameOfScaler+'KNN' , Pipeline([('Scaler', scaler),('KNN' ,KNeighborsClassifier())])))\n",
    "    pipelines.append((nameOfScaler+'NB'  , Pipeline([('Scaler', scaler),('NB'  ,GaussianNB())])))\n",
    "    pipelines.append((nameOfScaler+'SVM' , Pipeline([('Scaler', scaler),('SVM' ,SVC())])))\n",
    "    pipelines.append((nameOfScaler+'AB'  , Pipeline([('Scaler', scaler),('AB'  ,AdaBoostClassifier())])  ))\n",
    "    pipelines.append((nameOfScaler+'GBM' , Pipeline([('Scaler', scaler),('GMB' ,GradientBoostingClassifier())])))\n",
    "    pipelines.append((nameOfScaler+'RF'  , Pipeline([('Scaler', scaler),('RF'  ,RandomForestClassifier())])))\n",
    "\n",
    "    return pipelines"
   ]
  },
  {
   "cell_type": "code",
   "execution_count": 62,
   "metadata": {},
   "outputs": [],
   "source": [
    "def BasedLine2(X_train, y_train,models):\n",
    "    # Test options and evaluation metric\n",
    "    num_folds = 10\n",
    "    scoring = 'f1_weighted'\n",
    "\n",
    "    results = {}\n",
    "    for name, model in models:\n",
    "        kfold = StratifiedKFold(n_splits=num_folds)\n",
    "        # print(model)\n",
    "        cv_results = cross_val_score(model, X_train, y_train, cv=kfold, scoring=scoring)\n",
    "        results[f'{name}'] = cv_results\n",
    "        msg = \"%s: %f (%f)\" % (name, cv_results.mean(), cv_results.std())\n",
    "  \n",
    "    return results"
   ]
  },
  {
   "cell_type": "markdown",
   "metadata": {},
   "source": [
    "- Testing for language tool"
   ]
  },
  {
   "cell_type": "code",
   "execution_count": 63,
   "metadata": {},
   "outputs": [],
   "source": [
    "models = GetScaledModel('minmax')\n",
    "results = BasedLine2(train_X1, train_y1,models)"
   ]
  },
  {
   "cell_type": "code",
   "execution_count": 64,
   "metadata": {},
   "outputs": [
    {
     "data": {
      "text/html": [
       "<div>\n",
       "<style scoped>\n",
       "    .dataframe tbody tr th:only-of-type {\n",
       "        vertical-align: middle;\n",
       "    }\n",
       "\n",
       "    .dataframe tbody tr th {\n",
       "        vertical-align: top;\n",
       "    }\n",
       "\n",
       "    .dataframe thead th {\n",
       "        text-align: right;\n",
       "    }\n",
       "</style>\n",
       "<table border=\"1\" class=\"dataframe\">\n",
       "  <thead>\n",
       "    <tr style=\"text-align: right;\">\n",
       "      <th></th>\n",
       "      <th>minmaxKNN</th>\n",
       "      <th>minmaxNB</th>\n",
       "      <th>minmaxSVM</th>\n",
       "      <th>minmaxAB</th>\n",
       "      <th>minmaxGBM</th>\n",
       "      <th>minmaxRF</th>\n",
       "    </tr>\n",
       "  </thead>\n",
       "  <tbody>\n",
       "    <tr>\n",
       "      <th>0</th>\n",
       "      <td>0.358919</td>\n",
       "      <td>0.325002</td>\n",
       "      <td>0.401563</td>\n",
       "      <td>0.394841</td>\n",
       "      <td>0.388595</td>\n",
       "      <td>0.405643</td>\n",
       "    </tr>\n",
       "    <tr>\n",
       "      <th>1</th>\n",
       "      <td>0.329917</td>\n",
       "      <td>0.326328</td>\n",
       "      <td>0.361958</td>\n",
       "      <td>0.352449</td>\n",
       "      <td>0.344584</td>\n",
       "      <td>0.371423</td>\n",
       "    </tr>\n",
       "    <tr>\n",
       "      <th>2</th>\n",
       "      <td>0.314453</td>\n",
       "      <td>0.283995</td>\n",
       "      <td>0.325766</td>\n",
       "      <td>0.391231</td>\n",
       "      <td>0.408941</td>\n",
       "      <td>0.417810</td>\n",
       "    </tr>\n",
       "    <tr>\n",
       "      <th>3</th>\n",
       "      <td>0.371026</td>\n",
       "      <td>0.313682</td>\n",
       "      <td>0.322678</td>\n",
       "      <td>0.425857</td>\n",
       "      <td>0.381083</td>\n",
       "      <td>0.415463</td>\n",
       "    </tr>\n",
       "    <tr>\n",
       "      <th>4</th>\n",
       "      <td>0.307810</td>\n",
       "      <td>0.045312</td>\n",
       "      <td>0.347744</td>\n",
       "      <td>0.391391</td>\n",
       "      <td>0.411106</td>\n",
       "      <td>0.374132</td>\n",
       "    </tr>\n",
       "  </tbody>\n",
       "</table>\n",
       "</div>"
      ],
      "text/plain": [
       "   minmaxKNN  minmaxNB  minmaxSVM  minmaxAB  minmaxGBM  minmaxRF\n",
       "0   0.358919  0.325002   0.401563  0.394841   0.388595  0.405643\n",
       "1   0.329917  0.326328   0.361958  0.352449   0.344584  0.371423\n",
       "2   0.314453  0.283995   0.325766  0.391231   0.408941  0.417810\n",
       "3   0.371026  0.313682   0.322678  0.425857   0.381083  0.415463\n",
       "4   0.307810  0.045312   0.347744  0.391391   0.411106  0.374132"
      ]
     },
     "execution_count": 64,
     "metadata": {},
     "output_type": "execute_result"
    }
   ],
   "source": [
    "tool_results = pd.DataFrame(results)\n",
    "tool_results.head()"
   ]
  },
  {
   "cell_type": "code",
   "execution_count": 65,
   "metadata": {},
   "outputs": [],
   "source": [
    "models = GetScaledModel('minmax')\n",
    "results = BasedLine2(train_X1_under, train_y1_under,models)"
   ]
  },
  {
   "cell_type": "code",
   "execution_count": 66,
   "metadata": {},
   "outputs": [
    {
     "data": {
      "text/html": [
       "<div>\n",
       "<style scoped>\n",
       "    .dataframe tbody tr th:only-of-type {\n",
       "        vertical-align: middle;\n",
       "    }\n",
       "\n",
       "    .dataframe tbody tr th {\n",
       "        vertical-align: top;\n",
       "    }\n",
       "\n",
       "    .dataframe thead th {\n",
       "        text-align: right;\n",
       "    }\n",
       "</style>\n",
       "<table border=\"1\" class=\"dataframe\">\n",
       "  <thead>\n",
       "    <tr style=\"text-align: right;\">\n",
       "      <th></th>\n",
       "      <th>minmaxKNN</th>\n",
       "      <th>minmaxNB</th>\n",
       "      <th>minmaxSVM</th>\n",
       "      <th>minmaxAB</th>\n",
       "      <th>minmaxGBM</th>\n",
       "      <th>minmaxRF</th>\n",
       "    </tr>\n",
       "  </thead>\n",
       "  <tbody>\n",
       "    <tr>\n",
       "      <th>0</th>\n",
       "      <td>0.180816</td>\n",
       "      <td>0.220105</td>\n",
       "      <td>0.297297</td>\n",
       "      <td>0.215056</td>\n",
       "      <td>0.303502</td>\n",
       "      <td>0.355201</td>\n",
       "    </tr>\n",
       "    <tr>\n",
       "      <th>1</th>\n",
       "      <td>0.281004</td>\n",
       "      <td>0.151014</td>\n",
       "      <td>0.356724</td>\n",
       "      <td>0.235175</td>\n",
       "      <td>0.201262</td>\n",
       "      <td>0.306521</td>\n",
       "    </tr>\n",
       "    <tr>\n",
       "      <th>2</th>\n",
       "      <td>0.315989</td>\n",
       "      <td>0.175313</td>\n",
       "      <td>0.450887</td>\n",
       "      <td>0.282883</td>\n",
       "      <td>0.315741</td>\n",
       "      <td>0.373691</td>\n",
       "    </tr>\n",
       "    <tr>\n",
       "      <th>3</th>\n",
       "      <td>0.205631</td>\n",
       "      <td>0.179923</td>\n",
       "      <td>0.350397</td>\n",
       "      <td>0.276299</td>\n",
       "      <td>0.389792</td>\n",
       "      <td>0.395207</td>\n",
       "    </tr>\n",
       "    <tr>\n",
       "      <th>4</th>\n",
       "      <td>0.254796</td>\n",
       "      <td>0.176904</td>\n",
       "      <td>0.341600</td>\n",
       "      <td>0.320734</td>\n",
       "      <td>0.301351</td>\n",
       "      <td>0.341144</td>\n",
       "    </tr>\n",
       "  </tbody>\n",
       "</table>\n",
       "</div>"
      ],
      "text/plain": [
       "   minmaxKNN  minmaxNB  minmaxSVM  minmaxAB  minmaxGBM  minmaxRF\n",
       "0   0.180816  0.220105   0.297297  0.215056   0.303502  0.355201\n",
       "1   0.281004  0.151014   0.356724  0.235175   0.201262  0.306521\n",
       "2   0.315989  0.175313   0.450887  0.282883   0.315741  0.373691\n",
       "3   0.205631  0.179923   0.350397  0.276299   0.389792  0.395207\n",
       "4   0.254796  0.176904   0.341600  0.320734   0.301351  0.341144"
      ]
     },
     "execution_count": 66,
     "metadata": {},
     "output_type": "execute_result"
    }
   ],
   "source": [
    "tool_results_under = pd.DataFrame(results)\n",
    "tool_results_under.head()"
   ]
  },
  {
   "cell_type": "markdown",
   "metadata": {},
   "source": [
    "- Testing for Cogroo"
   ]
  },
  {
   "cell_type": "code",
   "execution_count": 67,
   "metadata": {},
   "outputs": [],
   "source": [
    "models = GetScaledModel('minmax')\n",
    "results = BasedLine2(train_X2, train_y2,models)"
   ]
  },
  {
   "cell_type": "code",
   "execution_count": 68,
   "metadata": {},
   "outputs": [
    {
     "data": {
      "text/html": [
       "<div>\n",
       "<style scoped>\n",
       "    .dataframe tbody tr th:only-of-type {\n",
       "        vertical-align: middle;\n",
       "    }\n",
       "\n",
       "    .dataframe tbody tr th {\n",
       "        vertical-align: top;\n",
       "    }\n",
       "\n",
       "    .dataframe thead th {\n",
       "        text-align: right;\n",
       "    }\n",
       "</style>\n",
       "<table border=\"1\" class=\"dataframe\">\n",
       "  <thead>\n",
       "    <tr style=\"text-align: right;\">\n",
       "      <th></th>\n",
       "      <th>minmaxKNN</th>\n",
       "      <th>minmaxNB</th>\n",
       "      <th>minmaxSVM</th>\n",
       "      <th>minmaxAB</th>\n",
       "      <th>minmaxGBM</th>\n",
       "      <th>minmaxRF</th>\n",
       "    </tr>\n",
       "  </thead>\n",
       "  <tbody>\n",
       "    <tr>\n",
       "      <th>0</th>\n",
       "      <td>0.322077</td>\n",
       "      <td>0.028851</td>\n",
       "      <td>0.298791</td>\n",
       "      <td>0.420564</td>\n",
       "      <td>0.379155</td>\n",
       "      <td>0.362507</td>\n",
       "    </tr>\n",
       "    <tr>\n",
       "      <th>1</th>\n",
       "      <td>0.332731</td>\n",
       "      <td>0.070882</td>\n",
       "      <td>0.291780</td>\n",
       "      <td>0.368266</td>\n",
       "      <td>0.393925</td>\n",
       "      <td>0.399972</td>\n",
       "    </tr>\n",
       "    <tr>\n",
       "      <th>2</th>\n",
       "      <td>0.305286</td>\n",
       "      <td>0.061721</td>\n",
       "      <td>0.283119</td>\n",
       "      <td>0.395723</td>\n",
       "      <td>0.428609</td>\n",
       "      <td>0.398880</td>\n",
       "    </tr>\n",
       "    <tr>\n",
       "      <th>3</th>\n",
       "      <td>0.326433</td>\n",
       "      <td>0.044588</td>\n",
       "      <td>0.302809</td>\n",
       "      <td>0.359314</td>\n",
       "      <td>0.391848</td>\n",
       "      <td>0.342626</td>\n",
       "    </tr>\n",
       "    <tr>\n",
       "      <th>4</th>\n",
       "      <td>0.306806</td>\n",
       "      <td>0.070327</td>\n",
       "      <td>0.298064</td>\n",
       "      <td>0.337224</td>\n",
       "      <td>0.338131</td>\n",
       "      <td>0.349224</td>\n",
       "    </tr>\n",
       "  </tbody>\n",
       "</table>\n",
       "</div>"
      ],
      "text/plain": [
       "   minmaxKNN  minmaxNB  minmaxSVM  minmaxAB  minmaxGBM  minmaxRF\n",
       "0   0.322077  0.028851   0.298791  0.420564   0.379155  0.362507\n",
       "1   0.332731  0.070882   0.291780  0.368266   0.393925  0.399972\n",
       "2   0.305286  0.061721   0.283119  0.395723   0.428609  0.398880\n",
       "3   0.326433  0.044588   0.302809  0.359314   0.391848  0.342626\n",
       "4   0.306806  0.070327   0.298064  0.337224   0.338131  0.349224"
      ]
     },
     "execution_count": 68,
     "metadata": {},
     "output_type": "execute_result"
    }
   ],
   "source": [
    "cogroo_results = pd.DataFrame(results)\n",
    "cogroo_results.head()"
   ]
  },
  {
   "cell_type": "code",
   "execution_count": 69,
   "metadata": {},
   "outputs": [],
   "source": [
    "models = GetScaledModel('minmax')\n",
    "results = BasedLine2(train_X2_under, train_y2_under,models)"
   ]
  },
  {
   "cell_type": "code",
   "execution_count": 70,
   "metadata": {},
   "outputs": [
    {
     "data": {
      "text/html": [
       "<div>\n",
       "<style scoped>\n",
       "    .dataframe tbody tr th:only-of-type {\n",
       "        vertical-align: middle;\n",
       "    }\n",
       "\n",
       "    .dataframe tbody tr th {\n",
       "        vertical-align: top;\n",
       "    }\n",
       "\n",
       "    .dataframe thead th {\n",
       "        text-align: right;\n",
       "    }\n",
       "</style>\n",
       "<table border=\"1\" class=\"dataframe\">\n",
       "  <thead>\n",
       "    <tr style=\"text-align: right;\">\n",
       "      <th></th>\n",
       "      <th>minmaxKNN</th>\n",
       "      <th>minmaxNB</th>\n",
       "      <th>minmaxSVM</th>\n",
       "      <th>minmaxAB</th>\n",
       "      <th>minmaxGBM</th>\n",
       "      <th>minmaxRF</th>\n",
       "    </tr>\n",
       "  </thead>\n",
       "  <tbody>\n",
       "    <tr>\n",
       "      <th>0</th>\n",
       "      <td>0.322077</td>\n",
       "      <td>0.028851</td>\n",
       "      <td>0.298791</td>\n",
       "      <td>0.420564</td>\n",
       "      <td>0.379155</td>\n",
       "      <td>0.362507</td>\n",
       "    </tr>\n",
       "    <tr>\n",
       "      <th>1</th>\n",
       "      <td>0.332731</td>\n",
       "      <td>0.070882</td>\n",
       "      <td>0.291780</td>\n",
       "      <td>0.368266</td>\n",
       "      <td>0.393925</td>\n",
       "      <td>0.399972</td>\n",
       "    </tr>\n",
       "    <tr>\n",
       "      <th>2</th>\n",
       "      <td>0.305286</td>\n",
       "      <td>0.061721</td>\n",
       "      <td>0.283119</td>\n",
       "      <td>0.395723</td>\n",
       "      <td>0.428609</td>\n",
       "      <td>0.398880</td>\n",
       "    </tr>\n",
       "    <tr>\n",
       "      <th>3</th>\n",
       "      <td>0.326433</td>\n",
       "      <td>0.044588</td>\n",
       "      <td>0.302809</td>\n",
       "      <td>0.359314</td>\n",
       "      <td>0.391848</td>\n",
       "      <td>0.342626</td>\n",
       "    </tr>\n",
       "    <tr>\n",
       "      <th>4</th>\n",
       "      <td>0.306806</td>\n",
       "      <td>0.070327</td>\n",
       "      <td>0.298064</td>\n",
       "      <td>0.337224</td>\n",
       "      <td>0.338131</td>\n",
       "      <td>0.349224</td>\n",
       "    </tr>\n",
       "  </tbody>\n",
       "</table>\n",
       "</div>"
      ],
      "text/plain": [
       "   minmaxKNN  minmaxNB  minmaxSVM  minmaxAB  minmaxGBM  minmaxRF\n",
       "0   0.322077  0.028851   0.298791  0.420564   0.379155  0.362507\n",
       "1   0.332731  0.070882   0.291780  0.368266   0.393925  0.399972\n",
       "2   0.305286  0.061721   0.283119  0.395723   0.428609  0.398880\n",
       "3   0.326433  0.044588   0.302809  0.359314   0.391848  0.342626\n",
       "4   0.306806  0.070327   0.298064  0.337224   0.338131  0.349224"
      ]
     },
     "execution_count": 70,
     "metadata": {},
     "output_type": "execute_result"
    }
   ],
   "source": [
    "cogroo_results_under = pd.DataFrame(results)\n",
    "cogroo_results.head()"
   ]
  },
  {
   "cell_type": "markdown",
   "metadata": {},
   "source": [
    "- Generate Comparative Graph"
   ]
  },
  {
   "cell_type": "code",
   "execution_count": 71,
   "metadata": {},
   "outputs": [],
   "source": [
    "comp_df_tool = pd.melt(tool_results)\n",
    "comp_df_tool['fonte'] = 'language tool (sem undersampling)'\n",
    "comp_df_cogroo = pd.melt(cogroo_results)\n",
    "comp_df_cogroo['fonte'] = 'cogroo + hunspell (sem undersampling)'\n",
    "\n",
    "comp_df_tool_under = pd.melt(tool_results_under)\n",
    "comp_df_tool_under['fonte'] = 'language tool (com undersampling)'\n",
    "comp_df_cogroo_under = pd.melt(cogroo_results_under)\n",
    "comp_df_cogroo_under['fonte'] = 'cogroo + hunspell (com undersampling)'\n",
    "\n",
    "comp_df = pd.concat([comp_df_tool, comp_df_tool_under, comp_df_cogroo, comp_df_cogroo_under], axis=0)"
   ]
  },
  {
   "cell_type": "code",
   "execution_count": 72,
   "metadata": {},
   "outputs": [
    {
     "data": {
      "text/plain": [
       "Text(0.5, 0, 'Modelos')"
      ]
     },
     "execution_count": 72,
     "metadata": {},
     "output_type": "execute_result"
    },
    {
     "data": {
      "image/png": "[encoded data removed]",
      "text/plain": [
       "<Figure size 1000x400 with 1 Axes>"
      ]
     },
     "metadata": {},
     "output_type": "display_data"
    }
   ],
   "source": [
    "plt.figure(figsize = (10, 4))\n",
    "sns.barplot(comp_df, hue='fonte', x='variable', y='value')\n",
    "plt.title(\"Resultado do treinamento das combinações propostas\")\n",
    "plt.ylabel(\"F1 weighted Médio\")\n",
    "plt.xlabel(\"Modelos\")\n"
   ]
  },
  {
   "cell_type": "markdown",
   "metadata": {},
   "source": [
    "### Optimazing GradientBoostingClassifier"
   ]
  },
  {
   "cell_type": "code",
   "execution_count": 12,
   "metadata": {},
   "outputs": [],
   "source": [
    "scaler = MinMaxScaler()\n",
    "scale = scaler.fit(train_X1)\n",
    "train_X1_scaled = scale.fit_transform(train_X1)\n",
    "test_X1_scaled = scale.fit_transform(test_X1)"
   ]
  },
  {
   "cell_type": "code",
   "execution_count": 36,
   "metadata": {},
   "outputs": [],
   "source": [
    "scaler = MinMaxScaler()\n",
    "scale = scaler.fit(train_X1)\n",
    "train_X2_scaled = scale.fit_transform(train_X2)\n",
    "test_X2_scaled = scale.fit_transform(test_X2)"
   ]
  },
  {
   "cell_type": "code",
   "execution_count": 21,
   "metadata": {},
   "outputs": [],
   "source": [
    "param_grid = {\n",
    "    'learning_rate': [0.01,0.05,0.1, 0.5, 1],\n",
    "    'min_samples_leaf': [4,5,6],\n",
    "    \"max_depth\":[3,5,8],\n",
    "    'subsample': [0.6,0.7,0.8],\n",
    "    \"criterion\": [\"friedman_mse\",  \"squared_error\"],\n",
    "    \"max_features\":[\"log2\",\"sqrt\"],\n",
    "}\n",
    "clf = GridSearchCV(GradientBoostingClassifier(), param_grid, scoring=\"f1_weighted\", n_jobs = -1)"
   ]
  },
  {
   "cell_type": "code",
   "execution_count": null,
   "metadata": {},
   "outputs": [],
   "source": [
    "gradient_boost_model_1 = clf.fit(train_X1_scaled, train_y1)\n",
    "gradient_boost_model_2 = clf.fit(train_X2_scaled, train_y2)"
   ]
  },
  {
   "cell_type": "code",
   "execution_count": 46,
   "metadata": {},
   "outputs": [
    {
     "data": {
      "text/plain": [
       "0.31720601056743736"
      ]
     },
     "execution_count": 46,
     "metadata": {},
     "output_type": "execute_result"
    }
   ],
   "source": [
    "gradient_boost_model_2.score(test_X2_scaled, test_y2), gradient_boost_model_2.score(test_X1_scaled, test_y1)"
   ]
  },
  {
   "cell_type": "code",
   "execution_count": 55,
   "metadata": {},
   "outputs": [],
   "source": [
    "pred_y1 = gradient_boost_model_1.predict(test_X1_scaled)\n",
    "pred_y2 = gradient_boost_model_2.predict(test_X2_scaled)"
   ]
  },
  {
   "cell_type": "code",
   "execution_count": 52,
   "metadata": {},
   "outputs": [
    {
     "name": "stdout",
     "output_type": "stream",
     "text": [
      "              precision    recall  f1-score   support\n",
      "\n",
      "         0.0       0.20      0.35      0.25        20\n",
      "         0.5       0.31      0.40      0.35        77\n",
      "         1.0       0.47      0.55      0.50       181\n",
      "         1.5       0.38      0.30      0.33       108\n",
      "         2.0       0.00      0.00      0.00        47\n",
      "\n",
      "    accuracy                           0.39       433\n",
      "   macro avg       0.27      0.32      0.29       433\n",
      "weighted avg       0.35      0.39      0.37       433\n",
      "\n"
     ]
    }
   ],
   "source": [
    "print(classification_report(test_y1, pred_y1))"
   ]
  },
  {
   "cell_type": "code",
   "execution_count": 56,
   "metadata": {},
   "outputs": [
    {
     "name": "stdout",
     "output_type": "stream",
     "text": [
      "              precision    recall  f1-score   support\n",
      "\n",
      "         0.0       0.15      0.10      0.12        20\n",
      "         0.5       0.26      0.44      0.33        77\n",
      "         1.0       0.41      0.50      0.45       181\n",
      "         1.5       0.35      0.18      0.23       108\n",
      "         2.0       0.22      0.04      0.07        47\n",
      "\n",
      "    accuracy                           0.34       433\n",
      "   macro avg       0.28      0.25      0.24       433\n",
      "weighted avg       0.33      0.34      0.32       433\n",
      "\n"
     ]
    }
   ],
   "source": [
    "print(classification_report(test_y2, pred_y2))"
   ]
  },
  {
   "cell_type": "code",
   "execution_count": 29,
   "metadata": {},
   "outputs": [
    {
     "data": {
      "image/png": "[encoded data removed]",
      "text/plain": [
       "<Figure size 640x480 with 2 Axes>"
      ]
     },
     "metadata": {},
     "output_type": "display_data"
    }
   ],
   "source": [
    "cm = confusion_matrix(test_y1, pred_y1, labels=gradient_boost_model.classes_)\n",
    "disp = ConfusionMatrixDisplay(confusion_matrix=cm,\n",
    "                                display_labels=gradient_boost_model.classes_)\n",
    "disp = disp.plot(cmap=plt.cm.Blues,values_format='g')\n",
    "plt.show()"
   ]
  },
  {
   "cell_type": "code",
   "execution_count": 57,
   "metadata": {},
   "outputs": [
    {
     "data": {
      "image/png": "[encoded data removed]",
      "text/plain": [
       "<Figure size 640x480 with 2 Axes>"
      ]
     },
     "metadata": {},
     "output_type": "display_data"
    }
   ],
   "source": [
    "cm = confusion_matrix(test_y2, pred_y2, labels=gradient_boost_model.classes_)\n",
    "disp = ConfusionMatrixDisplay(confusion_matrix=cm,\n",
    "                                display_labels=gradient_boost_model.classes_)\n",
    "disp = disp.plot(cmap=plt.cm.Blues,values_format='g')\n",
    "plt.show()"
   ]
  },
  {
   "cell_type": "code",
   "execution_count": null,
   "metadata": {},
   "outputs": [
    {
     "name": "stdout",
     "output_type": "stream",
     "text": [
      "              precision    recall  f1-score   support\n",
      "\n",
      "         0.0       1.00      0.06      0.12        16\n",
      "         0.5       0.52      0.13      0.21       100\n",
      "         1.0       0.41      0.89      0.56       157\n",
      "         1.5       0.47      0.23      0.31       121\n",
      "         2.0       0.00      0.00      0.00        35\n",
      "\n",
      "    accuracy                           0.42       429\n",
      "   macro avg       0.48      0.26      0.24       429\n",
      "weighted avg       0.44      0.42      0.35       429\n",
      "\n"
     ]
    },
    {
     "name": "stderr",
     "output_type": "stream",
     "text": [
      "c:\\Users\\mwuillau\\Documents\\UFRJ\\Correcao-redacoes-ENEM\\env\\lib\\site-packages\\sklearn\\metrics\\_classification.py:1344: UndefinedMetricWarning: Precision and F-score are ill-defined and being set to 0.0 in labels with no predicted samples. Use `zero_division` parameter to control this behavior.\n",
      "  _warn_prf(average, modifier, msg_start, len(result))\n",
      "c:\\Users\\mwuillau\\Documents\\UFRJ\\Correcao-redacoes-ENEM\\env\\lib\\site-packages\\sklearn\\metrics\\_classification.py:1344: UndefinedMetricWarning: Precision and F-score are ill-defined and being set to 0.0 in labels with no predicted samples. Use `zero_division` parameter to control this behavior.\n",
      "  _warn_prf(average, modifier, msg_start, len(result))\n",
      "c:\\Users\\mwuillau\\Documents\\UFRJ\\Correcao-redacoes-ENEM\\env\\lib\\site-packages\\sklearn\\metrics\\_classification.py:1344: UndefinedMetricWarning: Precision and F-score are ill-defined and being set to 0.0 in labels with no predicted samples. Use `zero_division` parameter to control this behavior.\n",
      "  _warn_prf(average, modifier, msg_start, len(result))\n"
     ]
    }
   ],
   "source": [
    "print(classification_report(test_y1, pred_y1))"
   ]
  }
 ],
 "metadata": {
  "kernelspec": {
   "display_name": "env",
   "language": "python",
   "name": "python3"
  },
  "language_info": {
   "codemirror_mode": {
    "name": "ipython",
    "version": 3
   },
   "file_extension": ".py",
   "mimetype": "text/x-python",
   "name": "python",
   "nbconvert_exporter": "python",
   "pygments_lexer": "ipython3",
   "version": "3.10.3"
  },
  "orig_nbformat": 4
 },
 "nbformat": 4,
 "nbformat_minor": 2
}
