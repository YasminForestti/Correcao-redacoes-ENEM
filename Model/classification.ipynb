{
 "cells": [
  {
   "cell_type": "code",
   "execution_count": 272,
   "metadata": {},
   "outputs": [],
   "source": [
    "import pandas as pd\n",
    "from sklearn.multiclass import OneVsOneClassifier, OneVsRestClassifier \n",
    "import matplotlib.pyplot as plt\n",
    "from sklearn.metrics import precision_recall_fscore_support\n",
    "import numpy as np\n",
    "from sklearn.model_selection import train_test_split\n",
    "import seaborn as sns\n",
    "from sklearn.metrics import confusion_matrix, ConfusionMatrixDisplay\n",
    "from sklearn.preprocessing import MinMaxScaler\n",
    "from sklearn.model_selection import GridSearchCV\n",
    "from sklearn.metrics import make_scorer\n",
    "from sklearn.metrics import f1_score\n",
    "from sklearn.metrics import recall_score\n",
    "from sklearn.metrics import precision_score\n",
    "from sklearn.metrics import roc_curve\n",
    "from sklearn.metrics import roc_auc_score\n",
    "from sklearn.metrics import confusion_matrix\n",
    "from sklearn.metrics import accuracy_score\n",
    "from sklearn.metrics import r2_score\n",
    "from sklearn.metrics import mean_absolute_error\n",
    "from sklearn.metrics import mean_squared_error\n",
    "from sklearn.preprocessing import StandardScaler\n",
    "from sklearn.model_selection import train_test_split\n",
    "from sklearn.model_selection import KFold\n",
    "from sklearn.model_selection import StratifiedKFold\n",
    "from sklearn.model_selection import cross_val_score\n",
    "from sklearn.model_selection import GridSearchCV\n",
    "from sklearn.metrics import classification_report\n",
    "from sklearn.metrics import confusion_matrix\n",
    "from sklearn.metrics import accuracy_score\n",
    "from sklearn.pipeline import Pipeline\n",
    "from sklearn.linear_model import LogisticRegression\n",
    "from sklearn.tree import DecisionTreeClassifier\n",
    "from sklearn.neighbors import KNeighborsClassifier\n",
    "from sklearn.discriminant_analysis import LinearDiscriminantAnalysis\n",
    "from sklearn.naive_bayes import GaussianNB\n",
    "from sklearn.svm import SVC\n",
    "from sklearn.ensemble import AdaBoostClassifier\n",
    "from sklearn.ensemble import GradientBoostingClassifier\n",
    "from sklearn.ensemble import RandomForestClassifier\n",
    "from sklearn.ensemble import ExtraTreesClassifier"
   ]
  },
  {
   "cell_type": "markdown",
   "metadata": {},
   "source": [
    "### Import and analyse datasets"
   ]
  },
  {
   "cell_type": "code",
   "execution_count": 133,
   "metadata": {},
   "outputs": [],
   "source": [
    "dataset_tool_sofist_comma = pd.read_csv(\"../data/model/dataset_tool_sofist_comma.csv\")\n",
    "dataset_cogroo_sofist_comma = pd.read_csv(\"../data/model/dataset_cogroo_sofist_comma.csv\")"
   ]
  },
  {
   "cell_type": "code",
   "execution_count": 202,
   "metadata": {},
   "outputs": [],
   "source": [
    "dataset_cogroo_sofist_comma['TYPOS'] = dataset_tool_sofist_comma['TYPOS'] "
   ]
  },
  {
   "cell_type": "code",
   "execution_count": 132,
   "metadata": {},
   "outputs": [
    {
     "data": {
      "text/html": [
       "<div>\n",
       "<style scoped>\n",
       "    .dataframe tbody tr th:only-of-type {\n",
       "        vertical-align: middle;\n",
       "    }\n",
       "\n",
       "    .dataframe tbody tr th {\n",
       "        vertical-align: top;\n",
       "    }\n",
       "\n",
       "    .dataframe thead th {\n",
       "        text-align: right;\n",
       "    }\n",
       "</style>\n",
       "<table border=\"1\" class=\"dataframe\">\n",
       "  <thead>\n",
       "    <tr style=\"text-align: right;\">\n",
       "      <th></th>\n",
       "      <th>essay</th>\n",
       "      <th>CASING</th>\n",
       "      <th>CLICHES</th>\n",
       "      <th>COMPOUNDING</th>\n",
       "      <th>CONFUSED_WORDS</th>\n",
       "      <th>CONTRACTIONS</th>\n",
       "      <th>FORMAL_SPEECH</th>\n",
       "      <th>GRAMMAR</th>\n",
       "      <th>MISC</th>\n",
       "      <th>MISSPELLING</th>\n",
       "      <th>...</th>\n",
       "      <th>comp1</th>\n",
       "      <th>palavras_por_texto</th>\n",
       "      <th>paragrafos_por_texto</th>\n",
       "      <th>palavras_no_paragrafo_1</th>\n",
       "      <th>palavras_no_ultimo_paragrafo</th>\n",
       "      <th>palavras_nos_intermediarios</th>\n",
       "      <th>palavras_unicas</th>\n",
       "      <th>quantidade_de_sentencas_longas</th>\n",
       "      <th>quantidade_de_paragrafos_com_sentenca_unica</th>\n",
       "      <th>error</th>\n",
       "    </tr>\n",
       "  </thead>\n",
       "  <tbody>\n",
       "    <tr>\n",
       "      <th>0</th>\n",
       "      <td>0</td>\n",
       "      <td>0</td>\n",
       "      <td>0</td>\n",
       "      <td>1</td>\n",
       "      <td>0</td>\n",
       "      <td>0</td>\n",
       "      <td>0</td>\n",
       "      <td>0</td>\n",
       "      <td>0</td>\n",
       "      <td>0</td>\n",
       "      <td>...</td>\n",
       "      <td>1.0</td>\n",
       "      <td>199</td>\n",
       "      <td>4</td>\n",
       "      <td>30</td>\n",
       "      <td>54</td>\n",
       "      <td>115</td>\n",
       "      <td>99</td>\n",
       "      <td>0</td>\n",
       "      <td>0</td>\n",
       "      <td>1</td>\n",
       "    </tr>\n",
       "    <tr>\n",
       "      <th>1</th>\n",
       "      <td>1</td>\n",
       "      <td>1</td>\n",
       "      <td>0</td>\n",
       "      <td>0</td>\n",
       "      <td>1</td>\n",
       "      <td>0</td>\n",
       "      <td>1</td>\n",
       "      <td>1</td>\n",
       "      <td>0</td>\n",
       "      <td>0</td>\n",
       "      <td>...</td>\n",
       "      <td>1.0</td>\n",
       "      <td>350</td>\n",
       "      <td>4</td>\n",
       "      <td>74</td>\n",
       "      <td>104</td>\n",
       "      <td>172</td>\n",
       "      <td>147</td>\n",
       "      <td>1</td>\n",
       "      <td>0</td>\n",
       "      <td>4</td>\n",
       "    </tr>\n",
       "    <tr>\n",
       "      <th>2</th>\n",
       "      <td>2</td>\n",
       "      <td>0</td>\n",
       "      <td>0</td>\n",
       "      <td>0</td>\n",
       "      <td>0</td>\n",
       "      <td>1</td>\n",
       "      <td>1</td>\n",
       "      <td>2</td>\n",
       "      <td>0</td>\n",
       "      <td>0</td>\n",
       "      <td>...</td>\n",
       "      <td>0.5</td>\n",
       "      <td>372</td>\n",
       "      <td>3</td>\n",
       "      <td>70</td>\n",
       "      <td>86</td>\n",
       "      <td>216</td>\n",
       "      <td>133</td>\n",
       "      <td>2</td>\n",
       "      <td>1</td>\n",
       "      <td>3</td>\n",
       "    </tr>\n",
       "    <tr>\n",
       "      <th>3</th>\n",
       "      <td>3</td>\n",
       "      <td>0</td>\n",
       "      <td>0</td>\n",
       "      <td>0</td>\n",
       "      <td>0</td>\n",
       "      <td>0</td>\n",
       "      <td>0</td>\n",
       "      <td>0</td>\n",
       "      <td>0</td>\n",
       "      <td>0</td>\n",
       "      <td>...</td>\n",
       "      <td>1.0</td>\n",
       "      <td>165</td>\n",
       "      <td>3</td>\n",
       "      <td>61</td>\n",
       "      <td>31</td>\n",
       "      <td>73</td>\n",
       "      <td>101</td>\n",
       "      <td>2</td>\n",
       "      <td>3</td>\n",
       "      <td>1</td>\n",
       "    </tr>\n",
       "    <tr>\n",
       "      <th>4</th>\n",
       "      <td>4</td>\n",
       "      <td>0</td>\n",
       "      <td>0</td>\n",
       "      <td>0</td>\n",
       "      <td>3</td>\n",
       "      <td>0</td>\n",
       "      <td>1</td>\n",
       "      <td>1</td>\n",
       "      <td>0</td>\n",
       "      <td>0</td>\n",
       "      <td>...</td>\n",
       "      <td>1.0</td>\n",
       "      <td>184</td>\n",
       "      <td>4</td>\n",
       "      <td>41</td>\n",
       "      <td>31</td>\n",
       "      <td>112</td>\n",
       "      <td>99</td>\n",
       "      <td>0</td>\n",
       "      <td>2</td>\n",
       "      <td>4</td>\n",
       "    </tr>\n",
       "  </tbody>\n",
       "</table>\n",
       "<p>5 rows × 27 columns</p>\n",
       "</div>"
      ],
      "text/plain": [
       "   essay  CASING  CLICHES  COMPOUNDING  CONFUSED_WORDS  CONTRACTIONS  \\\n",
       "0      0       0        0            1               0             0   \n",
       "1      1       1        0            0               1             0   \n",
       "2      2       0        0            0               0             1   \n",
       "3      3       0        0            0               0             0   \n",
       "4      4       0        0            0               3             0   \n",
       "\n",
       "   FORMAL_SPEECH  GRAMMAR  MISC  MISSPELLING  ...  comp1  palavras_por_texto  \\\n",
       "0              0        0     0            0  ...    1.0                 199   \n",
       "1              1        1     0            0  ...    1.0                 350   \n",
       "2              1        2     0            0  ...    0.5                 372   \n",
       "3              0        0     0            0  ...    1.0                 165   \n",
       "4              1        1     0            0  ...    1.0                 184   \n",
       "\n",
       "   paragrafos_por_texto  palavras_no_paragrafo_1  \\\n",
       "0                     4                       30   \n",
       "1                     4                       74   \n",
       "2                     3                       70   \n",
       "3                     3                       61   \n",
       "4                     4                       41   \n",
       "\n",
       "   palavras_no_ultimo_paragrafo  palavras_nos_intermediarios  palavras_unicas  \\\n",
       "0                            54                          115               99   \n",
       "1                           104                          172              147   \n",
       "2                            86                          216              133   \n",
       "3                            31                           73              101   \n",
       "4                            31                          112               99   \n",
       "\n",
       "   quantidade_de_sentencas_longas  \\\n",
       "0                               0   \n",
       "1                               1   \n",
       "2                               2   \n",
       "3                               2   \n",
       "4                               0   \n",
       "\n",
       "   quantidade_de_paragrafos_com_sentenca_unica  error  \n",
       "0                                            0      1  \n",
       "1                                            0      4  \n",
       "2                                            1      3  \n",
       "3                                            3      1  \n",
       "4                                            2      4  \n",
       "\n",
       "[5 rows x 27 columns]"
      ]
     },
     "execution_count": 132,
     "metadata": {},
     "output_type": "execute_result"
    }
   ],
   "source": [
    "dataset_tool_sofist_comma.head()"
   ]
  },
  {
   "cell_type": "code",
   "execution_count": 134,
   "metadata": {},
   "outputs": [
    {
     "data": {
      "text/html": [
       "<div>\n",
       "<style scoped>\n",
       "    .dataframe tbody tr th:only-of-type {\n",
       "        vertical-align: middle;\n",
       "    }\n",
       "\n",
       "    .dataframe tbody tr th {\n",
       "        vertical-align: top;\n",
       "    }\n",
       "\n",
       "    .dataframe thead th {\n",
       "        text-align: right;\n",
       "    }\n",
       "</style>\n",
       "<table border=\"1\" class=\"dataframe\">\n",
       "  <thead>\n",
       "    <tr style=\"text-align: right;\">\n",
       "      <th></th>\n",
       "      <th>essay</th>\n",
       "      <th>government:GOVERNMENT</th>\n",
       "      <th>probs:paronyms</th>\n",
       "      <th>punctuation:BEFORE_SENTENCES</th>\n",
       "      <th>repetition:DUPLICATED_TOKEN</th>\n",
       "      <th>xml:1</th>\n",
       "      <th>xml:10</th>\n",
       "      <th>xml:103</th>\n",
       "      <th>xml:104</th>\n",
       "      <th>xml:105</th>\n",
       "      <th>...</th>\n",
       "      <th>comp1</th>\n",
       "      <th>palavras_por_texto</th>\n",
       "      <th>paragrafos_por_texto</th>\n",
       "      <th>palavras_no_paragrafo_1</th>\n",
       "      <th>palavras_no_ultimo_paragrafo</th>\n",
       "      <th>palavras_nos_intermediarios</th>\n",
       "      <th>palavras_unicas</th>\n",
       "      <th>quantidade_de_sentencas_longas</th>\n",
       "      <th>quantidade_de_paragrafos_com_sentenca_unica</th>\n",
       "      <th>error</th>\n",
       "    </tr>\n",
       "  </thead>\n",
       "  <tbody>\n",
       "    <tr>\n",
       "      <th>0</th>\n",
       "      <td>1</td>\n",
       "      <td>0</td>\n",
       "      <td>0</td>\n",
       "      <td>0</td>\n",
       "      <td>0</td>\n",
       "      <td>1</td>\n",
       "      <td>0</td>\n",
       "      <td>0</td>\n",
       "      <td>0</td>\n",
       "      <td>0</td>\n",
       "      <td>...</td>\n",
       "      <td>1.0</td>\n",
       "      <td>350</td>\n",
       "      <td>4</td>\n",
       "      <td>74</td>\n",
       "      <td>104</td>\n",
       "      <td>172</td>\n",
       "      <td>147</td>\n",
       "      <td>1</td>\n",
       "      <td>0</td>\n",
       "      <td>4</td>\n",
       "    </tr>\n",
       "    <tr>\n",
       "      <th>1</th>\n",
       "      <td>2</td>\n",
       "      <td>0</td>\n",
       "      <td>0</td>\n",
       "      <td>0</td>\n",
       "      <td>0</td>\n",
       "      <td>0</td>\n",
       "      <td>0</td>\n",
       "      <td>0</td>\n",
       "      <td>0</td>\n",
       "      <td>1</td>\n",
       "      <td>...</td>\n",
       "      <td>0.5</td>\n",
       "      <td>372</td>\n",
       "      <td>3</td>\n",
       "      <td>70</td>\n",
       "      <td>86</td>\n",
       "      <td>216</td>\n",
       "      <td>133</td>\n",
       "      <td>2</td>\n",
       "      <td>1</td>\n",
       "      <td>3</td>\n",
       "    </tr>\n",
       "    <tr>\n",
       "      <th>2</th>\n",
       "      <td>4</td>\n",
       "      <td>0</td>\n",
       "      <td>0</td>\n",
       "      <td>0</td>\n",
       "      <td>0</td>\n",
       "      <td>0</td>\n",
       "      <td>0</td>\n",
       "      <td>0</td>\n",
       "      <td>0</td>\n",
       "      <td>0</td>\n",
       "      <td>...</td>\n",
       "      <td>1.0</td>\n",
       "      <td>184</td>\n",
       "      <td>4</td>\n",
       "      <td>41</td>\n",
       "      <td>31</td>\n",
       "      <td>112</td>\n",
       "      <td>99</td>\n",
       "      <td>0</td>\n",
       "      <td>2</td>\n",
       "      <td>4</td>\n",
       "    </tr>\n",
       "    <tr>\n",
       "      <th>3</th>\n",
       "      <td>6</td>\n",
       "      <td>0</td>\n",
       "      <td>0</td>\n",
       "      <td>0</td>\n",
       "      <td>0</td>\n",
       "      <td>0</td>\n",
       "      <td>0</td>\n",
       "      <td>0</td>\n",
       "      <td>0</td>\n",
       "      <td>0</td>\n",
       "      <td>...</td>\n",
       "      <td>0.5</td>\n",
       "      <td>227</td>\n",
       "      <td>4</td>\n",
       "      <td>52</td>\n",
       "      <td>48</td>\n",
       "      <td>127</td>\n",
       "      <td>132</td>\n",
       "      <td>0</td>\n",
       "      <td>0</td>\n",
       "      <td>3</td>\n",
       "    </tr>\n",
       "    <tr>\n",
       "      <th>4</th>\n",
       "      <td>7</td>\n",
       "      <td>0</td>\n",
       "      <td>0</td>\n",
       "      <td>0</td>\n",
       "      <td>0</td>\n",
       "      <td>0</td>\n",
       "      <td>0</td>\n",
       "      <td>0</td>\n",
       "      <td>0</td>\n",
       "      <td>0</td>\n",
       "      <td>...</td>\n",
       "      <td>1.0</td>\n",
       "      <td>276</td>\n",
       "      <td>4</td>\n",
       "      <td>37</td>\n",
       "      <td>74</td>\n",
       "      <td>165</td>\n",
       "      <td>114</td>\n",
       "      <td>0</td>\n",
       "      <td>0</td>\n",
       "      <td>2</td>\n",
       "    </tr>\n",
       "  </tbody>\n",
       "</table>\n",
       "<p>5 rows × 69 columns</p>\n",
       "</div>"
      ],
      "text/plain": [
       "   essay  government:GOVERNMENT  probs:paronyms  punctuation:BEFORE_SENTENCES  \\\n",
       "0      1                      0               0                             0   \n",
       "1      2                      0               0                             0   \n",
       "2      4                      0               0                             0   \n",
       "3      6                      0               0                             0   \n",
       "4      7                      0               0                             0   \n",
       "\n",
       "   repetition:DUPLICATED_TOKEN  xml:1  xml:10  xml:103  xml:104  xml:105  ...  \\\n",
       "0                            0      1       0        0        0        0  ...   \n",
       "1                            0      0       0        0        0        1  ...   \n",
       "2                            0      0       0        0        0        0  ...   \n",
       "3                            0      0       0        0        0        0  ...   \n",
       "4                            0      0       0        0        0        0  ...   \n",
       "\n",
       "   comp1  palavras_por_texto  paragrafos_por_texto  palavras_no_paragrafo_1  \\\n",
       "0    1.0                 350                     4                       74   \n",
       "1    0.5                 372                     3                       70   \n",
       "2    1.0                 184                     4                       41   \n",
       "3    0.5                 227                     4                       52   \n",
       "4    1.0                 276                     4                       37   \n",
       "\n",
       "   palavras_no_ultimo_paragrafo  palavras_nos_intermediarios  palavras_unicas  \\\n",
       "0                           104                          172              147   \n",
       "1                            86                          216              133   \n",
       "2                            31                          112               99   \n",
       "3                            48                          127              132   \n",
       "4                            74                          165              114   \n",
       "\n",
       "   quantidade_de_sentencas_longas  \\\n",
       "0                               1   \n",
       "1                               2   \n",
       "2                               0   \n",
       "3                               0   \n",
       "4                               0   \n",
       "\n",
       "   quantidade_de_paragrafos_com_sentenca_unica  error  \n",
       "0                                            0      4  \n",
       "1                                            1      3  \n",
       "2                                            2      4  \n",
       "3                                            0      3  \n",
       "4                                            0      2  \n",
       "\n",
       "[5 rows x 69 columns]"
      ]
     },
     "execution_count": 134,
     "metadata": {},
     "output_type": "execute_result"
    }
   ],
   "source": [
    "dataset_cogroo_sofist_comma.head()"
   ]
  },
  {
   "cell_type": "markdown",
   "metadata": {},
   "source": [
    "### Pre-processing"
   ]
  },
  {
   "cell_type": "code",
   "execution_count": 170,
   "metadata": {},
   "outputs": [],
   "source": [
    "X1 = dataset_tool_sofist_comma.drop(columns=['comp1', 'essay'])\n",
    "y1 = dataset_tool_sofist_comma['comp1'].astype(str)\n",
    "train_X1, test_X1, train_y1, test_y1 = train_test_split(X1,y1, test_size=0.2, random_state=42)"
   ]
  },
  {
   "cell_type": "code",
   "execution_count": 189,
   "metadata": {},
   "outputs": [
    {
     "data": {
      "text/plain": [
       "comp1\n",
       "1.0    880\n",
       "1.5    562\n",
       "0.5    424\n",
       "2.0    185\n",
       "0.0     93\n",
       "Name: count, dtype: int64"
      ]
     },
     "execution_count": 189,
     "metadata": {},
     "output_type": "execute_result"
    }
   ],
   "source": [
    "y1.value_counts()"
   ]
  },
  {
   "cell_type": "code",
   "execution_count": 203,
   "metadata": {},
   "outputs": [],
   "source": [
    "X2 = dataset_cogroo_sofist_comma.drop(columns=['comp1', 'essay'])\n",
    "y2 = dataset_cogroo_sofist_comma['comp1'].astype(str)\n",
    "train_X2, test_X2, train_y2, test_y2 = train_test_split(X2,y2, test_size=0.2, random_state=42)"
   ]
  },
  {
   "cell_type": "markdown",
   "metadata": {},
   "source": [
    "### Generating Models"
   ]
  },
  {
   "cell_type": "code",
   "execution_count": 139,
   "metadata": {},
   "outputs": [],
   "source": [
    "def calculate_metrics(model, _x_train, _y_train, _x_test, _y_test):\n",
    "    train_metric = model.score(_x_train, _y_train)\n",
    "    test_metric = model.score(_x_test, _y_test) \n",
    "    _y_pred = model.predict(_x_test)\n",
    "    classes = model.classes_\n",
    "    metrics = [\n",
    "        [\"train\", train_metric],\n",
    "        [\"test\", test_metric],\n",
    "        [\"accuracy\", accuracy_score(_y_test, _y_pred)],\n",
    "        [\"f1-macro\", f1_score(_y_test, _y_pred, average='macro')],\n",
    "        [\"mean-squared-error\", mean_squared_error(_y_test, _y_pred)]\n",
    "    ]\n",
    "    return metrics"
   ]
  },
  {
   "cell_type": "code",
   "execution_count": 257,
   "metadata": {},
   "outputs": [],
   "source": [
    "from sklearn.preprocessing import StandardScaler\n",
    "from sklearn.preprocessing import MinMaxScaler\n",
    "\n",
    "\n",
    "def GetScaledModel(nameOfScaler, nameOfMulticlassPred=None):\n",
    "    pipelines = []\n",
    "    if nameOfScaler == 'standard':\n",
    "        scaler = StandardScaler()\n",
    "    elif nameOfScaler =='minmax':\n",
    "        scaler = MinMaxScaler()\n",
    "\n",
    "    if nameOfMulticlassPred == 'onevsone':\n",
    "        multiclass = OneVsOneClassifier\n",
    "    elif nameOfMulticlassPred == 'onevsrest':\n",
    "        multiclass = OneVsRestClassifier\n",
    "    \n",
    "    pipelines.append((nameOfScaler+'KNN' , Pipeline([('Scaler', scaler),('KNN' , multiclass(KNeighborsClassifier()))])))\n",
    "    pipelines.append((nameOfScaler+'NB'  , Pipeline([('Scaler', scaler),('NB'  , multiclass(GaussianNB()))])))\n",
    "    pipelines.append((nameOfScaler+'SVM' , Pipeline([('Scaler', scaler),('SVM' , multiclass(SVC()))])))\n",
    "    pipelines.append((nameOfScaler+'AB'  , Pipeline([('Scaler', scaler),('AB'  , multiclass(AdaBoostClassifier()))])  ))\n",
    "    pipelines.append((nameOfScaler+'GBM' , Pipeline([('Scaler', scaler),('GMB' , multiclass(GradientBoostingClassifier()))])))\n",
    "    pipelines.append((nameOfScaler+'RF'  , Pipeline([('Scaler', scaler),('RF'  , multiclass(RandomForestClassifier()))])))\n",
    "\n",
    "    return pipelines"
   ]
  },
  {
   "cell_type": "code",
   "execution_count": 258,
   "metadata": {},
   "outputs": [],
   "source": [
    "def BasedLine2(X_train, y_train,models):\n",
    "    # Test options and evaluation metric\n",
    "    num_folds = 10\n",
    "    scoring = 'f1_macro'\n",
    "\n",
    "    results = {}\n",
    "    for name, model in models:\n",
    "        kfold = StratifiedKFold(n_splits=num_folds)\n",
    "        # print(model)\n",
    "        cv_results = cross_val_score(model, X_train, y_train, cv=kfold, scoring=scoring)\n",
    "        results[f'{name}'] = cv_results\n",
    "        msg = \"%s: %f (%f)\" % (name, cv_results.mean(), cv_results.std())\n",
    "  \n",
    "    return results"
   ]
  },
  {
   "cell_type": "markdown",
   "metadata": {},
   "source": [
    "- Testing for language tool"
   ]
  },
  {
   "cell_type": "code",
   "execution_count": 259,
   "metadata": {},
   "outputs": [],
   "source": [
    "models = GetScaledModel('minmax', 'onevsone')\n",
    "results = BasedLine2(train_X1, train_y1,models)"
   ]
  },
  {
   "cell_type": "code",
   "execution_count": 260,
   "metadata": {},
   "outputs": [
    {
     "data": {
      "text/html": [
       "<div>\n",
       "<style scoped>\n",
       "    .dataframe tbody tr th:only-of-type {\n",
       "        vertical-align: middle;\n",
       "    }\n",
       "\n",
       "    .dataframe tbody tr th {\n",
       "        vertical-align: top;\n",
       "    }\n",
       "\n",
       "    .dataframe thead th {\n",
       "        text-align: right;\n",
       "    }\n",
       "</style>\n",
       "<table border=\"1\" class=\"dataframe\">\n",
       "  <thead>\n",
       "    <tr style=\"text-align: right;\">\n",
       "      <th></th>\n",
       "      <th>minmaxKNN</th>\n",
       "      <th>minmaxNB</th>\n",
       "      <th>minmaxSVM</th>\n",
       "      <th>minmaxAB</th>\n",
       "      <th>minmaxGBM</th>\n",
       "      <th>minmaxRF</th>\n",
       "    </tr>\n",
       "  </thead>\n",
       "  <tbody>\n",
       "    <tr>\n",
       "      <th>0</th>\n",
       "      <td>0.212827</td>\n",
       "      <td>0.306877</td>\n",
       "      <td>0.178986</td>\n",
       "      <td>0.297772</td>\n",
       "      <td>0.281901</td>\n",
       "      <td>0.287102</td>\n",
       "    </tr>\n",
       "    <tr>\n",
       "      <th>1</th>\n",
       "      <td>0.212773</td>\n",
       "      <td>0.320677</td>\n",
       "      <td>0.183857</td>\n",
       "      <td>0.246459</td>\n",
       "      <td>0.246946</td>\n",
       "      <td>0.318798</td>\n",
       "    </tr>\n",
       "    <tr>\n",
       "      <th>2</th>\n",
       "      <td>0.217548</td>\n",
       "      <td>0.288565</td>\n",
       "      <td>0.175972</td>\n",
       "      <td>0.239595</td>\n",
       "      <td>0.257636</td>\n",
       "      <td>0.192366</td>\n",
       "    </tr>\n",
       "    <tr>\n",
       "      <th>3</th>\n",
       "      <td>0.205811</td>\n",
       "      <td>0.096637</td>\n",
       "      <td>0.207972</td>\n",
       "      <td>0.194685</td>\n",
       "      <td>0.260207</td>\n",
       "      <td>0.189139</td>\n",
       "    </tr>\n",
       "    <tr>\n",
       "      <th>4</th>\n",
       "      <td>0.197946</td>\n",
       "      <td>0.321942</td>\n",
       "      <td>0.193293</td>\n",
       "      <td>0.347396</td>\n",
       "      <td>0.280211</td>\n",
       "      <td>0.254574</td>\n",
       "    </tr>\n",
       "  </tbody>\n",
       "</table>\n",
       "</div>"
      ],
      "text/plain": [
       "   minmaxKNN  minmaxNB  minmaxSVM  minmaxAB  minmaxGBM  minmaxRF\n",
       "0   0.212827  0.306877   0.178986  0.297772   0.281901  0.287102\n",
       "1   0.212773  0.320677   0.183857  0.246459   0.246946  0.318798\n",
       "2   0.217548  0.288565   0.175972  0.239595   0.257636  0.192366\n",
       "3   0.205811  0.096637   0.207972  0.194685   0.260207  0.189139\n",
       "4   0.197946  0.321942   0.193293  0.347396   0.280211  0.254574"
      ]
     },
     "execution_count": 260,
     "metadata": {},
     "output_type": "execute_result"
    }
   ],
   "source": [
    "tool_results = pd.DataFrame(results)\n",
    "tool_results.head()"
   ]
  },
  {
   "cell_type": "markdown",
   "metadata": {},
   "source": [
    "- Testing for Cogroo"
   ]
  },
  {
   "cell_type": "code",
   "execution_count": 261,
   "metadata": {},
   "outputs": [],
   "source": [
    "models = GetScaledModel('minmax', 'onevsone')\n",
    "results = BasedLine2(train_X2, train_y2,models)"
   ]
  },
  {
   "cell_type": "code",
   "execution_count": 262,
   "metadata": {},
   "outputs": [
    {
     "data": {
      "text/html": [
       "<div>\n",
       "<style scoped>\n",
       "    .dataframe tbody tr th:only-of-type {\n",
       "        vertical-align: middle;\n",
       "    }\n",
       "\n",
       "    .dataframe tbody tr th {\n",
       "        vertical-align: top;\n",
       "    }\n",
       "\n",
       "    .dataframe thead th {\n",
       "        text-align: right;\n",
       "    }\n",
       "</style>\n",
       "<table border=\"1\" class=\"dataframe\">\n",
       "  <thead>\n",
       "    <tr style=\"text-align: right;\">\n",
       "      <th></th>\n",
       "      <th>minmaxKNN</th>\n",
       "      <th>minmaxNB</th>\n",
       "      <th>minmaxSVM</th>\n",
       "      <th>minmaxAB</th>\n",
       "      <th>minmaxGBM</th>\n",
       "      <th>minmaxRF</th>\n",
       "    </tr>\n",
       "  </thead>\n",
       "  <tbody>\n",
       "    <tr>\n",
       "      <th>0</th>\n",
       "      <td>0.254895</td>\n",
       "      <td>0.071881</td>\n",
       "      <td>0.221197</td>\n",
       "      <td>0.228737</td>\n",
       "      <td>0.217150</td>\n",
       "      <td>0.202159</td>\n",
       "    </tr>\n",
       "    <tr>\n",
       "      <th>1</th>\n",
       "      <td>0.175347</td>\n",
       "      <td>0.070223</td>\n",
       "      <td>0.171914</td>\n",
       "      <td>0.286224</td>\n",
       "      <td>0.227925</td>\n",
       "      <td>0.229809</td>\n",
       "    </tr>\n",
       "    <tr>\n",
       "      <th>2</th>\n",
       "      <td>0.239242</td>\n",
       "      <td>0.082433</td>\n",
       "      <td>0.148077</td>\n",
       "      <td>0.199262</td>\n",
       "      <td>0.201074</td>\n",
       "      <td>0.207477</td>\n",
       "    </tr>\n",
       "    <tr>\n",
       "      <th>3</th>\n",
       "      <td>0.156603</td>\n",
       "      <td>0.138912</td>\n",
       "      <td>0.164979</td>\n",
       "      <td>0.237214</td>\n",
       "      <td>0.228418</td>\n",
       "      <td>0.225317</td>\n",
       "    </tr>\n",
       "    <tr>\n",
       "      <th>4</th>\n",
       "      <td>0.170270</td>\n",
       "      <td>0.028864</td>\n",
       "      <td>0.206074</td>\n",
       "      <td>0.198730</td>\n",
       "      <td>0.239170</td>\n",
       "      <td>0.177044</td>\n",
       "    </tr>\n",
       "  </tbody>\n",
       "</table>\n",
       "</div>"
      ],
      "text/plain": [
       "   minmaxKNN  minmaxNB  minmaxSVM  minmaxAB  minmaxGBM  minmaxRF\n",
       "0   0.254895  0.071881   0.221197  0.228737   0.217150  0.202159\n",
       "1   0.175347  0.070223   0.171914  0.286224   0.227925  0.229809\n",
       "2   0.239242  0.082433   0.148077  0.199262   0.201074  0.207477\n",
       "3   0.156603  0.138912   0.164979  0.237214   0.228418  0.225317\n",
       "4   0.170270  0.028864   0.206074  0.198730   0.239170  0.177044"
      ]
     },
     "execution_count": 262,
     "metadata": {},
     "output_type": "execute_result"
    }
   ],
   "source": [
    "cogroo_results = pd.DataFrame(results)\n",
    "cogroo_results.head()"
   ]
  },
  {
   "cell_type": "markdown",
   "metadata": {},
   "source": [
    "- Generate Comparative Graph"
   ]
  },
  {
   "cell_type": "code",
   "execution_count": 270,
   "metadata": {},
   "outputs": [],
   "source": [
    "comp_df_tool = pd.melt(tool_results)\n",
    "comp_df_tool['source'] = 'language_tool'\n",
    "comp_df_cogroo = pd.melt(cogroo_results)\n",
    "comp_df_cogroo['source'] = 'cogroo+hunspell'\n",
    "comp_df = pd.concat([comp_df_tool, comp_df_cogroo], axis=0)"
   ]
  },
  {
   "cell_type": "code",
   "execution_count": 286,
   "metadata": {},
   "outputs": [
    {
     "data": {
      "text/plain": [
       "Text(0.5, 0, 'Models')"
      ]
     },
     "execution_count": 286,
     "metadata": {},
     "output_type": "execute_result"
    },
    {
     "data": {
      "image/png": "[encoded data removed]",
      "text/plain": [
       "<Figure size 800x400 with 1 Axes>"
      ]
     },
     "metadata": {},
     "output_type": "display_data"
    }
   ],
   "source": [
    "plt.figure(figsize = (8, 4))\n",
    "sns.barplot(comp_df, hue='source', x='variable', y='value')\n",
    "plt.title(\"Comparing cogroo and language tool models\")\n",
    "plt.ylabel(\"F1 cross validation (10 folds) training scores\")\n",
    "plt.xlabel(\"Models\")\n"
   ]
  },
  {
   "cell_type": "markdown",
   "metadata": {},
   "source": [
    "### Optimazing SVM"
   ]
  },
  {
   "cell_type": "code",
   "execution_count": 162,
   "metadata": {},
   "outputs": [],
   "source": [
    "param_grid = {'C': [0.1, 1, 10, 100, 1000],\n",
    "              'gamma': [1, 0.1, 0.01, 0.001, 0.0001],\n",
    "              'kernel': ['rbf','linear']}\n",
    "one_class_clf = GridSearchCV(SVC(), param_grid, scoring=\"accuracy\")\n",
    "clf = OneVsOneClassifier(one_class_clf)"
   ]
  },
  {
   "cell_type": "code",
   "execution_count": 171,
   "metadata": {},
   "outputs": [],
   "source": [
    "scaler = MinMaxScaler()\n",
    "scale = scaler.fit(train_X1)\n",
    "train_X1_scaled = scale.fit_transform(train_X1)\n",
    "test_X1_scaled = scale.fit_transform(test_X1)\n"
   ]
  },
  {
   "cell_type": "code",
   "execution_count": 172,
   "metadata": {},
   "outputs": [],
   "source": [
    "svm_model = clf.fit(train_X1_scaled, train_y1)"
   ]
  },
  {
   "cell_type": "code",
   "execution_count": 174,
   "metadata": {},
   "outputs": [
    {
     "data": {
      "text/plain": [
       "0.46239067055393585"
      ]
     },
     "execution_count": 174,
     "metadata": {},
     "output_type": "execute_result"
    }
   ],
   "source": [
    "svm_model.score(train_X1_scaled, train_y1)"
   ]
  },
  {
   "cell_type": "code",
   "execution_count": 181,
   "metadata": {},
   "outputs": [],
   "source": [
    "pred_y1 = svm_model.predict(test_X1_scaled)"
   ]
  },
  {
   "cell_type": "code",
   "execution_count": 193,
   "metadata": {},
   "outputs": [
    {
     "data": {
      "text/plain": [
       "<sklearn.metrics._plot.confusion_matrix.ConfusionMatrixDisplay at 0x1dd58832500>"
      ]
     },
     "execution_count": 193,
     "metadata": {},
     "output_type": "execute_result"
    },
    {
     "data": {
      "image/png": "[encoded data removed]",
      "text/plain": [
       "<Figure size 640x480 with 2 Axes>"
      ]
     },
     "metadata": {},
     "output_type": "display_data"
    }
   ],
   "source": [
    "cm = confusion_matrix(test_y1, pred_y1, labels=svm_model.classes_)\n",
    "disp = ConfusionMatrixDisplay(confusion_matrix=cm,\n",
    "                                display_labels=svm_model.classes_)\n",
    "disp.plot()"
   ]
  },
  {
   "cell_type": "code",
   "execution_count": 194,
   "metadata": {},
   "outputs": [
    {
     "name": "stdout",
     "output_type": "stream",
     "text": [
      "              precision    recall  f1-score   support\n",
      "\n",
      "         0.0       1.00      0.06      0.12        16\n",
      "         0.5       0.52      0.13      0.21       100\n",
      "         1.0       0.41      0.89      0.56       157\n",
      "         1.5       0.47      0.23      0.31       121\n",
      "         2.0       0.00      0.00      0.00        35\n",
      "\n",
      "    accuracy                           0.42       429\n",
      "   macro avg       0.48      0.26      0.24       429\n",
      "weighted avg       0.44      0.42      0.35       429\n",
      "\n"
     ]
    },
    {
     "name": "stderr",
     "output_type": "stream",
     "text": [
      "c:\\Users\\mwuillau\\Documents\\UFRJ\\Correcao-redacoes-ENEM\\env\\lib\\site-packages\\sklearn\\metrics\\_classification.py:1344: UndefinedMetricWarning: Precision and F-score are ill-defined and being set to 0.0 in labels with no predicted samples. Use `zero_division` parameter to control this behavior.\n",
      "  _warn_prf(average, modifier, msg_start, len(result))\n",
      "c:\\Users\\mwuillau\\Documents\\UFRJ\\Correcao-redacoes-ENEM\\env\\lib\\site-packages\\sklearn\\metrics\\_classification.py:1344: UndefinedMetricWarning: Precision and F-score are ill-defined and being set to 0.0 in labels with no predicted samples. Use `zero_division` parameter to control this behavior.\n",
      "  _warn_prf(average, modifier, msg_start, len(result))\n",
      "c:\\Users\\mwuillau\\Documents\\UFRJ\\Correcao-redacoes-ENEM\\env\\lib\\site-packages\\sklearn\\metrics\\_classification.py:1344: UndefinedMetricWarning: Precision and F-score are ill-defined and being set to 0.0 in labels with no predicted samples. Use `zero_division` parameter to control this behavior.\n",
      "  _warn_prf(average, modifier, msg_start, len(result))\n"
     ]
    }
   ],
   "source": [
    "print(classification_report(test_y1, pred_y1))"
   ]
  }
 ],
 "metadata": {
  "language_info": {
   "name": "python"
  },
  "orig_nbformat": 4
 },
 "nbformat": 4,
 "nbformat_minor": 2
}
