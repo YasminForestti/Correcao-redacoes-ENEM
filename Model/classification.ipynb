{
 "cells": [
  {
   "cell_type": "code",
   "execution_count": 60,
   "metadata": {},
   "outputs": [],
   "source": [
    "import pandas as pd\n",
    "from sklearn.multiclass import OneVsOneClassifier, OneVsRestClassifier \n",
    "import matplotlib.pyplot as plt\n",
    "from sklearn.metrics import precision_recall_fscore_support\n",
    "import numpy as np\n",
    "from sklearn.model_selection import train_test_split\n",
    "from imblearn.under_sampling import RandomUnderSampler\n",
    "import seaborn as sns\n",
    "from sklearn.metrics import confusion_matrix, ConfusionMatrixDisplay\n",
    "from sklearn.preprocessing import MinMaxScaler\n",
    "from sklearn.model_selection import GridSearchCV\n",
    "from sklearn.metrics import make_scorer\n",
    "from sklearn.metrics import f1_score\n",
    "from sklearn.metrics import recall_score\n",
    "from sklearn.metrics import precision_score\n",
    "from sklearn.metrics import roc_curve\n",
    "from sklearn.metrics import roc_auc_score\n",
    "from sklearn.metrics import confusion_matrix\n",
    "from sklearn.metrics import accuracy_score\n",
    "from sklearn.metrics import r2_score\n",
    "from sklearn.metrics import mean_absolute_error\n",
    "from sklearn.metrics import mean_squared_error\n",
    "from sklearn.preprocessing import StandardScaler\n",
    "from sklearn.model_selection import train_test_split\n",
    "from sklearn.model_selection import KFold\n",
    "from sklearn.model_selection import StratifiedKFold\n",
    "from sklearn.model_selection import cross_val_score\n",
    "from sklearn.model_selection import GridSearchCV\n",
    "from sklearn.metrics import classification_report\n",
    "from sklearn.metrics import confusion_matrix\n",
    "from sklearn.metrics import accuracy_score\n",
    "from sklearn.pipeline import Pipeline\n",
    "from sklearn.linear_model import LogisticRegression\n",
    "from sklearn.tree import DecisionTreeClassifier\n",
    "from sklearn.neighbors import KNeighborsClassifier\n",
    "from sklearn.discriminant_analysis import LinearDiscriminantAnalysis\n",
    "from sklearn.naive_bayes import GaussianNB\n",
    "from sklearn.svm import SVC\n",
    "from sklearn.ensemble import AdaBoostClassifier\n",
    "from sklearn.ensemble import GradientBoostingClassifier\n",
    "from sklearn.ensemble import RandomForestClassifier\n",
    "from sklearn.ensemble import ExtraTreesClassifier"
   ]
  },
  {
   "cell_type": "markdown",
   "metadata": {},
   "source": [
    "### Import and analyse datasets"
   ]
  },
  {
   "cell_type": "code",
   "execution_count": 64,
   "metadata": {},
   "outputs": [],
   "source": [
    "dataset_tool_sofist_comma = pd.read_csv(\"../data/model/dataset_tool_sofist_comma.csv\")\n",
    "dataset_cogroo_sofist_comma = pd.read_csv(\"../data/model/dataset_cogroo_sofist_comma.csv\")"
   ]
  },
  {
   "cell_type": "code",
   "execution_count": 65,
   "metadata": {},
   "outputs": [
    {
     "data": {
      "text/plain": [
       "Index(['essay', 'comp1', 'CASING', 'CLICHES', 'COMPOUNDING', 'CONFUSED_WORDS',\n",
       "       'CONTRACTIONS', 'FORMAL_SPEECH', 'GRAMMAR', 'MISC', 'MISSPELLING',\n",
       "       'PUNCTUATION', 'REDACTION_TIPS', 'REDUNDANCY', 'REPETITIONS', 'STYLE',\n",
       "       'SYNTAX', 'TYPOS', '#correções tool_language', 'palavras_por_texto',\n",
       "       'paragrafos_por_texto', 'palavras_no_paragrafo_1',\n",
       "       'palavras_no_ultimo_paragrafo', 'palavras_nos_intermediarios',\n",
       "       'palavras_unicas', 'quantidade_de_sentencas_longas',\n",
       "       'quantidade_de_paragrafos_com_sentenca_unica', 'comma_mistakes'],\n",
       "      dtype='object')"
      ]
     },
     "execution_count": 65,
     "metadata": {},
     "output_type": "execute_result"
    }
   ],
   "source": [
    "dataset_tool_sofist_comma.columns"
   ]
  },
  {
   "cell_type": "code",
   "execution_count": 66,
   "metadata": {},
   "outputs": [
    {
     "data": {
      "text/plain": [
       "Index(['essay', 'comp1', 'government:GOVERNMENT', 'probs:paronyms',\n",
       "       'punctuation:BEFORE_SENTENCES', 'repetition:DUPLICATED_TOKEN', 'xml:1',\n",
       "       'xml:10', 'xml:103', 'xml:104', 'xml:105', 'xml:107', 'xml:11',\n",
       "       'xml:111', 'xml:113', 'xml:114', 'xml:115', 'xml:117', 'xml:118',\n",
       "       'xml:121', 'xml:122', 'xml:124', 'xml:127', 'xml:128', 'xml:129',\n",
       "       'xml:13', 'xml:14', 'xml:17', 'xml:2', 'xml:21', 'xml:3', 'xml:39',\n",
       "       'xml:4', 'xml:40', 'xml:46', 'xml:47', 'xml:5', 'xml:50', 'xml:51',\n",
       "       'xml:52', 'xml:57', 'xml:58', 'xml:6', 'xml:61', 'xml:65', 'xml:67',\n",
       "       'xml:71', 'xml:73', 'xml:78', 'xml:79', 'xml:82', 'xml:84', 'xml:86',\n",
       "       'xml:87', 'xml:88', 'xml:9', 'xml:91', 'xml:95', 'xml:96', 'xml:97',\n",
       "       '#correções cogroo', 'palavras_por_texto', 'paragrafos_por_texto',\n",
       "       'palavras_no_paragrafo_1', 'palavras_no_ultimo_paragrafo',\n",
       "       'palavras_nos_intermediarios', 'palavras_unicas',\n",
       "       'quantidade_de_sentencas_longas',\n",
       "       'quantidade_de_paragrafos_com_sentenca_unica', 'comma_mistakes',\n",
       "       'TYPOS'],\n",
       "      dtype='object')"
      ]
     },
     "execution_count": 66,
     "metadata": {},
     "output_type": "execute_result"
    }
   ],
   "source": [
    "dataset_cogroo_sofist_comma.columns"
   ]
  },
  {
   "cell_type": "markdown",
   "metadata": {},
   "source": [
    "### Pre-processing"
   ]
  },
  {
   "cell_type": "code",
   "execution_count": 67,
   "metadata": {},
   "outputs": [],
   "source": [
    "X1 = dataset_tool_sofist_comma.drop(columns=['comp1', 'essay'])\n",
    "y1 = dataset_tool_sofist_comma['comp1'].astype(str)\n",
    "train_X1, test_X1, train_y1, test_y1 = train_test_split(X1,y1, test_size=0.2, random_state=42)"
   ]
  },
  {
   "cell_type": "code",
   "execution_count": 68,
   "metadata": {},
   "outputs": [
    {
     "data": {
      "text/plain": [
       "comp1\n",
       "1.0    887\n",
       "1.5    567\n",
       "0.5    428\n",
       "2.0    189\n",
       "0.0     93\n",
       "Name: count, dtype: int64"
      ]
     },
     "execution_count": 68,
     "metadata": {},
     "output_type": "execute_result"
    }
   ],
   "source": [
    "y1.value_counts()"
   ]
  },
  {
   "cell_type": "code",
   "execution_count": 70,
   "metadata": {},
   "outputs": [],
   "source": [
    "X2 = dataset_cogroo_sofist_comma.drop(columns=['comp1', 'essay'])\n",
    "y2 = dataset_cogroo_sofist_comma['comp1'].astype(str)\n",
    "train_X2, test_X2, train_y2, test_y2 = train_test_split(X2,y2, test_size=0.2, random_state=42)"
   ]
  },
  {
   "cell_type": "code",
   "execution_count": 71,
   "metadata": {},
   "outputs": [
    {
     "data": {
      "text/plain": [
       "comp1\n",
       "1.0    887\n",
       "1.5    567\n",
       "0.5    428\n",
       "2.0    189\n",
       "0.0     93\n",
       "Name: count, dtype: int64"
      ]
     },
     "execution_count": 71,
     "metadata": {},
     "output_type": "execute_result"
    }
   ],
   "source": [
    "y2.value_counts()"
   ]
  },
  {
   "cell_type": "code",
   "execution_count": 72,
   "metadata": {},
   "outputs": [],
   "source": [
    "undersample = RandomUnderSampler(sampling_strategy='not minority')\n",
    "train_X1_under, train_y1_under = undersample.fit_resample(train_X1, train_y1)\n",
    "train_X2_under, train_y2_under = undersample.fit_resample(train_X2, train_y2)"
   ]
  },
  {
   "cell_type": "code",
   "execution_count": 75,
   "metadata": {},
   "outputs": [
    {
     "data": {
      "text/plain": [
       "comp1\n",
       "0.0    73\n",
       "0.5    73\n",
       "1.0    73\n",
       "1.5    73\n",
       "2.0    73\n",
       "Name: count, dtype: int64"
      ]
     },
     "execution_count": 75,
     "metadata": {},
     "output_type": "execute_result"
    }
   ],
   "source": [
    "train_y1_under.value_counts()"
   ]
  },
  {
   "cell_type": "code",
   "execution_count": 74,
   "metadata": {},
   "outputs": [
    {
     "data": {
      "text/plain": [
       "comp1\n",
       "0.0    73\n",
       "0.5    73\n",
       "1.0    73\n",
       "1.5    73\n",
       "2.0    73\n",
       "Name: count, dtype: int64"
      ]
     },
     "execution_count": 74,
     "metadata": {},
     "output_type": "execute_result"
    }
   ],
   "source": [
    "train_y2_under.value_counts()"
   ]
  },
  {
   "cell_type": "markdown",
   "metadata": {},
   "source": [
    "### Generating Models"
   ]
  },
  {
   "cell_type": "code",
   "execution_count": 76,
   "metadata": {},
   "outputs": [],
   "source": [
    "def calculate_metrics(model, _x_train, _y_train, _x_test, _y_test):\n",
    "    train_metric = model.score(_x_train, _y_train)\n",
    "    test_metric = model.score(_x_test, _y_test) \n",
    "    _y_pred = model.predict(_x_test)\n",
    "    classes = model.classes_\n",
    "    metrics = [\n",
    "        [\"train\", train_metric],\n",
    "        [\"test\", test_metric],\n",
    "        [\"accuracy\", accuracy_score(_y_test, _y_pred)],\n",
    "        [\"f1-macro\", f1_score(_y_test, _y_pred, average='macro')],\n",
    "        [\"mean-squared-error\", mean_squared_error(_y_test, _y_pred)]\n",
    "    ]\n",
    "    return metrics"
   ]
  },
  {
   "cell_type": "code",
   "execution_count": 77,
   "metadata": {},
   "outputs": [],
   "source": [
    "from sklearn.preprocessing import StandardScaler\n",
    "from sklearn.preprocessing import MinMaxScaler\n",
    "\n",
    "\n",
    "def GetScaledModel(nameOfScaler):\n",
    "    pipelines = []\n",
    "    if nameOfScaler == 'standard':\n",
    "        scaler = StandardScaler()\n",
    "    elif nameOfScaler =='minmax':\n",
    "        scaler = MinMaxScaler()\n",
    "    \n",
    "    pipelines.append((nameOfScaler+'KNN' , Pipeline([('Scaler', scaler),('KNN' ,KNeighborsClassifier())])))\n",
    "    pipelines.append((nameOfScaler+'NB'  , Pipeline([('Scaler', scaler),('NB'  ,GaussianNB())])))\n",
    "    pipelines.append((nameOfScaler+'SVM' , Pipeline([('Scaler', scaler),('SVM' ,SVC())])))\n",
    "    pipelines.append((nameOfScaler+'AB'  , Pipeline([('Scaler', scaler),('AB'  ,AdaBoostClassifier())])  ))\n",
    "    pipelines.append((nameOfScaler+'GBM' , Pipeline([('Scaler', scaler),('GMB' ,GradientBoostingClassifier())])))\n",
    "    pipelines.append((nameOfScaler+'RF'  , Pipeline([('Scaler', scaler),('RF'  ,RandomForestClassifier())])))\n",
    "\n",
    "    return pipelines"
   ]
  },
  {
   "cell_type": "code",
   "execution_count": 78,
   "metadata": {},
   "outputs": [],
   "source": [
    "def BasedLine2(X_train, y_train,models):\n",
    "    # Test options and evaluation metric\n",
    "    num_folds = 10\n",
    "    scoring = 'f1_weighted'\n",
    "\n",
    "    results = {}\n",
    "    for name, model in models:\n",
    "        kfold = StratifiedKFold(n_splits=num_folds)\n",
    "        # print(model)\n",
    "        cv_results = cross_val_score(model, X_train, y_train, cv=kfold, scoring=scoring)\n",
    "        results[f'{name}'] = cv_results\n",
    "        msg = \"%s: %f (%f)\" % (name, cv_results.mean(), cv_results.std())\n",
    "  \n",
    "    return results"
   ]
  },
  {
   "cell_type": "markdown",
   "metadata": {},
   "source": [
    "- Testing for language tool"
   ]
  },
  {
   "cell_type": "code",
   "execution_count": 79,
   "metadata": {},
   "outputs": [],
   "source": [
    "models = GetScaledModel('minmax')\n",
    "results = BasedLine2(train_X1, train_y1,models)"
   ]
  },
  {
   "cell_type": "code",
   "execution_count": 80,
   "metadata": {},
   "outputs": [
    {
     "data": {
      "text/html": [
       "<div>\n",
       "<style scoped>\n",
       "    .dataframe tbody tr th:only-of-type {\n",
       "        vertical-align: middle;\n",
       "    }\n",
       "\n",
       "    .dataframe tbody tr th {\n",
       "        vertical-align: top;\n",
       "    }\n",
       "\n",
       "    .dataframe thead th {\n",
       "        text-align: right;\n",
       "    }\n",
       "</style>\n",
       "<table border=\"1\" class=\"dataframe\">\n",
       "  <thead>\n",
       "    <tr style=\"text-align: right;\">\n",
       "      <th></th>\n",
       "      <th>minmaxKNN</th>\n",
       "      <th>minmaxNB</th>\n",
       "      <th>minmaxSVM</th>\n",
       "      <th>minmaxAB</th>\n",
       "      <th>minmaxGBM</th>\n",
       "      <th>minmaxRF</th>\n",
       "    </tr>\n",
       "  </thead>\n",
       "  <tbody>\n",
       "    <tr>\n",
       "      <th>0</th>\n",
       "      <td>0.374694</td>\n",
       "      <td>0.355928</td>\n",
       "      <td>0.406234</td>\n",
       "      <td>0.374957</td>\n",
       "      <td>0.432700</td>\n",
       "      <td>0.395187</td>\n",
       "    </tr>\n",
       "    <tr>\n",
       "      <th>1</th>\n",
       "      <td>0.295673</td>\n",
       "      <td>0.303492</td>\n",
       "      <td>0.352098</td>\n",
       "      <td>0.347835</td>\n",
       "      <td>0.355400</td>\n",
       "      <td>0.363478</td>\n",
       "    </tr>\n",
       "    <tr>\n",
       "      <th>2</th>\n",
       "      <td>0.315171</td>\n",
       "      <td>0.286636</td>\n",
       "      <td>0.320031</td>\n",
       "      <td>0.289418</td>\n",
       "      <td>0.393799</td>\n",
       "      <td>0.379405</td>\n",
       "    </tr>\n",
       "    <tr>\n",
       "      <th>3</th>\n",
       "      <td>0.374106</td>\n",
       "      <td>0.300183</td>\n",
       "      <td>0.321550</td>\n",
       "      <td>0.388620</td>\n",
       "      <td>0.405442</td>\n",
       "      <td>0.363634</td>\n",
       "    </tr>\n",
       "    <tr>\n",
       "      <th>4</th>\n",
       "      <td>0.348831</td>\n",
       "      <td>0.045660</td>\n",
       "      <td>0.343235</td>\n",
       "      <td>0.386217</td>\n",
       "      <td>0.385537</td>\n",
       "      <td>0.349746</td>\n",
       "    </tr>\n",
       "  </tbody>\n",
       "</table>\n",
       "</div>"
      ],
      "text/plain": [
       "   minmaxKNN  minmaxNB  minmaxSVM  minmaxAB  minmaxGBM  minmaxRF\n",
       "0   0.374694  0.355928   0.406234  0.374957   0.432700  0.395187\n",
       "1   0.295673  0.303492   0.352098  0.347835   0.355400  0.363478\n",
       "2   0.315171  0.286636   0.320031  0.289418   0.393799  0.379405\n",
       "3   0.374106  0.300183   0.321550  0.388620   0.405442  0.363634\n",
       "4   0.348831  0.045660   0.343235  0.386217   0.385537  0.349746"
      ]
     },
     "execution_count": 80,
     "metadata": {},
     "output_type": "execute_result"
    }
   ],
   "source": [
    "tool_results = pd.DataFrame(results)\n",
    "tool_results.head()"
   ]
  },
  {
   "cell_type": "code",
   "execution_count": 81,
   "metadata": {},
   "outputs": [],
   "source": [
    "models = GetScaledModel('minmax')\n",
    "results = BasedLine2(train_X1_under, train_y1_under,models)"
   ]
  },
  {
   "cell_type": "code",
   "execution_count": 82,
   "metadata": {},
   "outputs": [
    {
     "data": {
      "text/html": [
       "<div>\n",
       "<style scoped>\n",
       "    .dataframe tbody tr th:only-of-type {\n",
       "        vertical-align: middle;\n",
       "    }\n",
       "\n",
       "    .dataframe tbody tr th {\n",
       "        vertical-align: top;\n",
       "    }\n",
       "\n",
       "    .dataframe thead th {\n",
       "        text-align: right;\n",
       "    }\n",
       "</style>\n",
       "<table border=\"1\" class=\"dataframe\">\n",
       "  <thead>\n",
       "    <tr style=\"text-align: right;\">\n",
       "      <th></th>\n",
       "      <th>minmaxKNN</th>\n",
       "      <th>minmaxNB</th>\n",
       "      <th>minmaxSVM</th>\n",
       "      <th>minmaxAB</th>\n",
       "      <th>minmaxGBM</th>\n",
       "      <th>minmaxRF</th>\n",
       "    </tr>\n",
       "  </thead>\n",
       "  <tbody>\n",
       "    <tr>\n",
       "      <th>0</th>\n",
       "      <td>0.280476</td>\n",
       "      <td>0.239640</td>\n",
       "      <td>0.412634</td>\n",
       "      <td>0.158420</td>\n",
       "      <td>0.300408</td>\n",
       "      <td>0.304399</td>\n",
       "    </tr>\n",
       "    <tr>\n",
       "      <th>1</th>\n",
       "      <td>0.293709</td>\n",
       "      <td>0.348401</td>\n",
       "      <td>0.266787</td>\n",
       "      <td>0.327761</td>\n",
       "      <td>0.288288</td>\n",
       "      <td>0.299515</td>\n",
       "    </tr>\n",
       "    <tr>\n",
       "      <th>2</th>\n",
       "      <td>0.433116</td>\n",
       "      <td>0.263008</td>\n",
       "      <td>0.438782</td>\n",
       "      <td>0.269375</td>\n",
       "      <td>0.313962</td>\n",
       "      <td>0.284685</td>\n",
       "    </tr>\n",
       "    <tr>\n",
       "      <th>3</th>\n",
       "      <td>0.360307</td>\n",
       "      <td>0.426681</td>\n",
       "      <td>0.436672</td>\n",
       "      <td>0.324436</td>\n",
       "      <td>0.364950</td>\n",
       "      <td>0.392356</td>\n",
       "    </tr>\n",
       "    <tr>\n",
       "      <th>4</th>\n",
       "      <td>0.363755</td>\n",
       "      <td>0.150150</td>\n",
       "      <td>0.385360</td>\n",
       "      <td>0.257022</td>\n",
       "      <td>0.241626</td>\n",
       "      <td>0.325163</td>\n",
       "    </tr>\n",
       "  </tbody>\n",
       "</table>\n",
       "</div>"
      ],
      "text/plain": [
       "   minmaxKNN  minmaxNB  minmaxSVM  minmaxAB  minmaxGBM  minmaxRF\n",
       "0   0.280476  0.239640   0.412634  0.158420   0.300408  0.304399\n",
       "1   0.293709  0.348401   0.266787  0.327761   0.288288  0.299515\n",
       "2   0.433116  0.263008   0.438782  0.269375   0.313962  0.284685\n",
       "3   0.360307  0.426681   0.436672  0.324436   0.364950  0.392356\n",
       "4   0.363755  0.150150   0.385360  0.257022   0.241626  0.325163"
      ]
     },
     "execution_count": 82,
     "metadata": {},
     "output_type": "execute_result"
    }
   ],
   "source": [
    "tool_results_under = pd.DataFrame(results)\n",
    "tool_results_under.head()"
   ]
  },
  {
   "cell_type": "markdown",
   "metadata": {},
   "source": [
    "- Testing for Cogroo"
   ]
  },
  {
   "cell_type": "code",
   "execution_count": 87,
   "metadata": {},
   "outputs": [],
   "source": [
    "models = GetScaledModel('minmax')\n",
    "results = BasedLine2(train_X2, train_y2,models)"
   ]
  },
  {
   "cell_type": "code",
   "execution_count": 88,
   "metadata": {},
   "outputs": [
    {
     "data": {
      "text/html": [
       "<div>\n",
       "<style scoped>\n",
       "    .dataframe tbody tr th:only-of-type {\n",
       "        vertical-align: middle;\n",
       "    }\n",
       "\n",
       "    .dataframe tbody tr th {\n",
       "        vertical-align: top;\n",
       "    }\n",
       "\n",
       "    .dataframe thead th {\n",
       "        text-align: right;\n",
       "    }\n",
       "</style>\n",
       "<table border=\"1\" class=\"dataframe\">\n",
       "  <thead>\n",
       "    <tr style=\"text-align: right;\">\n",
       "      <th></th>\n",
       "      <th>minmaxKNN</th>\n",
       "      <th>minmaxNB</th>\n",
       "      <th>minmaxSVM</th>\n",
       "      <th>minmaxAB</th>\n",
       "      <th>minmaxGBM</th>\n",
       "      <th>minmaxRF</th>\n",
       "    </tr>\n",
       "  </thead>\n",
       "  <tbody>\n",
       "    <tr>\n",
       "      <th>0</th>\n",
       "      <td>0.293794</td>\n",
       "      <td>0.028851</td>\n",
       "      <td>0.297025</td>\n",
       "      <td>0.490765</td>\n",
       "      <td>0.345475</td>\n",
       "      <td>0.385481</td>\n",
       "    </tr>\n",
       "    <tr>\n",
       "      <th>1</th>\n",
       "      <td>0.342445</td>\n",
       "      <td>0.070764</td>\n",
       "      <td>0.301651</td>\n",
       "      <td>0.358446</td>\n",
       "      <td>0.393045</td>\n",
       "      <td>0.407081</td>\n",
       "    </tr>\n",
       "    <tr>\n",
       "      <th>2</th>\n",
       "      <td>0.299806</td>\n",
       "      <td>0.061747</td>\n",
       "      <td>0.259380</td>\n",
       "      <td>0.352825</td>\n",
       "      <td>0.434606</td>\n",
       "      <td>0.429737</td>\n",
       "    </tr>\n",
       "    <tr>\n",
       "      <th>3</th>\n",
       "      <td>0.355786</td>\n",
       "      <td>0.044588</td>\n",
       "      <td>0.303147</td>\n",
       "      <td>0.361401</td>\n",
       "      <td>0.371994</td>\n",
       "      <td>0.331290</td>\n",
       "    </tr>\n",
       "    <tr>\n",
       "      <th>4</th>\n",
       "      <td>0.317649</td>\n",
       "      <td>0.071512</td>\n",
       "      <td>0.288808</td>\n",
       "      <td>0.357547</td>\n",
       "      <td>0.327665</td>\n",
       "      <td>0.325108</td>\n",
       "    </tr>\n",
       "  </tbody>\n",
       "</table>\n",
       "</div>"
      ],
      "text/plain": [
       "   minmaxKNN  minmaxNB  minmaxSVM  minmaxAB  minmaxGBM  minmaxRF\n",
       "0   0.293794  0.028851   0.297025  0.490765   0.345475  0.385481\n",
       "1   0.342445  0.070764   0.301651  0.358446   0.393045  0.407081\n",
       "2   0.299806  0.061747   0.259380  0.352825   0.434606  0.429737\n",
       "3   0.355786  0.044588   0.303147  0.361401   0.371994  0.331290\n",
       "4   0.317649  0.071512   0.288808  0.357547   0.327665  0.325108"
      ]
     },
     "execution_count": 88,
     "metadata": {},
     "output_type": "execute_result"
    }
   ],
   "source": [
    "cogroo_results = pd.DataFrame(results)\n",
    "cogroo_results.head()"
   ]
  },
  {
   "cell_type": "code",
   "execution_count": 89,
   "metadata": {},
   "outputs": [],
   "source": [
    "models = GetScaledModel('minmax')\n",
    "results = BasedLine2(train_X2_under, train_y2_under,models)"
   ]
  },
  {
   "cell_type": "code",
   "execution_count": 90,
   "metadata": {},
   "outputs": [
    {
     "data": {
      "text/html": [
       "<div>\n",
       "<style scoped>\n",
       "    .dataframe tbody tr th:only-of-type {\n",
       "        vertical-align: middle;\n",
       "    }\n",
       "\n",
       "    .dataframe tbody tr th {\n",
       "        vertical-align: top;\n",
       "    }\n",
       "\n",
       "    .dataframe thead th {\n",
       "        text-align: right;\n",
       "    }\n",
       "</style>\n",
       "<table border=\"1\" class=\"dataframe\">\n",
       "  <thead>\n",
       "    <tr style=\"text-align: right;\">\n",
       "      <th></th>\n",
       "      <th>minmaxKNN</th>\n",
       "      <th>minmaxNB</th>\n",
       "      <th>minmaxSVM</th>\n",
       "      <th>minmaxAB</th>\n",
       "      <th>minmaxGBM</th>\n",
       "      <th>minmaxRF</th>\n",
       "    </tr>\n",
       "  </thead>\n",
       "  <tbody>\n",
       "    <tr>\n",
       "      <th>0</th>\n",
       "      <td>0.293794</td>\n",
       "      <td>0.028851</td>\n",
       "      <td>0.297025</td>\n",
       "      <td>0.490765</td>\n",
       "      <td>0.345475</td>\n",
       "      <td>0.385481</td>\n",
       "    </tr>\n",
       "    <tr>\n",
       "      <th>1</th>\n",
       "      <td>0.342445</td>\n",
       "      <td>0.070764</td>\n",
       "      <td>0.301651</td>\n",
       "      <td>0.358446</td>\n",
       "      <td>0.393045</td>\n",
       "      <td>0.407081</td>\n",
       "    </tr>\n",
       "    <tr>\n",
       "      <th>2</th>\n",
       "      <td>0.299806</td>\n",
       "      <td>0.061747</td>\n",
       "      <td>0.259380</td>\n",
       "      <td>0.352825</td>\n",
       "      <td>0.434606</td>\n",
       "      <td>0.429737</td>\n",
       "    </tr>\n",
       "    <tr>\n",
       "      <th>3</th>\n",
       "      <td>0.355786</td>\n",
       "      <td>0.044588</td>\n",
       "      <td>0.303147</td>\n",
       "      <td>0.361401</td>\n",
       "      <td>0.371994</td>\n",
       "      <td>0.331290</td>\n",
       "    </tr>\n",
       "    <tr>\n",
       "      <th>4</th>\n",
       "      <td>0.317649</td>\n",
       "      <td>0.071512</td>\n",
       "      <td>0.288808</td>\n",
       "      <td>0.357547</td>\n",
       "      <td>0.327665</td>\n",
       "      <td>0.325108</td>\n",
       "    </tr>\n",
       "  </tbody>\n",
       "</table>\n",
       "</div>"
      ],
      "text/plain": [
       "   minmaxKNN  minmaxNB  minmaxSVM  minmaxAB  minmaxGBM  minmaxRF\n",
       "0   0.293794  0.028851   0.297025  0.490765   0.345475  0.385481\n",
       "1   0.342445  0.070764   0.301651  0.358446   0.393045  0.407081\n",
       "2   0.299806  0.061747   0.259380  0.352825   0.434606  0.429737\n",
       "3   0.355786  0.044588   0.303147  0.361401   0.371994  0.331290\n",
       "4   0.317649  0.071512   0.288808  0.357547   0.327665  0.325108"
      ]
     },
     "execution_count": 90,
     "metadata": {},
     "output_type": "execute_result"
    }
   ],
   "source": [
    "cogroo_results_under = pd.DataFrame(results)\n",
    "cogroo_results.head()"
   ]
  },
  {
   "cell_type": "markdown",
   "metadata": {},
   "source": [
    "- Generate Comparative Graph"
   ]
  },
  {
   "cell_type": "code",
   "execution_count": 91,
   "metadata": {},
   "outputs": [],
   "source": [
    "comp_df_tool = pd.melt(tool_results)\n",
    "comp_df_tool['fonte'] = 'language tool (sem undersampling)'\n",
    "comp_df_cogroo = pd.melt(cogroo_results)\n",
    "comp_df_cogroo['fonte'] = 'cogroo + hunspell (sem undersampling)'\n",
    "\n",
    "comp_df_tool_under = pd.melt(tool_results_under)\n",
    "comp_df_tool_under['fonte'] = 'language tool (com undersampling)'\n",
    "comp_df_cogroo_under = pd.melt(cogroo_results_under)\n",
    "comp_df_cogroo_under['fonte'] = 'cogroo + hunspell (com undersampling)'\n",
    "\n",
    "comp_df = pd.concat([comp_df_tool, comp_df_cogroo, comp_df_cogroo_under], axis=0)"
   ]
  },
  {
   "cell_type": "code",
   "execution_count": 92,
   "metadata": {},
   "outputs": [
    {
     "data": {
      "text/plain": [
       "Text(0.5, 0, 'Modelos')"
      ]
     },
     "execution_count": 92,
     "metadata": {},
     "output_type": "execute_result"
    },
    {
     "data": {
      "image/png": "[encoded data removed]",
      "text/plain": [
       "<Figure size 1000x400 with 1 Axes>"
      ]
     },
     "metadata": {},
     "output_type": "display_data"
    }
   ],
   "source": [
    "plt.figure(figsize = (10, 4))\n",
    "sns.barplot(comp_df, hue='fonte', x='variable', y='value')\n",
    "plt.title(\"Comparando o Cogroo e o Language Tool Sem Undersampling\")\n",
    "plt.ylabel(\"F1 weighted Médio\")\n",
    "plt.xlabel(\"Modelos\")\n"
   ]
  },
  {
   "cell_type": "code",
   "execution_count": 94,
   "metadata": {},
   "outputs": [
    {
     "data": {
      "text/plain": [
       "Text(0.5, 0, 'Modelos')"
      ]
     },
     "execution_count": 94,
     "metadata": {},
     "output_type": "execute_result"
    },
    {
     "data": {
      "image/png": "[encoded data removed]",
      "text/plain": [
       "<Figure size 1000x400 with 1 Axes>"
      ]
     },
     "metadata": {},
     "output_type": "display_data"
    }
   ],
   "source": [
    "plt.figure(figsize = (10, 4))\n",
    "sns.barplot(comp_df, hue='fonte', x='variable', y='value')\n",
    "plt.title(\"Comparando o Cogroo e o Language Tool Com Undersampling\")\n",
    "plt.ylabel(\"F1 weighted Médio\")\n",
    "plt.xlabel(\"Modelos\")\n"
   ]
  },
  {
   "cell_type": "markdown",
   "metadata": {},
   "source": [
    "### Optimazing GradientBoostingClassifier"
   ]
  },
  {
   "cell_type": "code",
   "execution_count": 12,
   "metadata": {},
   "outputs": [],
   "source": [
    "scaler = MinMaxScaler()\n",
    "scale = scaler.fit(train_X1)\n",
    "train_X1_scaled = scale.fit_transform(train_X1)\n",
    "test_X1_scaled = scale.fit_transform(test_X1)"
   ]
  },
  {
   "cell_type": "code",
   "execution_count": 13,
   "metadata": {},
   "outputs": [
    {
     "ename": "",
     "evalue": "",
     "output_type": "error",
     "traceback": [
      "\u001b[1;31mThe Kernel crashed while executing code in the the current cell or a previous cell. Please review the code in the cell(s) to identify a possible cause of the failure. Click <a href='https://aka.ms/vscodeJupyterKernelCrash'>here</a> for more info. View Jupyter <a href='command:jupyter.viewOutput'>log</a> for further details."
     ]
    }
   ],
   "source": [
    "param_grid = {\n",
    "    \"learning_rate\": [0.01, 0.025, 0.05, 0.075, 0.1, 0.15, 0.2],\n",
    "    \"min_samples_split\": np.linspace(0.1, 0.5, 12),\n",
    "    \"min_samples_leaf\": np.linspace(0.1, 0.5, 12),\n",
    "    \"max_depth\":[3,5,8],\n",
    "    \"max_features\":[\"log2\",\"sqrt\"],\n",
    "    \"criterion\": [\"friedman_mse\",  \"mae\"],\n",
    "    \"subsample\":[0.5, 0.618, 0.8, 0.85, 0.9, 0.95, 1.0],\n",
    "    \"n_estimators\":[8, 16, 32, 64, 100]\n",
    "}\n",
    "clf = GridSearchCV(GradientBoostingClassifier(), param_grid, scoring=\"f1_weighted\")"
   ]
  },
  {
   "cell_type": "code",
   "execution_count": null,
   "metadata": {},
   "outputs": [],
   "source": [
    "gradient_boost_model = clf.fit(train_X1_scaled, train_y1)"
   ]
  },
  {
   "cell_type": "code",
   "execution_count": null,
   "metadata": {},
   "outputs": [],
   "source": [
    "clf_multiclass = OneVsOneClassifier(clf)"
   ]
  },
  {
   "cell_type": "code",
   "execution_count": 174,
   "metadata": {},
   "outputs": [
    {
     "data": {
      "text/plain": [
       "0.46239067055393585"
      ]
     },
     "execution_count": 174,
     "metadata": {},
     "output_type": "execute_result"
    }
   ],
   "source": [
    "svm_model.score(train_X1_scaled, train_y1)"
   ]
  },
  {
   "cell_type": "code",
   "execution_count": 181,
   "metadata": {},
   "outputs": [],
   "source": [
    "pred_y1 = svm_model.predict(test_X1_scaled)"
   ]
  },
  {
   "cell_type": "code",
   "execution_count": 193,
   "metadata": {},
   "outputs": [
    {
     "data": {
      "text/plain": [
       "<sklearn.metrics._plot.confusion_matrix.ConfusionMatrixDisplay at 0x1dd58832500>"
      ]
     },
     "execution_count": 193,
     "metadata": {},
     "output_type": "execute_result"
    },
    {
     "data": {
      "image/png": "[encoded data removed]",
      "text/plain": [
       "<Figure size 640x480 with 2 Axes>"
      ]
     },
     "metadata": {},
     "output_type": "display_data"
    }
   ],
   "source": [
    "cm = confusion_matrix(test_y1, pred_y1, labels=svm_model.classes_)\n",
    "disp = ConfusionMatrixDisplay(confusion_matrix=cm,\n",
    "                                display_labels=svm_model.classes_)\n",
    "disp.plot()"
   ]
  },
  {
   "cell_type": "code",
   "execution_count": 194,
   "metadata": {},
   "outputs": [
    {
     "name": "stdout",
     "output_type": "stream",
     "text": [
      "              precision    recall  f1-score   support\n",
      "\n",
      "         0.0       1.00      0.06      0.12        16\n",
      "         0.5       0.52      0.13      0.21       100\n",
      "         1.0       0.41      0.89      0.56       157\n",
      "         1.5       0.47      0.23      0.31       121\n",
      "         2.0       0.00      0.00      0.00        35\n",
      "\n",
      "    accuracy                           0.42       429\n",
      "   macro avg       0.48      0.26      0.24       429\n",
      "weighted avg       0.44      0.42      0.35       429\n",
      "\n"
     ]
    },
    {
     "name": "stderr",
     "output_type": "stream",
     "text": [
      "c:\\Users\\mwuillau\\Documents\\UFRJ\\Correcao-redacoes-ENEM\\env\\lib\\site-packages\\sklearn\\metrics\\_classification.py:1344: UndefinedMetricWarning: Precision and F-score are ill-defined and being set to 0.0 in labels with no predicted samples. Use `zero_division` parameter to control this behavior.\n",
      "  _warn_prf(average, modifier, msg_start, len(result))\n",
      "c:\\Users\\mwuillau\\Documents\\UFRJ\\Correcao-redacoes-ENEM\\env\\lib\\site-packages\\sklearn\\metrics\\_classification.py:1344: UndefinedMetricWarning: Precision and F-score are ill-defined and being set to 0.0 in labels with no predicted samples. Use `zero_division` parameter to control this behavior.\n",
      "  _warn_prf(average, modifier, msg_start, len(result))\n",
      "c:\\Users\\mwuillau\\Documents\\UFRJ\\Correcao-redacoes-ENEM\\env\\lib\\site-packages\\sklearn\\metrics\\_classification.py:1344: UndefinedMetricWarning: Precision and F-score are ill-defined and being set to 0.0 in labels with no predicted samples. Use `zero_division` parameter to control this behavior.\n",
      "  _warn_prf(average, modifier, msg_start, len(result))\n"
     ]
    }
   ],
   "source": [
    "print(classification_report(test_y1, pred_y1))"
   ]
  }
 ],
 "metadata": {
  "kernelspec": {
   "display_name": "env",
   "language": "python",
   "name": "python3"
  },
  "language_info": {
   "codemirror_mode": {
    "name": "ipython",
    "version": 3
   },
   "file_extension": ".py",
   "mimetype": "text/x-python",
   "name": "python",
   "nbconvert_exporter": "python",
   "pygments_lexer": "ipython3",
   "version": "3.10.3"
  },
  "orig_nbformat": 4
 },
 "nbformat": 4,
 "nbformat_minor": 2
}
