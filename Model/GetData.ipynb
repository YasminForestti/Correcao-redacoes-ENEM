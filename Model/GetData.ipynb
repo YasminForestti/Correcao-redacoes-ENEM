{
 "cells": [
  {
   "attachments": {},
   "cell_type": "markdown",
   "metadata": {},
   "source": [
    "2164 redações "
   ]
  },
  {
   "cell_type": "code",
   "execution_count": 2,
   "metadata": {},
   "outputs": [],
   "source": [
    "import pandas as pd"
   ]
  },
  {
   "attachments": {},
   "cell_type": "markdown",
   "metadata": {},
   "source": [
    "## 1 ) Select and merge the Dataframes"
   ]
  },
  {
   "cell_type": "code",
   "execution_count": 11,
   "metadata": {},
   "outputs": [],
   "source": [
    "tool_features = pd.read_csv('../data/features/tool_language_feature.csv', sep=',')\n",
    "sofist_features = pd.read_csv('../data/features/essays_do_joao.csv', sep=',')\n",
    "cogroo_features = pd.read_csv('../data/features/cogroo_feature.csv', sep=',')"
   ]
  },
  {
   "cell_type": "code",
   "execution_count": 13,
   "metadata": {},
   "outputs": [],
   "source": [
    "sofist_features = sofist_features.loc[:,[\"essay\",\"comp1\",\"palavras_por_texto\",\"paragrafos_por_texto\",\"palavras_no_paragrafo_1\",\"palavras_no_ultimo_paragrafo\",\"palavras_nos_intermediarios\",\"palavras_unicas\",\"quantidade_de_sentencas_longas\", \"quantidade_de_paragrafos_com_sentenca_unica\"]]"
   ]
  },
  {
   "cell_type": "code",
   "execution_count": 14,
   "metadata": {},
   "outputs": [],
   "source": [
    "dataset_cogroo_sofist = pd.merge(cogroo_features, sofist_features, how = 'inner')\n",
    "dataset_tool_sofist = pd.merge(tool_features, sofist_features, how = 'inner')"
   ]
  },
  {
   "cell_type": "code",
   "execution_count": null,
   "metadata": {},
   "outputs": [],
   "source": [
    "dataset_cogroo_sofist.to_csv('../data/model/dataset_cogroo_sofist.csv', index=None)\n",
    "dataset_tool_sofist.to_csv('../data/model/dataset_tool_sofist.csv', index=None)\n"
   ]
  }
 ],
 "metadata": {
  "kernelspec": {
   "display_name": "Python 3",
   "language": "python",
   "name": "python3"
  },
  "language_info": {
   "codemirror_mode": {
    "name": "ipython",
    "version": 3
   },
   "file_extension": ".py",
   "mimetype": "text/x-python",
   "name": "python",
   "nbconvert_exporter": "python",
   "pygments_lexer": "ipython3",
   "version": "3.11.3"
  },
  "orig_nbformat": 4
 },
 "nbformat": 4,
 "nbformat_minor": 2
}
