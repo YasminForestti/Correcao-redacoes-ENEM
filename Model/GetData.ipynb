{
 "cells": [
  {
   "attachments": {},
   "cell_type": "markdown",
   "metadata": {},
   "source": [
    "2164 redações "
   ]
  },
  {
   "cell_type": "code",
   "execution_count": 65,
   "metadata": {},
   "outputs": [],
   "source": [
    "import pandas as pd\n",
    "from sklearn import preprocessing"
   ]
  },
  {
   "attachments": {},
   "cell_type": "markdown",
   "metadata": {},
   "source": [
    "## 1 ) Select and merge the Dataframes"
   ]
  },
  {
   "cell_type": "code",
   "execution_count": 82,
   "metadata": {},
   "outputs": [],
   "source": [
    "tool_features = pd.read_csv('../data/features/tool_language_feature.csv', sep=',')\n",
    "sofist_features = pd.read_csv('../data/features/essays_do_joao.csv', sep=',')\n",
    "cogroo_features = pd.read_csv('../data/features/cogroo_feature.csv', sep=',')\n",
    "comma_features = pd.read_csv('../data/features/Comma_error.csv', sep=',')\n",
    "essays = pd.read_csv('../data/essays.csv', sep='|')\n"
   ]
  },
  {
   "cell_type": "code",
   "execution_count": 83,
   "metadata": {},
   "outputs": [],
   "source": [
    "comma_features = comma_features.groupby('essay').sum()\n",
    "comma_features = comma_features['error'].reset_index()\n",
    "sofist_features = sofist_features.loc[:,[\"essay\",\"palavras_por_texto\",\"paragrafos_por_texto\",\"palavras_no_paragrafo_1\",\"palavras_no_ultimo_paragrafo\",\"palavras_nos_intermediarios\",\"palavras_unicas\",\"quantidade_de_sentencas_longas\", \"quantidade_de_paragrafos_com_sentenca_unica\", 'comp1']]"
   ]
  },
  {
   "cell_type": "code",
   "execution_count": 84,
   "metadata": {},
   "outputs": [
    {
     "data": {
      "text/plain": [
       "((2164, 10), (2164, 2), (2164, 62))"
      ]
     },
     "execution_count": 84,
     "metadata": {},
     "output_type": "execute_result"
    }
   ],
   "source": [
    "sofist_features.shape, comma_features.shape, cogroo_features.shape"
   ]
  },
  {
   "cell_type": "code",
   "execution_count": 85,
   "metadata": {},
   "outputs": [],
   "source": [
    "dataset_cogroo_sofist_comma = pd.merge(cogroo_features, sofist_features, how = 'inner')\n",
    "dataset_cogroo_sofist_comma = pd.merge(dataset_cogroo_sofist_comma, comma_features, how = 'inner')\n",
    "dataset_tool_sofist_comma = pd.merge(tool_features, sofist_features, how = 'inner')\n",
    "dataset_tool_sofist_comma = pd.merge(dataset_tool_sofist_comma, comma_features, how = 'inner')"
   ]
  },
  {
   "cell_type": "code",
   "execution_count": 86,
   "metadata": {},
   "outputs": [],
   "source": [
    "dataset_tool_sofist_comma = dataset_tool_sofist_comma.rename(columns={\n",
    "    'error': 'comma_mistakes'\n",
    "})\n",
    "dataset_cogroo_sofist_comma = dataset_cogroo_sofist_comma.rename(columns={\n",
    "    'error': 'comma_mistakes'\n",
    "})\n",
    "dataset_cogroo_sofist_comma['TYPOS'] = dataset_tool_sofist_comma['TYPOS'] "
   ]
  },
  {
   "cell_type": "code",
   "execution_count": 87,
   "metadata": {},
   "outputs": [],
   "source": [
    "dataset_tool_sofist_comma.to_csv('../data/model/dataset_tool_sofist_comma.csv', index=False)\n",
    "dataset_cogroo_sofist_comma.to_csv('../data/model/dataset_cogroo_sofist_comma.csv', index=False)"
   ]
  }
 ],
 "metadata": {
  "kernelspec": {
   "display_name": "Python 3",
   "language": "python",
   "name": "python3"
  },
  "language_info": {
   "codemirror_mode": {
    "name": "ipython",
    "version": 3
   },
   "file_extension": ".py",
   "mimetype": "text/x-python",
   "name": "python",
   "nbconvert_exporter": "python",
   "pygments_lexer": "ipython3",
   "version": "3.10.3"
  },
  "orig_nbformat": 4
 },
 "nbformat": 4,
 "nbformat_minor": 2
}
