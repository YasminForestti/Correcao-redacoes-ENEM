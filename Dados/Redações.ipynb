{
 "cells": [
  {
   "attachments": {},
   "cell_type": "markdown",
   "metadata": {},
   "source": [
    " Exemplo de como pegar as redações pela biblioteca uol_redacoes_xml"
   ]
  },
  {
   "cell_type": "code",
   "execution_count": 1,
   "metadata": {},
   "outputs": [],
   "source": [
    "import pandas"
   ]
  },
  {
   "cell_type": "code",
   "execution_count": 7,
   "metadata": {},
   "outputs": [
    {
     "name": "stderr",
     "output_type": "stream",
     "text": [
      "[nltk_data] Downloading package punkt to\n",
      "[nltk_data]     C:\\Users\\yfrom\\AppData\\Roaming\\nltk_data...\n",
      "[nltk_data]   Unzipping tokenizers\\punkt.zip.\n"
     ]
    },
    {
     "data": {
      "text/plain": [
       "True"
      ]
     },
     "execution_count": 7,
     "metadata": {},
     "output_type": "execute_result"
    }
   ],
   "source": [
    "import nltk\n",
    "nltk.download('punkt')"
   ]
  },
  {
   "cell_type": "code",
   "execution_count": 1,
   "metadata": {},
   "outputs": [
    {
     "ename": "ModuleNotFoundError",
     "evalue": "No module named 'uol_redacoes_xml'",
     "output_type": "error",
     "traceback": [
      "\u001b[1;31m---------------------------------------------------------------------------\u001b[0m",
      "\u001b[1;31mModuleNotFoundError\u001b[0m                       Traceback (most recent call last)",
      "\u001b[1;32mc:\\Users\\mwuillau\\Documents\\UFRJ\\Correcao-redacoes-ENEM\\Dados\\Redações.ipynb Cell 2'\u001b[0m in \u001b[0;36m<cell line: 1>\u001b[1;34m()\u001b[0m\n\u001b[1;32m----> <a href='vscode-notebook-cell:/c%3A/Users/mwuillau/Documents/UFRJ/Correcao-redacoes-ENEM/Dados/Reda%C3%A7%C3%B5es.ipynb#ch0000001?line=0'>1</a>\u001b[0m \u001b[39mimport\u001b[39;00m \u001b[39muol_redacoes_xml\u001b[39;00m\n",
      "\u001b[1;31mModuleNotFoundError\u001b[0m: No module named 'uol_redacoes_xml'"
     ]
    }
   ],
   "source": [
    "import uol_redacoes_xml"
   ]
  },
  {
   "cell_type": "code",
   "execution_count": 2,
   "metadata": {},
   "outputs": [
    {
     "name": "stderr",
     "output_type": "stream",
     "text": [
      "UOL essays load warnings: \n",
      "No text  ->  3\n",
      "Final score != from sum of criteria score  ->  45\n",
      "Not 5 criteria  ->  7\n",
      "Total warnings: 55\n"
     ]
    }
   ],
   "source": [
    "essays = uol_redacoes_xml.load()"
   ]
  },
  {
   "cell_type": "code",
   "execution_count": 3,
   "metadata": {},
   "outputs": [
    {
     "name": "stdout",
     "output_type": "stream",
     "text": [
      "['title', 'text', 'criteria_scores', 'final_score', 'prompt', 'url', 'fixed_text', 'errors', 'comments', 'get_features']\n"
     ]
    }
   ],
   "source": [
    "print([attr for attr in essays[0].__dir__() if not attr.startswith('_')])"
   ]
  },
  {
   "cell_type": "code",
   "execution_count": 22,
   "metadata": {},
   "outputs": [
    {
     "data": {
      "text/plain": [
       "2164"
      ]
     },
     "execution_count": 22,
     "metadata": {},
     "output_type": "execute_result"
    }
   ],
   "source": [
    "len(essays)"
   ]
  },
  {
   "cell_type": "code",
   "execution_count": 4,
   "metadata": {},
   "outputs": [
    {
     "data": {
      "text/plain": [
       "'A liberdade de expressão, assim como o direito à intimidade são conquistas históricas. Quando um entra em contato com o outro, é preciso pesar com bom senso os dois lados.\\nEm épocas de regimes autoritários como as ditaduras militares na América Latina e fascistas na Europa, a imprensa não tinha liberdade para veicular notícias diversas, esbarrando comumente na censura. Nessas épocas, as pessoas também sofriam graves violações em suas vidas privadas por meio de tortura e constrangimentos, por exemplo, mas com a ascenção da democracia no ocidente , esses direitos foram amplamente protegidos por lei.\\nPorém, há casos em que essas garantias são postas em conflito, como em que figuras públicas, principalmente políticas, são pauta de notícias que esbarram em sua intimidade. Assim, o alvo dessas matérias, pode requerer sigilo por se tratar da sua vida privada enquanto a imprensa vê cerceada sua liberdade de expressão.\\nPortanto, é preciso avaliar até onde o direito de expressão pode ser abusivo, lesar a honra do cidadão, e até mesmo causar transtornos psicológicos ao alvo das notícias. Dessa forma, o bem estar do ser humano deve estar à frente da liberdade de expressão quando esta não for de suma necessidade ao conhecimento público.'"
      ]
     },
     "execution_count": 4,
     "metadata": {},
     "output_type": "execute_result"
    }
   ],
   "source": [
    "essays[0].text"
   ]
  },
  {
   "cell_type": "code",
   "execution_count": 5,
   "metadata": {},
   "outputs": [
    {
     "data": {
      "text/plain": [
       "'Conflito entre liberdade de expressão e intimidade: bom senso é necessário'"
      ]
     },
     "execution_count": 5,
     "metadata": {},
     "output_type": "execute_result"
    }
   ],
   "source": [
    "essays[0].title"
   ]
  },
  {
   "cell_type": "code",
   "execution_count": 6,
   "metadata": {},
   "outputs": [
    {
     "data": {
      "text/plain": [
       "{'Competência 1': 1.0,\n",
       " 'Competência 2': 1.0,\n",
       " 'Competência 3': 1.0,\n",
       " 'Competência 4': 1.0,\n",
       " 'Competência 5': 1.0}"
      ]
     },
     "execution_count": 6,
     "metadata": {},
     "output_type": "execute_result"
    }
   ],
   "source": [
    "essays[0].criteria_scores"
   ]
  },
  {
   "cell_type": "code",
   "execution_count": 8,
   "metadata": {},
   "outputs": [
    {
     "data": {
      "text/plain": [
       "Direitos em conflito: liberdade de expressão e intimidade\n",
       "https://educacao.uol.com.br/bancoderedacoes/propostas/direitos-em-conflito-liberdade-de-expressao-e-intimidade.htm"
      ]
     },
     "execution_count": 8,
     "metadata": {},
     "output_type": "execute_result"
    }
   ],
   "source": [
    "essays[0].prompt"
   ]
  },
  {
   "cell_type": "code",
   "execution_count": 9,
   "metadata": {},
   "outputs": [
    {
     "data": {
      "text/plain": [
       "'https://educacao.uol.com.br/bancoderedacoes/redacoes/conflito-entre-liberdade-de-expressao-e-intimidade-bom-senso-e-necessario.htm'"
      ]
     },
     "execution_count": 9,
     "metadata": {},
     "output_type": "execute_result"
    }
   ],
   "source": [
    "essays[0].url"
   ]
  },
  {
   "cell_type": "code",
   "execution_count": 33,
   "metadata": {},
   "outputs": [
    {
     "data": {
      "text/plain": [
       "'A liberdade de expressão, assim como o direito à intimidade, são conquistas históricas. Quando um entra em  com o outro, é preciso pesar com bom senso os dois lados.\\nEm épocas de regimes autoritários, como as ditaduras militares na América Latina e fascistas na Europa, a imprensa não tinha liberdade para veicular notícias diversas, esbarrando comumente na censura. Nessas épocas, as pessoas também sofriam graves violações em suas vidas  por meio de tortura e constrangimentos, por exemplo, mas com a ascensão da democracia no Ocidente , esses direitos foram amplamente protegidos por lei.\\nPorém, há casos em que essas garantias são postas em conflito, como em que figuras públicas, principalmente políticas, são pauta de notícias que esbarram em sua intimidade. Assim, o alvo dessas matérias, pode requerer sigilo por se tratar da sua vida privada, enquanto a imprensa, com isso, considera cerceada sua liberdade de expressão.\\nPortanto, é preciso avaliar até onde o direito de expressão pode ser abusivo, lesar a honra do cidadão e até mesmo causar transtornos psicológicos ao alvo das notícias. Dessa forma, o bem-estar do ser humano deve estar à frente da liberdade de expressão, quando esta não for de suma necessidade ao conhecimento público.'"
      ]
     },
     "execution_count": 33,
     "metadata": {},
     "output_type": "execute_result"
    }
   ],
   "source": [
    "essays[0].fixed_text"
   ]
  },
  {
   "cell_type": "code",
   "execution_count": 34,
   "metadata": {},
   "outputs": [
    {
     "data": {
      "text/plain": [
       "[('intimidade', 'intimidade,'),\n",
       " ('contato', ''),\n",
       " ('autoritários', 'autoritários,'),\n",
       " ('privadas', ''),\n",
       " ('ascenção', 'ascensão'),\n",
       " ('ocidente', 'Ocidente'),\n",
       " ('privada', 'privada,'),\n",
       " ('imprensa vê', 'imprensa, com isso, considera'),\n",
       " ('cidadão, e', 'cidadão e'),\n",
       " ('bem estar', 'bem-estar'),\n",
       " ('expressão', 'expressão,')]"
      ]
     },
     "execution_count": 34,
     "metadata": {},
     "output_type": "execute_result"
    }
   ],
   "source": [
    "essays[0].errors"
   ]
  },
  {
   "cell_type": "code",
   "execution_count": 35,
   "metadata": {},
   "outputs": [
    {
     "data": {
      "text/plain": [
       "'<comments>## Comentário geral\\nTexto regular. Há problemas pontuais de linguagem e gramática, mas, no geral, o texto é claro e apresenta a reflexão (superficial) que o autor fez sobre o tema. Na verdade, o segundo parágrafo, traça um histórico muito sucinto dos direitos, o que não vem propriamente ao caso, pois o tema é o conflito existente entre os direitos constitucionais atualmente. Não é necessário recorrer à História, ainda mais de modo muito breve e simplista, além de equívocos. De modo que a argumentação propriamente dita se dá nos dois últimos parágrafos. É neles que o autor tenta, pesar com o seu bom senso, os dois lados da questão.\\n## Aspectos pontuais\\n1) Primeiro parágrafo: não se trata de simples contato, mas de um choque, de uma contraposição, de um conflito.\\n2) Segundo parágrafo: a) notícias diversas é muito vago. As ditaduras censuras as notícias que lhes são adversas, ou seja, que lhes são contrárias ou assim lhes parece. b) Ser torturado é muito mais que uma violação da privacidade. c) Constrangimentos também é pouco. Na Alemanha Nazista, seis milhões de judeus foram assassinados. Dá para dizer que isso foi um constrangimento? d) Convém lembrar que, na Europa, não foram exclusivamente as ditaduras fascistas que trucidaram os adversários. A ditadura de Stalin na União Soviética matou provavelmente mais gente do que Hitler.\\n3) Terceiro parágrafo: a) o autor se expressa mal. Há casos em que esses direitos se revelam conflitantes entre si. b) Mais uma vez, o autor opta por uma palavra inadequada. Não se trata de esbarrar, mas de violar, o que é mais grave do que simplesmente esbarrar.\\n4) Quarto parágrafo: o direito de expressão não é nem pode ser abusivo, em nenhuma medida. Não se trata de avaliar a intensidade de um abuso. Trata-se de ver até que ponto as pessoas não abusam da liberdade de expressão invadindo a intimidade alheia.</comments>'"
      ]
     },
     "execution_count": 35,
     "metadata": {},
     "output_type": "execute_result"
    }
   ],
   "source": [
    "essays[0].comments"
   ]
  },
  {
   "cell_type": "code",
   "execution_count": 36,
   "metadata": {},
   "outputs": [
    {
     "data": {
      "text/plain": [
       "<bound method Essay.get_features of Conflito entre liberdade de expressão e intimidade: bom senso é necessário\n",
       "A liberdade de expressão, assim como o direito à intimidade são conquistas históricas. Quando um entra em contato com o outro, é preciso pesar com bom senso os dois lados.\n",
       "Em épocas de regimes autoritários como as ditaduras militares na América Latina e fascistas na Europa, a imprensa não tinha liberdade para veicular notícias diversas, esbarrando comumente na censura. Nessas épocas, as pessoas também sofriam graves violações em suas vidas privadas por meio de tortura e constrangimentos, por exemplo, mas com a ascenção da democracia no ocidente , esses direitos foram amplamente protegidos por lei.\n",
       "Porém, há casos em que essas garantias são postas em conflito, como em que figuras públicas, principalmente políticas, são pauta de notícias que esbarram em sua intimidade. Assim, o alvo dessas matérias, pode requerer sigilo por se tratar da sua vida privada enquanto a imprensa vê cerceada sua liberdade de expressão.\n",
       "Portanto, é preciso avaliar até onde o direito de expressão pode ser abusivo, lesar a honra do cidadão, e até mesmo causar transtornos psicológicos ao alvo das notícias. Dessa forma, o bem estar do ser humano deve estar à frente da liberdade de expressão quando esta não for de suma necessidade ao conhecimento público.>"
      ]
     },
     "execution_count": 36,
     "metadata": {},
     "output_type": "execute_result"
    }
   ],
   "source": [
    "essays[0].get_features"
   ]
  }
 ],
 "metadata": {
  "kernelspec": {
   "display_name": "venv",
   "language": "python",
   "name": "python3"
  },
  "language_info": {
   "codemirror_mode": {
    "name": "ipython",
    "version": 3
   },
   "file_extension": ".py",
   "mimetype": "text/x-python",
   "name": "python",
   "nbconvert_exporter": "python",
   "pygments_lexer": "ipython3",
   "version": "3.11.3"
  },
  "orig_nbformat": 4
 },
 "nbformat": 4,
 "nbformat_minor": 2
}
