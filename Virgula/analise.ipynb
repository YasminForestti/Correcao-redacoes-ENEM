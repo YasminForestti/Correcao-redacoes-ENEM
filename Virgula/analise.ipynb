{
 "cells": [
  {
   "cell_type": "code",
   "execution_count": 16,
   "metadata": {},
   "outputs": [],
   "source": [
    "import uol_redacoes_xml\n",
    "from nltk.tokenize import sent_tokenize\n",
    "from nltk.tokenize import word_tokenize\n",
    "from nltk.corpus import mac_morpho\n",
    "import nltk.corpus\n",
    "import pandas as pd\n",
    "import regex as re\n",
    "import spacy"
   ]
  },
  {
   "cell_type": "code",
   "execution_count": 14,
   "metadata": {},
   "outputs": [],
   "source": [
    "essays = uol_redacoes_xml.load()"
   ]
  },
  {
   "attachments": {},
   "cell_type": "markdown",
   "metadata": {},
   "source": [
    "Separar elementos com a mesma função sintática\n",
    "\n",
    "Antes de conjunções adversativas **x**\n",
    "\n",
    "Separar orações intercaladas\n",
    "\n",
    "aposto **x**\n",
    "\n",
    "Separar expressões explicativas\n",
    "\n",
    "Isolar o vocativo\n",
    "\n",
    "Isolar datas\n",
    "\n",
    "Marcar zeugma\n",
    "\n",
    "Separar as orações subordinadas adverbiais\n",
    "\n",
    "Separar as orações subordinadas adverbiais deslocadas"
   ]
  },
  {
   "attachments": {},
   "cell_type": "markdown",
   "metadata": {},
   "source": [
    "Não separar o sujeito do predicado **x**\n",
    "\n",
    "Não separar o verbo do complemento **x**"
   ]
  },
  {
   "cell_type": "code",
   "execution_count": 1,
   "metadata": {},
   "outputs": [],
   "source": [
    "def count_virgula(palavra1,palavra2,frase):\n",
    "    if palavra1 == None or palavra2  == None or palavra1 == '' or  palavra2 == '':\n",
    "        return 0\n",
    "    posicao_gato = frase.find(palavra1)\n",
    "    posicao_pulou = frase.find(palavra2)\n",
    "\n",
    "    if posicao_gato != -1 and posicao_pulou != -1:\n",
    "        substring = frase[posicao_gato:posicao_pulou]\n",
    "        numero_virgulas = substring.count(',')\n",
    "        return numero_virgulas\n",
    "    else:\n",
    "        return -1"
   ]
  },
  {
   "cell_type": "code",
   "execution_count": 2,
   "metadata": {},
   "outputs": [],
   "source": [
    "def sujeito_pedicado(frase):\n",
    "    nlp = spacy.load('pt_core_news_sm')\n",
    "    doc = nlp(frase)\n",
    "\n",
    "    # Identificar sujeito e predicado\n",
    "    sujeito = \"\"\n",
    "    predicado = \"\"\n",
    "\n",
    "    for token in doc:\n",
    "        if \"subj\" in token.dep_ and sujeito == \"\":\n",
    "            sujeito += token.text\n",
    "        elif \"ROOT\" in token.dep_ and predicado == \"\":\n",
    "            predicado += token.text\n",
    "\n",
    "    return {'sujeito': sujeito, 'predicado': predicado}"
   ]
  },
  {
   "cell_type": "code",
   "execution_count": 3,
   "metadata": {},
   "outputs": [],
   "source": [
    "def error_virgula_suj_pred(frase):\n",
    "    senter = sujeito_pedicado(frase)\n",
    "\n",
    "    num = count_virgula(senter['sujeito'],senter['predicado'], frase)\n",
    "    if num%2 == 0:\n",
    "        return 0\n",
    "    elif num == -1:\n",
    "        return -1\n",
    "    else:\n",
    "        return 1"
   ]
  },
  {
   "cell_type": "code",
   "execution_count": 4,
   "metadata": {},
   "outputs": [],
   "source": [
    "def identificar_verbo_complemento(frase):\n",
    "    nlp = spacy.load(\"pt_core_news_sm\")\n",
    "    doc = nlp(frase)\n",
    "    \n",
    "    verb = None\n",
    "    obj = None\n",
    "    \n",
    "    for token in doc:\n",
    "        if \"VERB\" in token.pos_:\n",
    "            verb = token.text\n",
    "            for child in token.children:\n",
    "                if \"obj\" in child.dep_:\n",
    "                    obj = child.text\n",
    "                    break\n",
    "    \n",
    "    return {'verbo': verb, 'obj': obj}\n"
   ]
  },
  {
   "cell_type": "code",
   "execution_count": 5,
   "metadata": {},
   "outputs": [],
   "source": [
    "def error_virgula_verbo(frase):\n",
    "    senter = identificar_verbo_complemento(frase)\n",
    "    num = count_virgula(senter['verbo'],senter['obj'], frase)\n",
    "    if num%2 == 0:\n",
    "        return 0\n",
    "    elif num == -1:\n",
    "        return -1\n",
    "    else:\n",
    "        return 1"
   ]
  },
  {
   "cell_type": "code",
   "execution_count": 6,
   "metadata": {},
   "outputs": [],
   "source": [
    "def error_virgula_Conj_adj(frase):\n",
    "    conjuncoes_adversativas = ['mas', 'porém', 'contudo', 'todavia', 'entretanto', 'no entanto']\n",
    "    frase = frase.lower() \n",
    "    palavras = frase.split()\n",
    "\n",
    "    for i in range(1, len(palavras)):\n",
    "        if palavras[i] in conjuncoes_adversativas:\n",
    "            if palavras[i - 1][-1] == ',':\n",
    "                return 0\n",
    "            else:\n",
    "                return 1\n",
    "\n",
    "    return -1"
   ]
  },
  {
   "cell_type": "code",
   "execution_count": 7,
   "metadata": {},
   "outputs": [],
   "source": [
    "def error_virgulas_aposto(frase):\n",
    "    nlp = spacy.load('pt_core_news_sm')\n",
    "    doc = nlp(frase)\n",
    "\n",
    "    for token in doc:\n",
    "        if token.dep_ == 'appos':\n",
    "            \n",
    "            rela_appos = [str(child) for child in token.children]\n",
    "            print(token, rela_appos)\n",
    "            if rela_appos.count(',') == 2:\n",
    "                return 0\n",
    "            else: return 1\n",
    "    else:\n",
    "        return -1"
   ]
  },
  {
   "cell_type": "code",
   "execution_count": 8,
   "metadata": {},
   "outputs": [],
   "source": [
    "def corretor(frase):\n",
    "    error = 0\n",
    "    message = \"\"\n",
    "    \n",
    "    e = error_virgula_verbo(frase)\n",
    "    if e ==1:\n",
    "        error += e\n",
    "        message += \"Comma separating verb and complement; \"\n",
    "    \n",
    "    e = error_virgula_suj_pred(frase)\n",
    "    if e == 1:\n",
    "        error += e\n",
    "        message += \"Comma separating Subject from predicate; \"\n",
    "    \n",
    "    e = error_virgula_Conj_adj(frase)\n",
    "    if e ==1:\n",
    "        error += e\n",
    "        message += \"Missing comma before adverbial conjunction; \"\n",
    "    \n",
    "    e = error_virgulas_aposto(frase)\n",
    "    if e ==1:\n",
    "        error += e\n",
    "        message += \"Missing comma between the 'aposto'; \"\n",
    "\n",
    "    return error, message"
   ]
  },
  {
   "cell_type": "code",
   "execution_count": 9,
   "metadata": {},
   "outputs": [],
   "source": [
    "def split_sentences(text):\n",
    "    regex =  r'(?<=[.!?])\\s*(?=(?:[^\"]*\"[^\"]*\")*[^\"]*$)'  # Expressão regular para separar as sentenças\n",
    "\n",
    "    sentences = re.split(regex, text)\n",
    "\n",
    "    return sentences"
   ]
  },
  {
   "cell_type": "code",
   "execution_count": 10,
   "metadata": {},
   "outputs": [],
   "source": [
    "def get_essays_corrections_tool(essays):\n",
    "    data = []\n",
    "    for i, ess in enumerate(essays):\n",
    "        sentences = split_sentences(ess.text.replace('\\n', ''))\n",
    "        for sent in sentences:\n",
    "            if sent != \"\":\n",
    "                error, message = corretor(sent)\n",
    "                data.append({\n",
    "                        'essay': i,\n",
    "                        'error': error,\n",
    "                        'message': message,\n",
    "                        'frase': sent})\n",
    "    return pd.DataFrame(data)"
   ]
  },
  {
   "cell_type": "code",
   "execution_count": null,
   "metadata": {},
   "outputs": [],
   "source": [
    "erros_df = get_essays_corrections_tool(essays)"
   ]
  },
  {
   "cell_type": "code",
   "execution_count": 19,
   "metadata": {},
   "outputs": [
    {
     "data": {
      "text/html": [
       "<div>\n",
       "<style scoped>\n",
       "    .dataframe tbody tr th:only-of-type {\n",
       "        vertical-align: middle;\n",
       "    }\n",
       "\n",
       "    .dataframe tbody tr th {\n",
       "        vertical-align: top;\n",
       "    }\n",
       "\n",
       "    .dataframe thead th {\n",
       "        text-align: right;\n",
       "    }\n",
       "</style>\n",
       "<table border=\"1\" class=\"dataframe\">\n",
       "  <thead>\n",
       "    <tr style=\"text-align: right;\">\n",
       "      <th></th>\n",
       "      <th>essay</th>\n",
       "      <th>error</th>\n",
       "      <th>message</th>\n",
       "      <th>frase</th>\n",
       "    </tr>\n",
       "  </thead>\n",
       "  <tbody>\n",
       "    <tr>\n",
       "      <th>0</th>\n",
       "      <td>0</td>\n",
       "      <td>0</td>\n",
       "      <td></td>\n",
       "      <td>A liberdade de expressão, assim como o direito...</td>\n",
       "    </tr>\n",
       "    <tr>\n",
       "      <th>1</th>\n",
       "      <td>0</td>\n",
       "      <td>0</td>\n",
       "      <td></td>\n",
       "      <td>Quando um entra em contato com o outro, é prec...</td>\n",
       "    </tr>\n",
       "    <tr>\n",
       "      <th>2</th>\n",
       "      <td>0</td>\n",
       "      <td>0</td>\n",
       "      <td></td>\n",
       "      <td>Em épocas de regimes autoritários como as dita...</td>\n",
       "    </tr>\n",
       "    <tr>\n",
       "      <th>3</th>\n",
       "      <td>0</td>\n",
       "      <td>0</td>\n",
       "      <td></td>\n",
       "      <td>Nessas épocas, as pessoas também sofriam grave...</td>\n",
       "    </tr>\n",
       "    <tr>\n",
       "      <th>4</th>\n",
       "      <td>0</td>\n",
       "      <td>0</td>\n",
       "      <td></td>\n",
       "      <td>Porém, há casos em que essas garantias são pos...</td>\n",
       "    </tr>\n",
       "    <tr>\n",
       "      <th>5</th>\n",
       "      <td>0</td>\n",
       "      <td>1</td>\n",
       "      <td>Comma separating Subject from predicate;</td>\n",
       "      <td>Assim, o alvo dessas matérias, pode requerer s...</td>\n",
       "    </tr>\n",
       "    <tr>\n",
       "      <th>6</th>\n",
       "      <td>0</td>\n",
       "      <td>0</td>\n",
       "      <td></td>\n",
       "      <td>Portanto, é preciso avaliar até onde o direito...</td>\n",
       "    </tr>\n",
       "    <tr>\n",
       "      <th>7</th>\n",
       "      <td>0</td>\n",
       "      <td>0</td>\n",
       "      <td></td>\n",
       "      <td>Dessa forma, o bem estar do ser humano deve es...</td>\n",
       "    </tr>\n",
       "    <tr>\n",
       "      <th>8</th>\n",
       "      <td>1</td>\n",
       "      <td>1</td>\n",
       "      <td>Missing comma between the 'aposto';</td>\n",
       "      <td>Os direitos fundamentais contidos na Constitui...</td>\n",
       "    </tr>\n",
       "    <tr>\n",
       "      <th>9</th>\n",
       "      <td>1</td>\n",
       "      <td>1</td>\n",
       "      <td>Missing comma between the 'aposto';</td>\n",
       "      <td>Esse é o caso da decisão judiciária aplicada a...</td>\n",
       "    </tr>\n",
       "  </tbody>\n",
       "</table>\n",
       "</div>"
      ],
      "text/plain": [
       "   essay  error                                    message  \\\n",
       "0      0      0                                              \n",
       "1      0      0                                              \n",
       "2      0      0                                              \n",
       "3      0      0                                              \n",
       "4      0      0                                              \n",
       "5      0      1  Comma separating Subject from predicate;    \n",
       "6      0      0                                              \n",
       "7      0      0                                              \n",
       "8      1      1       Missing comma between the 'aposto';    \n",
       "9      1      1       Missing comma between the 'aposto';    \n",
       "\n",
       "                                               frase  \n",
       "0  A liberdade de expressão, assim como o direito...  \n",
       "1  Quando um entra em contato com o outro, é prec...  \n",
       "2  Em épocas de regimes autoritários como as dita...  \n",
       "3  Nessas épocas, as pessoas também sofriam grave...  \n",
       "4  Porém, há casos em que essas garantias são pos...  \n",
       "5  Assim, o alvo dessas matérias, pode requerer s...  \n",
       "6  Portanto, é preciso avaliar até onde o direito...  \n",
       "7  Dessa forma, o bem estar do ser humano deve es...  \n",
       "8  Os direitos fundamentais contidos na Constitui...  \n",
       "9  Esse é o caso da decisão judiciária aplicada a...  "
      ]
     },
     "execution_count": 19,
     "metadata": {},
     "output_type": "execute_result"
    }
   ],
   "source": [
    "erros_df.head(20)"
   ]
  },
  {
   "cell_type": "code",
   "execution_count": 20,
   "metadata": {},
   "outputs": [],
   "source": [
    "erros_df.to_csv('Comma_error.csv', encoding='utf-8')"
   ]
  },
  {
   "cell_type": "code",
   "execution_count": null,
   "metadata": {},
   "outputs": [],
   "source": []
  }
 ],
 "metadata": {
  "kernelspec": {
   "display_name": "Python 3",
   "language": "python",
   "name": "python3"
  },
  "language_info": {
   "codemirror_mode": {
    "name": "ipython",
    "version": 3
   },
   "file_extension": ".py",
   "mimetype": "text/x-python",
   "name": "python",
   "nbconvert_exporter": "python",
   "pygments_lexer": "ipython3",
   "version": "3.11.3"
  },
  "orig_nbformat": 4
 },
 "nbformat": 4,
 "nbformat_minor": 2
}
