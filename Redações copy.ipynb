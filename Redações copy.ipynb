{
 "cells": [
  {
   "attachments": {},
   "cell_type": "markdown",
   "metadata": {},
   "source": [
    "# Instalação e import crucial"
   ]
  },
  {
   "cell_type": "code",
   "execution_count": 1,
   "metadata": {},
   "outputs": [
    {
     "name": "stdout",
     "output_type": "stream",
     "text": [
      "Collecting git+https://github.com/gpassero/uol-redacoes-xml.git\n",
      "  Cloning https://github.com/gpassero/uol-redacoes-xml.git to c:\\users\\mario\\appdata\\local\\temp\\pip-req-build-205e2hh1\n",
      "Requirement already satisfied (use --upgrade to upgrade): uol-redacoes-xml==0.2 from git+https://github.com/gpassero/uol-redacoes-xml.git in c:\\users\\mario\\appdata\\local\\programs\\python\\python39\\lib\\site-packages\n",
      "Using legacy 'setup.py install' for uol-redacoes-xml, since package 'wheel' is not installed.\n",
      "Note: you may need to restart the kernel to use updated packages.\n"
     ]
    },
    {
     "name": "stderr",
     "output_type": "stream",
     "text": [
      "WARNING: You are using pip version 20.2.3; however, version 23.1.2 is available.\n",
      "You should consider upgrading via the 'c:\\Users\\mario\\AppData\\Local\\Programs\\Python\\Python39\\python.exe -m pip install --upgrade pip' command.\n"
     ]
    }
   ],
   "source": [
    "pip install git+https://github.com/gpassero/uol-redacoes-xml.git"
   ]
  },
  {
   "cell_type": "code",
   "execution_count": 2,
   "metadata": {},
   "outputs": [
    {
     "name": "stdout",
     "output_type": "stream",
     "text": [
      "Requirement already satisfied: bs4 in c:\\users\\mario\\appdata\\local\\programs\\python\\python39\\lib\\site-packages (0.0.1)Note: you may need to restart the kernel to use updated packages.\n",
      "\n",
      "Requirement already satisfied: beautifulsoup4 in c:\\users\\mario\\appdata\\local\\programs\\python\\python39\\lib\\site-packages (from bs4) (4.12.2)\n",
      "Requirement already satisfied: soupsieve>1.2 in c:\\users\\mario\\appdata\\local\\programs\\python\\python39\\lib\\site-packages (from beautifulsoup4->bs4) (2.4.1)\n"
     ]
    },
    {
     "name": "stderr",
     "output_type": "stream",
     "text": [
      "WARNING: You are using pip version 20.2.3; however, version 23.1.2 is available.\n",
      "You should consider upgrading via the 'c:\\Users\\mario\\AppData\\Local\\Programs\\Python\\Python39\\python.exe -m pip install --upgrade pip' command.\n"
     ]
    }
   ],
   "source": [
    "pip install bs4"
   ]
  },
  {
   "cell_type": "code",
   "execution_count": 3,
   "metadata": {},
   "outputs": [
    {
     "name": "stdout",
     "output_type": "stream",
     "text": [
      "Requirement already satisfied: nltk in c:\\users\\mario\\appdata\\local\\programs\\python\\python39\\lib\\site-packages (3.8.1)Note: you may need to restart the kernel to use updated packages.\n",
      "\n",
      "Requirement already satisfied: click in c:\\users\\mario\\appdata\\local\\programs\\python\\python39\\lib\\site-packages (from nltk) (8.1.3)\n",
      "Requirement already satisfied: regex>=2021.8.3 in c:\\users\\mario\\appdata\\local\\programs\\python\\python39\\lib\\site-packages (from nltk) (2023.6.3)\n",
      "Requirement already satisfied: joblib in c:\\users\\mario\\appdata\\local\\programs\\python\\python39\\lib\\site-packages (from nltk) (1.2.0)\n",
      "Requirement already satisfied: tqdm in c:\\users\\mario\\appdata\\local\\programs\\python\\python39\\lib\\site-packages (from nltk) (4.65.0)\n",
      "Requirement already satisfied: colorama; platform_system == \"Windows\" in c:\\users\\mario\\appdata\\roaming\\python\\python39\\site-packages (from click->nltk) (0.4.6)\n"
     ]
    },
    {
     "name": "stderr",
     "output_type": "stream",
     "text": [
      "WARNING: You are using pip version 20.2.3; however, version 23.1.2 is available.\n",
      "You should consider upgrading via the 'c:\\Users\\mario\\AppData\\Local\\Programs\\Python\\Python39\\python.exe -m pip install --upgrade pip' command.\n"
     ]
    }
   ],
   "source": [
    "pip install nltk"
   ]
  },
  {
   "cell_type": "code",
   "execution_count": 4,
   "metadata": {},
   "outputs": [
    {
     "name": "stderr",
     "output_type": "stream",
     "text": [
      "[nltk_data] Downloading package punkt to\n",
      "[nltk_data]     C:\\Users\\mario\\AppData\\Roaming\\nltk_data...\n",
      "[nltk_data]   Package punkt is already up-to-date!\n"
     ]
    },
    {
     "data": {
      "text/plain": [
       "True"
      ]
     },
     "execution_count": 4,
     "metadata": {},
     "output_type": "execute_result"
    }
   ],
   "source": [
    "import nltk\n",
    "nltk.download('punkt')"
   ]
  },
  {
   "cell_type": "code",
   "execution_count": 5,
   "metadata": {},
   "outputs": [
    {
     "name": "stdout",
     "output_type": "stream",
     "text": [
      "Requirement already satisfied: scikit-learn in c:\\users\\mario\\appdata\\local\\programs\\python\\python39\\lib\\site-packages (1.2.2)Note: you may need to restart the kernel to use updated packages.\n"
     ]
    },
    {
     "name": "stderr",
     "output_type": "stream",
     "text": [
      "WARNING: You are using pip version 20.2.3; however, version 23.1.2 is available.\n",
      "You should consider upgrading via the 'c:\\Users\\mario\\AppData\\Local\\Programs\\Python\\Python39\\python.exe -m pip install --upgrade pip' command.\n"
     ]
    },
    {
     "name": "stdout",
     "output_type": "stream",
     "text": [
      "\n",
      "Requirement already satisfied: numpy>=1.17.3 in c:\\users\\mario\\appdata\\local\\programs\\python\\python39\\lib\\site-packages (from scikit-learn) (1.24.3)\n",
      "Requirement already satisfied: joblib>=1.1.1 in c:\\users\\mario\\appdata\\local\\programs\\python\\python39\\lib\\site-packages (from scikit-learn) (1.2.0)\n",
      "Requirement already satisfied: threadpoolctl>=2.0.0 in c:\\users\\mario\\appdata\\local\\programs\\python\\python39\\lib\\site-packages (from scikit-learn) (3.1.0)\n",
      "Requirement already satisfied: scipy>=1.3.2 in c:\\users\\mario\\appdata\\local\\programs\\python\\python39\\lib\\site-packages (from scikit-learn) (1.10.1)\n"
     ]
    }
   ],
   "source": [
    "pip install scikit-learn"
   ]
  },
  {
   "cell_type": "code",
   "execution_count": 6,
   "metadata": {},
   "outputs": [],
   "source": [
    "import sklearn"
   ]
  },
  {
   "cell_type": "code",
   "execution_count": 7,
   "metadata": {},
   "outputs": [
    {
     "name": "stdout",
     "output_type": "stream",
     "text": [
      "Requirement already satisfied: matplotlib in c:\\users\\mario\\appdata\\local\\programs\\python\\python39\\lib\\site-packages (3.7.1)\n",
      "Requirement already satisfied: cycler>=0.10 in c:\\users\\mario\\appdata\\local\\programs\\python\\python39\\lib\\site-packages (from matplotlib) (0.11.0)\n",
      "Requirement already satisfied: contourpy>=1.0.1 in c:\\users\\mario\\appdata\\local\\programs\\python\\python39\\lib\\site-packages (from matplotlib) (1.0.7)\n",
      "Requirement already satisfied: pillow>=6.2.0 in c:\\users\\mario\\appdata\\local\\programs\\python\\python39\\lib\\site-packages (from matplotlib) (9.5.0)\n",
      "Requirement already satisfied: pyparsing>=2.3.1 in c:\\users\\mario\\appdata\\local\\programs\\python\\python39\\lib\\site-packages (from matplotlib) (3.0.9)\n",
      "Requirement already satisfied: packaging>=20.0 in c:\\users\\mario\\appdata\\roaming\\python\\python39\\site-packages (from matplotlib) (23.1)\n",
      "Requirement already satisfied: kiwisolver>=1.0.1 in c:\\users\\mario\\appdata\\local\\programs\\python\\python39\\lib\\site-packages (from matplotlib) (1.4.4)\n",
      "Requirement already satisfied: importlib-resources>=3.2.0; python_version < \"3.10\" in c:\\users\\mario\\appdata\\local\\programs\\python\\python39\\lib\\site-packages (from matplotlib) (5.12.0)\n",
      "Requirement already satisfied: python-dateutil>=2.7 in c:\\users\\mario\\appdata\\roaming\\python\\python39\\site-packages (from matplotlib) (2.8.2)\n",
      "Requirement already satisfied: numpy>=1.20 in c:\\users\\mario\\appdata\\local\\programs\\python\\python39\\lib\\site-packages (from matplotlib) (1.24.3)\n",
      "Requirement already satisfied: fonttools>=4.22.0 in c:\\users\\mario\\appdata\\local\\programs\\python\\python39\\lib\\site-packages (from matplotlib) (4.39.4)\n",
      "Requirement already satisfied: zipp>=3.1.0; python_version < \"3.10\" in c:\\users\\mario\\appdata\\roaming\\python\\python39\\site-packages (from importlib-resources>=3.2.0; python_version < \"3.10\"->matplotlib) (3.15.0)\n",
      "Requirement already satisfied: six>=1.5 in c:\\users\\mario\\appdata\\roaming\\python\\python39\\site-packages (from python-dateutil>=2.7->matplotlib) (1.16.0)\n",
      "Note: you may need to restart the kernel to use updated packages.\n"
     ]
    },
    {
     "name": "stderr",
     "output_type": "stream",
     "text": [
      "WARNING: You are using pip version 20.2.3; however, version 23.1.2 is available.\n",
      "You should consider upgrading via the 'c:\\Users\\mario\\AppData\\Local\\Programs\\Python\\Python39\\python.exe -m pip install --upgrade pip' command.\n"
     ]
    }
   ],
   "source": [
    "pip install matplotlib"
   ]
  },
  {
   "cell_type": "code",
   "execution_count": 7,
   "metadata": {},
   "outputs": [],
   "source": [
    "import uol_redacoes_xml"
   ]
  },
  {
   "cell_type": "code",
   "execution_count": 8,
   "metadata": {},
   "outputs": [
    {
     "name": "stdout",
     "output_type": "stream",
     "text": [
      "Requirement already satisfied: lxml in c:\\users\\mario\\appdata\\local\\programs\\python\\python39\\lib\\site-packages (4.9.2)\n",
      "Note: you may need to restart the kernel to use updated packages.\n"
     ]
    },
    {
     "name": "stderr",
     "output_type": "stream",
     "text": [
      "WARNING: You are using pip version 20.2.3; however, version 23.1.2 is available.\n",
      "You should consider upgrading via the 'c:\\Users\\mario\\AppData\\Local\\Programs\\Python\\Python39\\python.exe -m pip install --upgrade pip' command.\n"
     ]
    }
   ],
   "source": [
    "pip install lxml"
   ]
  },
  {
   "cell_type": "code",
   "execution_count": 9,
   "metadata": {},
   "outputs": [
    {
     "name": "stdout",
     "output_type": "stream",
     "text": [
      "Requirement already satisfied: xml-python in c:\\users\\mario\\appdata\\local\\programs\\python\\python39\\lib\\site-packages (0.4.3)Note: you may need to restart the kernel to use updated packages.\n",
      "\n",
      "Requirement already satisfied: attrs in c:\\users\\mario\\appdata\\local\\programs\\python\\python39\\lib\\site-packages (from xml-python) (23.1.0)\n"
     ]
    },
    {
     "name": "stderr",
     "output_type": "stream",
     "text": [
      "WARNING: You are using pip version 20.2.3; however, version 23.1.2 is available.\n",
      "You should consider upgrading via the 'c:\\Users\\mario\\AppData\\Local\\Programs\\Python\\Python39\\python.exe -m pip install --upgrade pip' command.\n"
     ]
    }
   ],
   "source": [
    "pip install xml-python"
   ]
  },
  {
   "cell_type": "code",
   "execution_count": 10,
   "metadata": {},
   "outputs": [
    {
     "name": "stdout",
     "output_type": "stream",
     "text": [
      "Requirement already satisfied: html5lib in c:\\users\\mario\\appdata\\local\\programs\\python\\python39\\lib\\site-packages (1.1)Note: you may need to restart the kernel to use updated packages.\n",
      "\n",
      "Requirement already satisfied: six>=1.9 in c:\\users\\mario\\appdata\\roaming\\python\\python39\\site-packages (from html5lib) (1.16.0)\n",
      "Requirement already satisfied: webencodings in c:\\users\\mario\\appdata\\local\\programs\\python\\python39\\lib\\site-packages (from html5lib) (0.5.1)\n"
     ]
    },
    {
     "name": "stderr",
     "output_type": "stream",
     "text": [
      "WARNING: You are using pip version 20.2.3; however, version 23.1.2 is available.\n",
      "You should consider upgrading via the 'c:\\Users\\mario\\AppData\\Local\\Programs\\Python\\Python39\\python.exe -m pip install --upgrade pip' command.\n"
     ]
    }
   ],
   "source": [
    "pip install html5lib"
   ]
  },
  {
   "cell_type": "code",
   "execution_count": 11,
   "metadata": {},
   "outputs": [],
   "source": [
    "import bz2"
   ]
  },
  {
   "cell_type": "code",
   "execution_count": 13,
   "metadata": {},
   "outputs": [],
   "source": [
    "essays = uol_redacoes_xml.load()"
   ]
  },
  {
   "attachments": {},
   "cell_type": "markdown",
   "metadata": {},
   "source": [
    "# Código"
   ]
  },
  {
   "cell_type": "code",
   "execution_count": 15,
   "metadata": {},
   "outputs": [
    {
     "name": "stdout",
     "output_type": "stream",
     "text": [
      "['title', 'text', 'criteria_scores', 'final_score', 'prompt', 'url', 'fixed_text', 'errors', 'comments', 'get_features']\n"
     ]
    }
   ],
   "source": [
    "print([attr for attr in essays[0].__dir__() if not attr.startswith('_')])"
   ]
  },
  {
   "cell_type": "code",
   "execution_count": null,
   "metadata": {},
   "outputs": [
    {
     "data": {
      "text/plain": [
       "2164"
      ]
     },
     "execution_count": 4,
     "metadata": {},
     "output_type": "execute_result"
    }
   ],
   "source": [
    "len(essays)"
   ]
  },
  {
   "cell_type": "code",
   "execution_count": null,
   "metadata": {},
   "outputs": [
    {
     "data": {
      "text/plain": [
       "'A liberdade de expressão, assim como o direito à intimidade são conquistas históricas. Quando um entra em contato com o outro, é preciso pesar com bom senso os dois lados.\\nEm épocas de regimes autoritários como as ditaduras militares na América Latina e fascistas na Europa, a imprensa não tinha liberdade para veicular notícias diversas, esbarrando comumente na censura. Nessas épocas, as pessoas também sofriam graves violações em suas vidas privadas por meio de tortura e constrangimentos, por exemplo, mas com a ascenção da democracia no ocidente , esses direitos foram amplamente protegidos por lei.\\nPorém, há casos em que essas garantias são postas em conflito, como em que figuras públicas, principalmente políticas, são pauta de notícias que esbarram em sua intimidade. Assim, o alvo dessas matérias, pode requerer sigilo por se tratar da sua vida privada enquanto a imprensa vê cerceada sua liberdade de expressão.\\nPortanto, é preciso avaliar até onde o direito de expressão pode ser abusivo, lesar a honra do cidadão, e até mesmo causar transtornos psicológicos ao alvo das notícias. Dessa forma, o bem estar do ser humano deve estar à frente da liberdade de expressão quando esta não for de suma necessidade ao conhecimento público.'"
      ]
     },
     "execution_count": 4,
     "metadata": {},
     "output_type": "execute_result"
    }
   ],
   "source": [
    "essays[0].text"
   ]
  },
  {
   "cell_type": "code",
   "execution_count": 16,
   "metadata": {},
   "outputs": [
    {
     "name": "stdout",
     "output_type": "stream",
     "text": [
      "2164\n"
     ]
    }
   ],
   "source": [
    "#vector with all the words in the a paragraph of the essay before '\\n'\n",
    "all_essays = []\n",
    "for i in range(len(essays)):\n",
    "    txt = essays[i].text.split('\\n')\n",
    "    for j in range(len(txt)):\n",
    "        txt[j] = nltk.word_tokenize(txt[j])\n",
    "    all_essays.append(txt)\n",
    "print(len(all_essays))"
   ]
  },
  {
   "cell_type": "code",
   "execution_count": 58,
   "metadata": {},
   "outputs": [
    {
     "name": "stdout",
     "output_type": "stream",
     "text": [
      "['A', 'liberdade', 'de', 'expressão', 'assim', 'como', 'o', 'direito', 'à', 'intimidade', 'são', 'conquistas', 'históricas', 'Quando', 'um', 'entra', 'em', 'contato', 'com', 'o', 'outro', 'é', 'preciso', 'pesar', 'com', 'bom', 'senso', 'os', 'dois', 'lados']\n",
      "['A', 'liberdade', 'de', 'expressão', ',', 'assim', 'como', 'o', 'direito', 'à', 'intimidade', 'são', 'conquistas', 'históricas', '.', 'Quando', 'um', 'entra', 'em', 'contato', 'com', 'o', 'outro', ',', 'é', 'preciso', 'pesar', 'com', 'bom', 'senso', 'os', 'dois', 'lados', '.']\n"
     ]
    }
   ],
   "source": [
    "aux = all_essays[0][0].copy()\n",
    "for words in aux:\n",
    "    if words.isalpha() == False:\n",
    "        aux.remove(words)\n",
    "print(aux) #paragrafo 1 da redacao 1 sem pontuacao\n",
    "print(all_essays[0][0])"
   ]
  },
  {
   "cell_type": "code",
   "execution_count": 18,
   "metadata": {},
   "outputs": [
    {
     "name": "stdout",
     "output_type": "stream",
     "text": [
      "Collecting pandas\n",
      "  Downloading pandas-2.0.2-cp39-cp39-win_amd64.whl (10.7 MB)\n",
      "Requirement already satisfied: python-dateutil>=2.8.2 in c:\\users\\mario\\appdata\\roaming\\python\\python39\\site-packages (from pandas) (2.8.2)\n",
      "Collecting pytz>=2020.1\n",
      "  Using cached pytz-2023.3-py2.py3-none-any.whl (502 kB)\n",
      "Collecting tzdata>=2022.1\n",
      "  Using cached tzdata-2023.3-py2.py3-none-any.whl (341 kB)\n",
      "Requirement already satisfied: numpy>=1.20.3; python_version < \"3.10\" in c:\\users\\mario\\appdata\\local\\programs\\python\\python39\\lib\\site-packages (from pandas) (1.24.3)\n",
      "Requirement already satisfied: six>=1.5 in c:\\users\\mario\\appdata\\roaming\\python\\python39\\site-packages (from python-dateutil>=2.8.2->pandas) (1.16.0)\n",
      "Installing collected packages: pytz, tzdata, pandas\n",
      "Successfully installed pandas-2.0.2 pytz-2023.3 tzdata-2023.3\n",
      "Note: you may need to restart the kernel to use updated packages.\n"
     ]
    },
    {
     "name": "stderr",
     "output_type": "stream",
     "text": [
      "WARNING: You are using pip version 20.2.3; however, version 23.1.2 is available.\n",
      "You should consider upgrading via the 'c:\\Users\\mario\\AppData\\Local\\Programs\\Python\\Python39\\python.exe -m pip install --upgrade pip' command.\n"
     ]
    }
   ],
   "source": [
    "pip install pandas"
   ]
  },
  {
   "cell_type": "code",
   "execution_count": 20,
   "metadata": {},
   "outputs": [],
   "source": [
    "import pandas as pd"
   ]
  },
  {
   "cell_type": "code",
   "execution_count": 2,
   "metadata": {},
   "outputs": [
    {
     "name": "stdout",
     "output_type": "stream",
     "text": [
      "Requirement already satisfied: regex in c:\\users\\mario\\appdata\\local\\programs\\python\\python39\\lib\\site-packages (2023.6.3)\n",
      "Note: you may need to restart the kernel to use updated packages.\n"
     ]
    },
    {
     "name": "stderr",
     "output_type": "stream",
     "text": [
      "WARNING: You are using pip version 20.2.3; however, version 23.1.2 is available.\n",
      "You should consider upgrading via the 'c:\\Users\\mario\\AppData\\Local\\Programs\\Python\\Python39\\python.exe -m pip install --upgrade pip' command.\n"
     ]
    }
   ],
   "source": [
    "pip install regex"
   ]
  },
  {
   "cell_type": "code",
   "execution_count": 3,
   "metadata": {},
   "outputs": [],
   "source": [
    "import re"
   ]
  },
  {
   "cell_type": "code",
   "execution_count": 4,
   "metadata": {},
   "outputs": [],
   "source": [
    "def split_sentences(text):\n",
    "    regex =  r'(?<=[.!?])\\s*(?=(?:[^\"]*\"[^\"]*\")*[^\"]*$)'  # Expressão regular para separar as sentenças\n",
    "\n",
    "    sentences = re.split(regex, text)\n",
    "\n",
    "    return sentences"
   ]
  },
  {
   "cell_type": "code",
   "execution_count": 25,
   "metadata": {},
   "outputs": [
    {
     "name": "stdout",
     "output_type": "stream",
     "text": [
      "[2.493295019157088, 2.6484674329501914, 2.5775862068965516, 2.2634099616858236] [2.3165829145728645, 2.341708542713568, 2.3601340033500837, 2.271356783919598, 2.174204355108878]\n",
      "1044 597\n"
     ]
    }
   ],
   "source": [
    "#contando a quantidade de sentenças a cada parágrafo\n",
    "\n",
    "def count_sentences(essay):\n",
    "    aux=[]\n",
    "    for i in range(len(essay)):\n",
    "        aux.append(essay[i].count('.')+essay[i].count('?')+essay[i].count('!')+essay[i].count('...'))  \n",
    "        #contando a quantidade de '.' em cada vetor de palavras\n",
    "    return aux\n",
    "qtdspf = []\n",
    "for essay in all_essays:\n",
    "    #print(count_sentences(essay))\n",
    "    qtdspf.append(count_sentences(essay))\n",
    "        \n",
    "msp=[0]*len(qtdspf)\n",
    "#calculando a média de sentenças por parágrafo\n",
    "for i in range(len(qtdspf)):\n",
    "    msp[i] = sum(qtdspf[i])/len(qtdspf[i])\n",
    "msp4 = [0]*4 #media de sentenças por paragrafo para redacooes com 4 paragrafos\n",
    "msp5 = [0]*5 #media de sentenças por paragrafo para redacooes com 5 paragrafos\n",
    "mp14 = 0 #media do paragrafo 1 para redacooes com 4 paragrafos\n",
    "mp24 = 0 #media do paragrafo 2 para redacooes com 4 paragrafos\n",
    "mp34 = 0 #media do paragrafo 3 para redacooes com 4 paragrafos\n",
    "mp44 = 0 #media do paragrafo 4 para redacooes com 4 paragrafos\n",
    "mp15 = 0 #media do paragrafo 1 para redacooes com 5 paragrafos\n",
    "mp25 = 0 #media do paragrafo 2 para redacooes com 5 paragrafos\n",
    "mp35 = 0 #media do paragrafo 3 para redacooes com 5 paragrafos\n",
    "mp45 = 0 #media do paragrafo 3 para redacooes com 5 paragrafos\n",
    "mp55 = 0 #media do paragrafo 3 para redacooes com 5 paragrafos\n",
    "l4 = 0 #quantidade de redacooes com 4 paragrafos\n",
    "l5 = 0 #quantidade de redacooes com 5 paragrafos\n",
    "for i in range(len(msp)):\n",
    "    if len(qtdspf[i]) == 4:\n",
    "        mp14 += qtdspf[i][0]\n",
    "        mp24 += qtdspf[i][1]\n",
    "        mp34 += qtdspf[i][2]\n",
    "        mp44 += qtdspf[i][3]\n",
    "        l4 += 1\n",
    "    if len(qtdspf[i]) == 5:\n",
    "        mp15 += qtdspf[i][0]\n",
    "        mp25 += qtdspf[i][1]\n",
    "        mp35 += qtdspf[i][2]\n",
    "        mp45 += qtdspf[i][3]\n",
    "        mp55 += qtdspf[i][4]\n",
    "        l5 += 1\n",
    "#média de msp\n",
    "mp14 = mp14/l4\n",
    "mp24 = mp24/l4\n",
    "mp34 = mp34/l4\n",
    "mp44 = mp44/l4\n",
    "mp15 = mp15/l5\n",
    "mp25 = mp25/l5\n",
    "mp35 = mp35/l5\n",
    "mp45 = mp45/l5\n",
    "mp55 = mp55/l5\n",
    "\n",
    "msp4[0] = mp14\n",
    "msp4[1] = mp24\n",
    "msp4[2] = mp34\n",
    "msp4[3] = mp44\n",
    "msp5[0] = mp15\n",
    "msp5[1] = mp25\n",
    "msp5[2] = mp35\n",
    "msp5[3] = mp45\n",
    "msp5[4] = mp55\n",
    "print(msp4,msp5)\n",
    "print(l4,l5)"
   ]
  },
  {
   "cell_type": "code",
   "execution_count": 48,
   "metadata": {},
   "outputs": [
    {
     "name": "stdout",
     "output_type": "stream",
     "text": [
      "[25.035491893313534, 28.90313286724105, 30.901093417429205, 30.360228526108294]\n",
      "28.799986676023025\n",
      "[[[29, 20, 22], [20, 30, 46], [29, 27], [25, 29]], [[50], [47, 19], [77], [48]], [[18, 18], [41], [18, 29], [39, 21, 32, 28]], [[13, 19], [36, 40], [22, 21, 14], [27, 21, 6]], [[12, 31, 31, 27], [11, 16, 20], [69], [34, 22, 32]], [[28, 22], [13, 22, 37, 26, 23], [48, 33], [39]], [[40, 42], [30, 36, 15], [38, 44], [38, 46]], [[14, 21, 26], [51], [18, 51], [13, 31, 22, 17]], [[5, 34, 44, 5, 19], [57, 40, 27], [17, 11, 9, 13, 11, 5, 6, 21]], [[6, 12, 15], [30, 14], [20, 15, 10, 15], [16, 14, 11]], [[4], [15, 14], [19, 28], [17, 18, 22], [15, 22], [13, 15, 12]], [[26, 34], [25], [], [70], [27, 40, 8], [17, 10, 41, 46, 9]], [[32, 25], [17, 47], [8, 57], [18, 25, 21], [44, 15]], [[21, 40], [28, 45], [46, 22], [79]], [[26], [28], [35], [46, 25], [32]], [[71], [9, 25, 23], [68, 31], [35, 28], [37, 13, 10]], [[20, 26, 35], [32, 18, 18], [25], [56, 31], [50]], [[76], [36], [55], [102]], [[48, 27, 24, 97]], [[22, 24], [66], [45, 19], [29, 15]], [[23, 33, 19], [26, 54, 10, 32], [34, 13, 26], [52, 21, 16]], [[5, 21, 31], [20, 20, 8, 28], [24, 14, 5, 22], [16, 21, 22], [21, 21, 46]], [[20], [25], [29], [17], [], [], [46], [], [52]], [[43], [23, 40, 38], [21, 39, 39], [75]], [[45], [43, 50], [30, 36, 9, 54], []], [[103, 23], [41], [60], [19, 42], [62], [20, 26]], [[22, 18], [40, 21, 27], [28, 20, 5], [16, 25, 19, 40], [29, 10, 9, 14]], [[20, 18], [17, 10, 14, 5], [16, 19, 23], [18, 24]], [[29], [29], [35], [27], [33]], [[34, 26], [41, 12], [25, 10, 19, 37], [68], [39]], [[25, 51], [49, 52, 0, 35], [27, 28], [59]], [[55], [14, 45, 25], [22, 50, 26], [54]], [[25, 19], [35], [20, 18], [41]], [[20, 27, 23], [20, 7, 28], [13, 21, 25, 12, 6], [12, 13, 13, 13, 12, 18]], [[58], [41, 18], [54, 26], [22, 34, 34]], [[17, 29, 31, 32], [8, 14, 23], [22, 28], [23, 12, 31], [23, 18]], [[11, 32], [30, 20, 32, 36], [36, 22, 28, 21], [47, 16]], [[28, 14], [20, 27], [14, 31, 12], [21, 21]], [[27, 17], [17, 31], [21, 30], [15, 17, 14]], [[14, 27], [32], [35], [27]], [[28, 20], [17, 46, 18], [40, 32], [31]], [[22, 22], [37], [43]], [[31, 30], [95], [94], [72]], [[77], [26, 64], [25, 27], [25, 33, 8, 18, 26]], [[1, 17, 20], [39, 18, 5], [50, 13], [12, 43, 17], [22, 10]], [[18, 30], [36, 14, 39], [64, 23]], [[19, 25], [38, 19], [66], [38], [14, 25]], [[3], [26, 17, 33], [21, 39], [36], [17, 37], [46], [28, 16, 43]], [[18, 18, 20], [12, 20, 25], [19, 22, 28], [31]], [[36, 12], [44], [37, 28], [37, 15], [51]], [[36, 14], [31, 14], [33], [37, 44]], [[19, 24], [19, 21], [28], [22, 11]], [[18, 34], [38], [49, 23], [33], [55]], [[25, 6, 8, 26], [45], [30, 11, 34, 22], [14, 23, 18], [34]], [[21, 24], [13, 22, 20], [15, 13, 12], [27, 12, 32], [31, 24]], [[61], [47, 30], [19, 33], [33, 19], [45, 22]], [[69], [50], [45], [76]], [[29, 52], [18, 51, 13], [33, 26], [45], [51]], [[39], [38], [19, 21], [37], [52]], [[18, 30], [36, 14, 39], [64, 23]], [[22, 26], [13, 15, 23, 10], [26, 51], [21, 25, 17], [10, 4, 32]], [[17, 18, 12], [15, 20, 19], [26, 15], [30, 16], [19, 23]], [[27, 26], [17, 45], [34, 45], [67], [37, 27]], [[20, 16, 32, 13], [27, 20, 22], [23, 42], [31, 29, 32, 24]], [[17, 6, 14], [36, 29], [68], [18, 26], [26]], [[44, 21], [21, 25, 12, 35], [18, 27], [109, 27, 11], [29, 26]], [[13, 25, 16], [34, 52], [27, 17]], [[78], [68], [51, 26], [48]], [[22, 29, 19], [46, 54], [38, 21, 28], [21, 42]], [[31, 43], [60], [33, 18], [47, 12], [35]], [[25], [24, 37], [19, 52], [43, 27, 18], [120]], [[34], [42], [20, 33], [36]], [[15, 10, 23, 21], [54, 30], [6, 13, 30, 24], [20, 4, 15]], [[51], [53], [49, 17], [67]], [[23, 18], [32, 18, 21], [66], [41, 32], [29, 14]], [[27, 14, 18], [24, 7, 27], [15, 9, 25], [15, 28, 8, 5, 5, 2]], [[38, 49], [12], [13, 15, 21, 27, 8], [25, 13]], [[27, 15, 21, 7, 13], [15, 23, 19, 29], [27, 43], [35]], [[12, 21], [53, 23], [39], [63], [36], [28, 8]], [[45], [14, 31], [41], [40, 15], [36, 24]], [[19, 31], [8, 23, 24, 7, 25], [8, 17, 8, 11], [19, 33, 8]], [[27, 14, 9, 8, 6], [43, 11, 8, 7, 7], [8, 12, 9, 13, 21, 11, 26, 19, 20, 29], [8, 17, 35]], [[19, 22, 8, 21, 17, 20], [56, 26, 21], [39, 20, 19, 30], [16, 16, 11, 22]], [[22, 35], [10, 10, 51], [24, 41], [22, 25, 18]], [[16, 12], [7, 17, 19], [8, 14, 18, 5, 21], [18, 24]], [[], [81], [62], [55], [46], [41]], [[48], [36], [21, 22], [37], [43]], [[]], [[138], [17, 11], [21], [24], [26]], [[22, 22, 21], [30, 9, 15], [25, 11], [41, 26, 30]], [[17, 21], [15, 27, 21, 28], [27, 68], [19, 33], [41]], [[8, 18, 19], [22, 13, 26, 16, 24], [6, 13, 2, 29, 7, 3]], [[19, 19, 20], [13, 25], [24, 38], [40]], [[20, 16, 14], [28, 20, 14, 20, 14], [34, 27, 21], [17, 28, 24]], [[17, 37, 11], [48, 23], [79], [69], [42]], [[14, 23, 24], [27, 38], [41, 46], [46]], [[8, 30, 26], [32, 17], [34]], [[15, 16, 20], [24, 21, 13], [21, 16, 4, 9, 16], [7, 19, 12]], [[17, 18, 17, 18], [14, 18, 17], [12, 28, 11], [21, 33]], [[20, 9], [21, 14, 26, 37]], [[11, 25, 35], [23, 21, 34], [33], [24, 31], [42]], [[35, 23, 36, 30], [53], [81, 34], [18, 16]], [[18, 14, 12, 20, 20], [35, 22, 20, 25], [36]], [[18, 19, 26], [29, 23, 44], [19, 31, 20, 6, 43], [24, 12, 19, 35, 22], [23, 46]], [[22, 19], [24, 11], [38], [26, 21], [23, 26]], [[31, 45], [36, 34], [28, 43], [46, 15]], [[14, 23, 30], [19, 22, 36], [37, 20], [37, 33]], [[31], [59, 22, 14, 21, 26], [36, 20]], [[18, 17], [25], [31], [15, 26], [28, 22]], [[40], [26, 28], [19, 31, 8, 1, 1, 19], [36, 6], [11, 34]], [[12, 24], [14, 5, 18, 14, 17], [33, 31], [20, 9, 4, 25, 12, 29, 5, 12, 44, 20]], [[19, 20], [40], [31, 40], [45, 19, 18], [12, 13]], [[45], [56], [86], [82], [40]], [[11, 15, 28], [26, 21, 9, 19], [16, 20, 19, 11], [37, 19, 18, 21, 10], [17, 25, 16], [28, 29, 29]], [[10, 13], [19, 25], [13, 19], [21, 33], [24, 36]], [[31], [24, 34], [68], [26, 17]], [[4, 19], [5, 15, 32], [38, 6, 28], [17, 10]], [[12, 18, 34], [14, 29, 14, 12, 34], [60]], [[33], [63, 32], [53, 16], [43]], [[14, 25, 14], [18, 28, 55, 21, 21, 7, 5]], [[27, 64], [30, 34], [35, 57], [44, 38]], [[24], [62, 23], [16, 7, 13, 31], [19, 19]], [[25], [23], [39], [52]], [[27, 18], [15, 34], [10, 39], [26, 39]], [[8, 19, 30], [29, 26, 25], [22, 37, 12], [62]], [[58], [], [73, 49], [59], [62], [81]], [[18, 10, 38], [58, 26, 20], [20, 5, 17, 16, 16], [21, 20, 17, 34]], [[12, 11, 13], [10, 17, 23], [28, 9, 15], [14, 24]], [[17, 41, 14], [13, 14, 20, 39, 21], [12, 49, 28, 38]], [[33], [53], [28], [19, 18], [22], [41, 21, 8], [48, 11]], [[6, 14, 12], [44], [33, 9], [35], []], [[50, 17, 26], [65, 24], [36], [50], [36, 35]], [[90, 59], [47], [119], [35, 30]], [[49], [55], [67], [60], [53], [56]], [[48], [48], [16, 44], [13, 21, 22], [20, 55]], [[10, 18, 12, 21, 22, 32], [30, 9], [65, 21], [15, 40], [37, 20]], [[15, 28, 8], [16, 10, 22], [16, 18], [27, 14], [27, 10, 14, 14, 18, 13, 7, 19, 18, 15, 20]], [[12, 21, 32], [], [30, 14, 20, 18], [10, 20, 11, 24], [22, 10, 17, 15]], [[19, 16, 24], [37], [21, 32], [20, 19, 16], [15, 47]], [[17], [95], [29], [], [48], [59, 6]], [[12], [24, 35, 10], [9, 56], [30], []], [[107, 29], [33, 26], [40], [24, 42], [43]], [[31, 25], [44, 28], [77], [26], [64]], [[34, 17], [47, 44], [56, 22], [25, 22]], [[41], [15, 39], [38, 44], []], [[14, 14, 8, 16, 17, 5], [10, 35, 5], [30]], [[52], [31, 40], [13, 19, 23], [43, 19], [29, 16]], [[19, 25], [13, 34], [16, 29]], [[16, 28, 23], [17, 45], [47], [14, 38, 25]], [[23, 30, 18, 48, 11]], [[18, 8, 15, 18], [39, 9], [11, 20, 27], [12, 26, 9, 24], [24, 18, 36]], [[8, 15, 16, 14], [8, 14, 22, 11, 15, 10], [8, 11, 12, 22, 26], [27, 24, 14]], [[12, 44], [26, 26, 22], [23, 44], [63], [29, 25]], [[12, 16, 25], [19, 17, 18, 13], [21, 42], [61, 19], [51]], [[7], [54, 72, 13], [42]], [[17, 17, 27], [12, 20, 14, 13], [31, 26], [12, 16, 27], [15, 24]], [[18, 46], [77], [23, 18, 5, 16]], [[28, 17, 45], [26, 11, 20, 33], [29, 42], [29, 19]], [[20, 26, 18], [8, 7, 3, 13, 20], [15, 15, 12, 16], [26, 45], [19, 4, 14, 9]], [[16, 15, 20], [32, 26], [26, 16, 28], [31]], [[33], [51], [21, 26], [47], [31]], [[30, 33], [19, 29, 15, 26], [12, 30, 22], [11, 19, 27, 28, 14]], [[22, 17], [26, 4, 26], [21]], [[42, 30], [21, 24, 28], [54], [58]], [[26], [61], [67], [57], [71], [84]], [[10, 24], [12, 13, 18, 13, 26], [34, 41], [19, 26, 20]], [[14, 27], [9], [31, 28], [52], [33]], [[19], [22, 36], [21, 15], [20, 16], [35]], [[20, 25, 11, 13, 16], [27, 28], [18, 12, 16, 12], [14, 11, 24, 21, 19]], [[29, 19], [20, 23, 25, 19], [37, 10, 25]], [[31], [15, 34], [42], [55]], [[7, 11, 23], [17, 17, 16, 12], [9, 6, 15, 12, 19], [15, 12, 25, 16]], [[35], [22, 9, 27], [19, 32], [22, 36]], [[22, 17, 30, 14], [20, 31, 18], [16, 54, 12], [16, 24]], [[3], [11, 15, 18, 9], [15, 13, 6, 14, 17, 7, 5], [16], [28]], [[11, 17, 31], [18, 31], [36, 19, 21], [25, 17, 25, 9], [27, 50, 25]], [[24, 28, 29], [16, 27, 26, 16], [18, 47, 64], [22, 32, 22]], [[20], [14, 62], [52]], [[45, 80], [37, 28], [58]], [[27], [8, 32, 11], [18, 29, 20, 21, 29, 20, 7], [22, 42], [23, 45, 28]], [[22, 32], [38, 27], [37, 27], [42]], [[27, 58], [44, 28]], [[35, 5], [34, 36], [55, 12], [29, 34]], [[10, 28, 20], [29, 23, 19], [15, 26, 15, 18], [30, 13]], [[26, 23, 24, 6, 25], [33, 28, 20, 16], [15, 33, 18, 22], [30, 28, 16], [17, 16, 19, 17, 11, 19, 16, 21]], [[29, 24], [74, 14], [24], [17, 16, 16, 15]], [[23], [25, 12], [43]], [[], [89, 32, 27], [63, 21], [69, 9]], [[21, 16], [23, 17], [11, 29], [21, 16], [12]], [[12, 13, 10], [12, 20], [16, 9, 10], [9, 9, 9, 25], [19, 16]], [[17, 22, 11], [35, 10, 19], [18, 42], [13, 12, 27], [32, 29, 17]], [[36], [26, 14, 14, 19, 24, 25, 36]], [[26, 12], [24, 12, 22, 43], [7, 20, 23]], [[3], [15, 25], [29, 8, 11], [26, 29], [21, 7, 18, 12], [15, 8, 20, 22]], [[13, 11], [29, 23], [33], [17, 37, 5], [27, 27, 24]], [[14, 26], [15, 51], [21], [17], [38, 32, 27, 32]], [[20, 14, 6, 15], [18, 16], [15, 20, 16], [14, 6, 20]], [[20, 19], [17, 17, 14, 12, 2], [25, 15, 17, 11], [35, 18, 6, 19]], [[15, 17, 24], [14, 21, 13, 12, 10], [8, 17, 14], [10, 17, 32], [17, 9]], [[16, 24], [18, 27], [38, 15], [37], [44]], [[30], [81], [63], [59]], [[12, 28, 18], [23, 26], [31, 59], [65, 12], [28, 2]], [[52], [59], [36, 80], [58]], [[40], [24, 37], [50, 44], [52, 69]], [[32, 26, 30], [39, 50], [21, 37, 27], [37, 13]], [[10, 37, 14, 69, 59]], [[30, 15, 31]], [[13, 11, 21], [10, 34], [16, 28], [23], [13, 29]], [[34], [26, 19, 26], [24, 26, 43], [26]], [[30, 23, 60, 38, 17, 17, 123, 12, 43], [98, 49]], [[13, 17, 12, 13], [17], [27, 14], [8, 30]], [[14], [21, 12], [32, 10, 26], [10, 21, 8], [53], [39], [40]], [[30], [24], [50], [22]], [[15, 19], [20], [30, 33, 37], [20, 25], [39], [63]], [[34, 18, 13], [33, 38], [53], [17, 36]], [[72], [39], [69], [70]], [[20, 41], [26, 23], [29, 39], [46, 28], [46, 27]], [[17, 41], [36], [20, 32], [34]], [[30, 20], [30, 41], [44, 25], [24, 23]], [[25, 28, 36], [68, 79], [32]], [[16, 26, 36], [18, 42], [36, 19], [28, 65], [18, 38]], [[58], [61], [55]], [[19, 26], [38, 28, 29], [17, 39, 25], [19, 13, 12]], [[66, 30], [22, 29], [42]], [[23, 28], [35, 61], [38, 40], [48]], [[36, 13], [32, 43, 10], [36, 76], [26]], [[31, 12, 19], [11, 36, 25], [19, 21], [26, 30]], [[6, 13, 17, 12], [24, 11, 22], [25, 30], [20, 16]], [[18, 23], [20, 27], [24, 20], [10, 32], [29, 52, 14]], [[22, 24, 31], [24, 16, 11, 21, 25], [22, 30, 23]], [[30, 17], [61], [35], [25, 35], [52]], [[25, 34], [19], [34, 22], [13, 20, 28, 22, 25], [4, 16, 39]], [[7, 29], [73, 43], [30, 28, 49], [49]], [[20, 35], [12, 28, 15], [12, 25, 30], [18, 41], [35, 32]], [[30], [30], [64], [17, 18], [23, 34], [25, 33]], [[39], [64, 53], [100], [44]], [[21, 19], [34], [10, 38], [31], [4, 23], [32], [35]], [[28, 20, 10, 35, 8], [24, 23, 14], [44], [63, 15], [44, 11]], [[40], [24, 27, 15, 40, 37], [20, 19, 22], [33], [30, 32]], [[12, 37], [27, 26, 19, 26], [9, 21, 19, 13]], [[26], [13, 15], [], [], [48], [25], [12]], [[30], [39], [27], [51], [29]], [[33], [56], [33, 0], [47], [38, 26]], [[38, 11, 19], [29, 7, 11, 13], [27, 22, 26], [13, 10, 26]], [[52, 15, 32], [19, 23, 36], [29, 31], [79]], [[80], [209], [60]], [[11, 9, 8, 14], [11, 19], [6, 17, 6, 21], [19, 13, 5, 12]], [[11, 13], [31], [45, 8], [61], [18]], [[36, 25], [18, 12, 17], [19, 18], [40]], [[31], [15, 7, 10, 12, 30], [12, 26, 18], [8, 8, 10, 23, 10]], [[21, 29], [9, 31, 15, 18], [48, 44, 66], [25, 25]], [[11, 13, 11], [27, 12, 14, 18], [21, 20, 20, 21], [8, 31, 13]], [[11, 21, 20, 9], [26, 18, 30, 43, 48], [25, 21]], [[55], [26, 24, 26], [25, 20, 20, 16], [26, 56]], [[42, 39], [13, 127], [62, 13]], [[96], [43, 33], [20, 23, 20], [19, 44], [24]], [[37], [93], [78], [64], [119]], [[23], [60], [58], [45]], [[24], [71], [73], [66], [33, 41], [57]], [[74], [44, 42, 14], [22, 15, 25, 15], [13]], [[42], [39, 19], [48], [29], [14], [44]], [[38], [25], [55], [22, 27], [38, 23], [12, 30], [67]], [[13, 14], [24, 25, 19], [20, 19, 22], [27, 30, 16], [32], [24, 6]], [[67], [38], [62, 43], [57], [39]], [[21], [27, 27], [71], [36]], [[], [89, 13, 58], [12, 91], [15, 30]], [[51], [53], [48], [28], [44], [48], [29, 39]], [[60], [54], [43, 34], [64]], [[12, 13, 15], [9, 41], [20, 14, 7, 16], [14, 10, 22, 9], [46]], [[30], [34, 42], [29, 28], [38, 24]], [[47], [71, 48], [21, 11, 32]], [[15, 16, 19], [8, 15, 23], [12, 8, 14, 3]], [[42], [36], [47], [63], [87]], [[13, 21, 46], [62, 25, 27], [30, 40]], [[24, 37], [29, 27, 9], [26, 52], [18, 33]], [[11, 27, 21], [13, 14, 15, 15], [27, 20, 43]], [[28, 7], [39, 18], [59], [51, 17], [46], []], [[24, 7, 12], [9, 17, 13], [17, 12, 17, 12, 17, 5], [24, 17, 15, 11, 11, 16]], [[43], [48], [34], [35, 46], []], [[37, 17], [24, 12], [31, 16], [23, 10], [20, 19, 33]], [[13, 14, 16], [20, 22, 13], [24, 26], [18, 27], [21, 31]], [[34], [26, 21], [25, 12, 16], [30], [35, 42]], [[17, 12, 23, 31], [20, 14, 30, 29], [27], [18, 33], [33, 27, 9], [22, 28, 9]], [[], [96], [29, 23], [49]], [[14, 17, 17], [32, 33, 11], [18, 24, 22], [15, 19, 16]], [[13, 13], [29], [10, 29], [45], [41, 6], [59]], [[13, 11, 29], [13, 45, 26], [17, 17, 10], [27, 7, 11], [33]], [[25, 19, 36], [47, 22], [14, 46, 36], [16]], [[35, 22], [47, 24, 19, 36], [17, 26, 48, 30], [56, 14, 61, 29]], [[22, 24], [45], [27], [43, 18], [35]], [[18, 7], [13], [22, 49, 18], [16, 13], [23]], [[90], [11, 45], [65], [34]], [[15, 14, 29], [31, 31], [13, 10, 24], [37, 21], [42, 13]], [[18, 13, 5, 9, 19], [31, 46, 22, 18], [18, 30]], [[17], [20, 35], [39, 24, 27], [52, 25], [46], [31, 37]], [[37], [31], [22], [33], [11]], [[30], [34, 12], [25, 20], [45], [32]], [[65, 46], [26, 38, 30], [27, 41], [11, 28, 22]], [[16, 41, 29], [21, 17, 17, 23, 17, 30], [28, 15, 17]], [[12, 28, 29], [24, 24], [33, 11], [7, 8, 12, 3]], [[23, 43], [31, 14], [48], [30, 18, 9, 13]], [[32, 20], [26, 19, 61, 20, 25], [18, 10]], [[37], [28, 32], [33], [32, 20]], [[21, 37], [42, 38], [64, 28], [84]], [[23, 12, 21, 58, 15], [24, 17, 34, 31, 21], [29, 21, 16, 16, 13, 8, 22, 22, 12, 22]], [[51, 21], [21, 6, 20], [17, 19, 19, 18], [12, 18, 7]], [[6, 8, 17], [35, 13], [46], [21, 19]], [[16, 13, 20, 22], [33, 13, 11, 15], [15, 7, 25, 53], [15, 32]], [[23], [45, 20, 5], [30, 32, 15], [30]], [[], [54, 19, 11, 17, 22], [29, 13, 28, 4], [19, 26, 26]], [[2], [20, 23], [31], [22, 12], [49, 24, 12]], [[20, 17], [19, 22], [20, 32], [83], [18, 38, 13], [49, 14]], [[34, 32], [34, 38], [46], [81]], [[17, 25], [18, 9, 22], [11, 19], [26, 13], [25, 15, 34]], [[33, 36, 22], [54], [8, 35, 18, 12], [21, 11, 24, 27, 23]], [[18, 27, 9], [51], [17, 25, 17], [43], [45, 17]], [[61], [80], [75, 17], [39, 30]], [[23], [24, 9, 19, 17, 13, 17, 21, 20, 21, 6], [24, 35]], [[3, 17, 38], [13, 21, 6, 14], [], [82, 10, 14, 11], [17, 24, 24], [17, 24, 21]], [[35, 31, 15], [35, 15, 9], [11, 16, 18], [11, 38, 12, 22]], [[43, 30, 4], [59, 27, 12, 35, 26, 15], [38, 21, 36, 26, 11], [32, 27, 18]], [[45], [29, 46, 28, 11], [12, 44, 26], [46]], [[20, 14], [27], [30], [40]], [[36], [32, 42], [64], [74]], [[17, 8, 12, 26], [13, 4, 22, 19, 7], [4, 10, 11, 15, 6, 12], [8, 11, 4, 9, 24, 8]], [[19, 26], [20, 20], [13, 13, 12], [22, 24], [14, 25, 36]], [[30, 18, 36], [15, 27, 20, 62], [15]], [[46, 16, 17], [10, 14, 3], [29], [33], [8, 32, 22], [29, 17]], [[21], [15, 18, 17, 21], [11, 11, 10], [27, 28], [18, 36], [37]], [[10, 14, 18, 32], [23, 22], [11, 36], [19, 40]], [[24, 36, 9], [51, 29], [23, 18, 28], [22, 27]], [[37, 27, 24], [17, 19, 28, 14, 18], [21, 45, 18], [14, 33, 28], [38, 29]], [[21, 32], [78], [67], [11, 57]], [[57], [47, 6, 65], [31, 18, 24], [27, 13, 21, 21], [9, 27]], [[54], [29, 22], [17, 41], [25, 23], [33, 18]], [[35, 16], [69], [31, 25], [21, 19]], [[13, 29], [10, 14], [24, 20], [41], [19, 14]], [[19, 18, 9, 46], [16, 20, 19, 18], [46, 60], [69]], [[28, 46], [74], [94], [61]], [[19, 18], [24, 25], [30, 17], [14, 12, 16], [34, 30]], [[27, 9, 7], [17, 31], [8, 13, 18], [7, 10, 18], [15, 34]], [[28, 14, 14], [8, 15, 26, 20], [14, 26], [18, 9, 25]], [[], [75], [44, 29], [39], [17], [39], [32]], [[16, 29], [25, 9], [45], [63], [26, 25]], [[17, 38], [12, 26, 13, 20, 50], [7, 41, 32, 52], [46, 26, 39], [59]], [[30], [43], [45], [11, 31], [44], [43], [38]], [[31, 25], [18, 22, 24, 22], [23, 33, 23, 12], [44, 18, 14]], [[11, 23, 19, 28], [40, 16, 27, 50], [54, 47], [15, 21, 41]], [[49], [47], [13, 13, 20, 26, 9], [5, 25, 31], [11, 24, 33], [31, 22], [57]], [[21], [34, 15], [43], [31, 38]], [[19, 18, 17], [26, 16, 27, 21], [12, 10], [38], [24, 24], [22, 15], [45, 7, 14]], [[11, 10], [31, 15, 27], [40, 25, 33, 9, 31, 8, 12], [23, 41], [41]], [[20, 18], [54], [14, 34], [46]], [[22], [42, 22, 40, 25, 13, 24, 37], [16, 31, 14, 7]], [[48], [27, 14, 16], [41], [38], [23, 42]], [[19], [71, 36, 18], [39, 60, 27], [39]], [[10, 30, 32], [19], [30, 41], [22, 31, 20]], [[10, 26, 19], [35, 35, 27, 20], [7, 29, 58, 37, 6, 41], [12, 19]], [[3], [17, 45], [95], [68], [74]], [[14, 12, 15, 11, 34, 9], [64, 24], [26]], [[24, 17, 14, 25], [15, 27, 30], [44, 26], [26, 18, 24]], [[67], [37], [12], [90, 21], [32]], [[23, 20], [24, 31], [14, 18, 14, 19], [18, 37]], [[31], [40], [10, 27], [10, 26]], [[19, 27, 32], [29, 16, 21], [71], [27, 67]], [[24, 18, 39], [18, 19, 23, 22], [19, 15, 19, 5, 10, 12]], [[11, 10, 17], [27, 11], [15, 34], [28, 17], [25]], [[6, 11, 12, 10], [15, 39, 18, 15, 24, 20, 11, 11], [9, 6]], [[13], [33, 30], [39, 17]], [[46, 84], [23, 48, 19, 31, 57, 39, 27], [39, 40, 32, 28, 42, 20, 39, 40], [47, 38]], [[10, 34, 17], [75, 27, 15, 24]], [[29], [33], [38, 20], [], [80], [60]], [[15, 14], [38, 15, 20], [18, 7, 17, 21, 50, 6, 4, 12, 30], [29, 10, 49, 8, 93, 11]], [[45, 24], [33, 28, 29], [38, 40]], [[4, 16, 9, 13, 19, 12, 14], [23, 6, 20, 17], [17, 24], [22, 7, 6, 16, 31]], [[30, 21], [53], [80, 12], [51]], [[20, 20, 18, 9], [21, 22, 28], [20, 20, 27], [42], [46, 25]], [[22], [40, 104], [28]], [[7, 14, 54], [16, 12, 17, 20], [11, 12, 19, 21], [17, 30, 18]], [[21, 10, 15], [24, 25], [12, 17, 20], [21, 17], [18, 24]], [[26, 28], [19, 40, 25], [64, 41], [19, 46], [29, 34]], [[20, 17], [25, 16, 13], [], [89, 24], [86, 7]], [[35], [36, 35, 21], [25, 48], [42]], [[29], [16, 16, 36], [23], [27, 29], [48], []], [[65, 26], [31, 16, 16], [27, 35], [26, 24], [36, 18]], [[24], [12, 17, 29], [29, 28]], [[10, 22, 30], [44, 25], [47]], [[10, 9, 24], [48], [31], [5, 17, 8, 53], [63], [35]], [[19], [19], [30], [61], [25, 16]], [[31, 23, 32, 65, 53]], [[10, 16, 26], [23, 10], [19, 19], [11, 21, 17, 14, 13]], [[16, 15, 45], [40, 19, 16, 39, 17], [46], [22, 39]], [[16, 17, 38, 27, 19], [6, 22, 9, 9, 17, 13, 11], [14, 18, 16, 22, 16], [19, 33, 14, 20], [24, 9, 11, 21]], [[22, 23], [15, 33, 21], [38, 27, 32], [41, 40]], [[21, 43], [35, 14, 32], [33, 34], [18, 22, 24], [13, 27, 36]], [[15, 14, 15], [22, 24], [22, 12, 20], [17, 19, 13], [18, 16]], [[30], [19, 31, 12, 33, 18, 9], [17, 15, 12, 17], [18, 17, 14], [27, 29], [41]], [[23, 25], [34], [15, 10, 11], [33], [17, 21, 18]], [[15, 24, 18], [21, 6, 46], [19, 12, 15, 29], [32, 33], [17, 11, 18, 31]], [[41], [], [49], [21], [22], [89], [43]], [[12, 30, 26, 33], [12, 13, 36], [36, 22], [16, 43], [24, 42]], [[13, 30, 35], [19, 21, 51], [25, 8, 34], [38, 37]], [[48, 10, 19], [35, 41, 21], [32, 42], [50, 27]], [[47, 13, 20, 17, 42, 20, 14, 27, 42]], [[19, 36, 24], [23, 7, 11, 20, 15, 12], [25, 15, 20], [17, 15, 12, 23]], [[24], [120], [37, 33, 27, 23]], [[30, 36], [25, 13, 30], [49], [52]], [[26], [13], [12, 11, 36], [30]], [[47, 18], [37], [27, 30], [12, 26], [33, 16]], [[21], [28], [39], [49, 43], [17, 15], [18], [37], [27], [32]], [[30, 31], [26, 42], [22, 21], [25]], [[31], [37, 41], [26, 15], [44], [30]], [[13, 16, 18, 35], [42, 30], [25, 34], [29, 17]], [[28], [46, 26], [35, 28], [64], [32]], [[28, 31, 20, 23, 22], [105, 19, 40], [15, 20, 12, 15]], [[18, 17, 15, 10, 6], [44, 15, 11], [16, 17, 27, 8], [39, 21]], [[47], [92], []], [[59, 49], [35, 13, 50], [38]], [[45], [61], [44], [41], [35], [121]], [[58, 15], [13, 18, 31], [36, 21, 28, 52], [25, 23, 7], [22, 18, 31]], [[17, 37], [31, 9, 18], [56], [23, 18]], [[18, 18], [34, 13], [34], [18, 22], [27]], [[15], [12, 26], [46], [54], [7, 25, 18, 14], [31]], [[41], [29, 32], [47], [47]], [[14, 14, 14], [31, 21, 19, 10, 20]], [[27, 22, 37, 17, 14], [34, 35], [23, 19, 19], [27, 22]], [[6, 14, 13, 18, 31], [35, 26, 20, 37], [14, 41, 16], [14, 35, 3, 20]], [[20], [74, 16], [44, 25], [47], [54], [35]], [[21, 23], [24, 19, 51], [37], [27, 18]], [[30], [38], [25], [43], [15, 20], [30]], [[30, 34], [59], [41], [33, 44]], [[16, 27, 44, 41], [6, 58], [61, 45, 32, 41, 25]], [[14], [7, 10, 22], [16, 12, 54], [54], [31, 13, 8, 20]], [[21, 7], [17, 28], [22, 13, 9, 31], [44]], [[24, 12], [19, 32], [27, 21], [39]], [[129, 15], [19, 46], [27, 15, 48], [38]], [[35, 22], [32, 41, 26, 19], [19, 24], [43]], [[44], [22, 62, 0], [14, 29, 27], [30, 14]], [[53], [57, 17, 18, 33], [28, 15], [20, 17, 20]], [[37], [25, 13, 12], [7, 17], [19, 13, 10, 21], [28, 24, 9]], [[40], [14, 28], [9, 12, 16, 0], [31, 30], [9, 56]], [[24, 18, 28], [35, 38], [37, 18]], [[26, 14], [39, 39], [31, 13, 20], [31]], [[37, 36], [129], [94], [59]], [[30, 29], [24, 41, 18], [35, 28], [19, 20, 25, 16], [33, 27]], [[38, 20, 15], [11, 28, 20, 19, 4], [34, 38, 15], [46, 40, 40, 12], [20, 7, 29, 31, 21], [16, 36, 33]], [[35, 12, 39], [23], [43], [17], [20], [41], [41], [25, 5, 16], [1]], [[22, 40, 71, 116]], [[53, 20, 11, 11], [], [75], [34, 16, 19, 9, 17, 20], [37, 35, 32]], [[20, 22, 13, 26], [13, 15, 14, 24], [16], [77], [54, 21]], [[10, 9, 17], [10, 7, 18, 9], [8, 26], [6, 5, 12, 6], [18, 8, 11]], [[18, 21], [22, 11, 16], [18, 39], [11, 18, 24]], [[59], [47], [], [91], [29]], [[30], [30], [47], [39], [39]], [[40, 23, 22], [14, 28, 39, 26], [24, 41, 29, 23, 16], [14, 29]], [[30], [20, 34, 14], [39, 18], [], [35]], [[17, 17], [19, 23], [40, 28], [25, 35]], [[27, 14], [30, 19], [26, 23], [20, 24], [46], [14, 42]], [[16, 15, 25, 24], [15, 24, 23], [17, 15, 23], [19, 20, 25]], [[17, 15], [9, 31], [], [39, 21], [55, 31]], [[26, 17, 9, 50], [26, 33, 35], [10, 58, 38, 14, 24, 19, 0], [14, 11, 22, 54], [19, 17, 23, 37]], [[46], [54, 30, 49], [19, 32]], [[72], [23, 20, 25, 14, 23], [11, 19, 31, 13]], [[33, 32], [24, 29, 8, 11, 7, 12], [9, 12, 14, 12, 16, 16, 29], [17, 14, 9, 21, 7]], [[10, 33], [11, 16, 24], [17, 30, 42], [36, 16], [34, 22]], [[13, 22, 29], [24, 44], [37, 29], [15, 15], [68]], [[62, 47, 28], [42, 31], [17, 28], [25, 20], [20, 33, 24, 13]], [[47], [18, 31, 18], [16, 38], [20], [31, 22]], [[31], [33, 24], [23], [28], [40, 20], [8, 25], [32], [18, 13, 21], [15]], [[35], [35], [69, 21, 29], [25]], [[15, 16], [17, 36], [15, 38], [25, 35], [31, 32]], [[35], [13, 20, 31], [21, 13, 20], [36], [10, 15, 15]], [[90, 32, 32, 73]], [[37], [76], [44], [33]], [[19, 37], [19, 36], [37], [20, 44]], [[21, 19, 25], [14, 19, 26, 24], [12, 18, 13, 11], [51]], [[67], [14, 35], [25], [35], [26], [18], [40], [55]], [[23], [17, 21], [38], [16, 14, 19], [25]], [[14, 49], [31, 40], [36, 24], [14, 14, 35], [21, 24]], [[19, 16], [66, 19, 31, 4, 19, 54], [55, 64]], [[33], [48], [32], [24, 6, 35], [31], [8, 38], [37], [36, 24], [28, 14], [47], [59, 48], [26]], [[39, 30, 50], [31, 18], [23], [64], [87], [59], [26]], [[26, 10, 22], [10, 23, 28], [28, 18, 19], [12, 16, 7, 17]], [[53], [65, 33, 46], [59]], [[13, 21], [34, 17], [46, 24], [21, 20, 30]], [[22, 13, 6], [12], [66, 24], [8, 23], [45, 23, 12]], [[25], [], [63, 13, 14], [19, 10], [10, 13], [17, 14]], [[10, 7, 8, 9, 20, 38, 27], [75, 29, 36, 11], [18, 40, 7]], [[29, 15], [15, 16], [40], [37, 26], [54]], [[13, 14], [13, 11, 9, 14], [21, 17], [34, 17], [24], [27]], [[14, 17], [59, 18, 22], [9, 18, 20, 7, 22], [39, 62], [47, 25]], [[16, 35], [39], [44, 18, 29, 14], [24, 20, 19, 22, 28], [33, 19, 16]], [[13, 28], [28], [26, 10], [46]], [[22, 22, 32], [36, 12, 30, 21], [46, 41], [31, 16]], [[9, 10, 13], [20, 12], [14, 24], [55]], [[15, 2, 14, 8, 14, 15], [16, 44], [24], [54], [21, 18, 10], [15, 12, 17]], [[77], [55], [73], [46], [29, 32]], [[38, 26, 14, 25, 25, 28], [20, 5], [27, 39], [17, 25, 19, 22], [62], [27], []], [[45, 30], [8, 13, 21], [58, 24, 14], [31, 7], [11, 18, 14], [52]], [[14, 23, 12], [15, 9, 7, 21], [25, 13, 35], [11, 24, 5, 16, 16, 26], [30, 48]], [[8, 19, 18], [21, 13], [19, 11, 20], [24, 20], [23, 17], [21, 36]], [[13, 18, 48, 17], [22, 31], [44, 26], [18]], [[31, 25, 29, 39, 13], [20, 18, 22, 23], [10, 20, 24], [37, 25, 11, 14]], [[11], [40, 23, 26], [31, 22, 25, 28, 14], [21, 20, 18], [11, 10, 21, 16]], [[4, 43], [27, 33], [28, 27], [15], [29], [7]], [[23, 14], [75, 27], [50], [57, 18, 14]], [[51, 8, 39], [31, 31, 20], [67], [25, 32]], [[42, 8, 15, 23, 13, 36, 51, 13, 37, 32, 36, 8]], [[8, 13, 34, 34, 29], [50]], [[11, 15], [18, 17, 29], [11, 17, 28], [42, 32], [5, 22, 18]], [[12, 18], [19, 39], [34, 21], [22, 11, 36]], [[20, 13], [51, 18], [25, 25], [28, 20]], [[18, 27], [31, 25, 20], [30, 10, 9], [21, 45], [21, 17, 27]], [[33], [25, 17], [46, 23], [43], [36, 31]], [[25, 27, 16], [13, 65], [27, 22], [76], [47]], [[34, 34], [57, 25], [23, 27, 14, 40], [16, 18], [26]], [[26], [25, 47], [43, 27], [26, 17, 29]], [[3, 22, 14, 26], [47, 33, 14, 32, 23], [60], [29, 55, 0]], [[5, 10, 11, 11, 5], [20, 23, 17, 14, 16, 16, 44]], [[21, 75], [43], [55], [44], [28], [51]], [[18], [48, 46, 13], [77], [71], [31]], [[15, 10, 10], [17, 14, 12, 20, 11, 15], [10, 9, 15, 25], [15, 25]], [[12, 60], [31, 18], [2, 18, 14, 22], [37]], [[37, 19, 18, 14], [14, 16, 21, 17, 28], [7, 18, 20, 25, 15]], [[51, 29, 8], [18, 23, 20, 30, 16, 5, 18, 7, 18, 36, 30], [18, 13, 19, 45, 9], [7, 38, 21]], [[28, 7, 24], [16, 19, 22, 10], [32, 16, 15, 16], [13, 19, 13, 12], [28, 32]], [[22, 16, 7], [32, 42], [36], [17, 18]], [[6, 28], [21, 13, 5], [9, 14, 17], [31, 17, 21], [16, 11, 22, 20]], [[38, 11], [11, 18, 24, 17], [24, 20]], [[27, 26], [19, 24, 35], [52]], [[13], [61, 14], [25, 19], [24, 24], [13, 29], [25]], [[26, 11, 22, 26], [20, 33], [31, 26], [30, 18, 18, 19], [27, 16, 27], [32]], [[28, 21], [50], [20, 40], [33, 41], [45]], [[43], [28, 21, 14, 39], [39, 11, 5, 25, 12, 17, 17], [30]], [[9, 48], [50], [79], [32, 45], [70]], [[25, 27], [17, 36, 38], [35, 42]], [[10, 32, 13, 21], [40, 20, 25, 22], [30, 18, 12], [16, 11, 38, 21]], [[62], [5, 17, 26, 29], [32, 33], [25, 55]], [[48], [36], [33, 18]], [[32, 32], [37], [34], [40], [35]], [[37, 27], [14, 9], [27], [23]], [[11, 36], [14, 59], [6, 67], [12, 65], [9, 61], [26, 36, 41]], [[20, 26], [13, 23, 10, 5, 18, 16, 3], [23, 15, 8, 7, 7, 10, 33, 11]], [[30, 10, 29], [], [95, 7], [20, 9, 5, 33, 23], [20, 13, 17, 25]], [[40], [11, 19], [19, 22], [12, 26]], [[72], [26], [15], [119], [32], [50]], [[21, 16, 13, 23], [20, 27, 18, 10], [22, 14, 29]], [[13, 25], [20, 25], [27, 27], [60], [18, 27]], [[23, 31, 34, 22], [36, 33], [22, 8, 33], [45]], [[7, 9, 13, 9, 12], [17, 8, 14, 15, 11], [14, 17, 18, 8, 6, 14, 12, 17], [11, 4, 12, 9, 17]], [[34], [44, 57], [23, 28, 19], [11, 14, 26, 14], [35, 37]], [[16, 29, 26, 24, 13, 24], [16, 31, 35], [21, 30, 25, 21, 20]], [[27, 28], [24, 24], [24, 39, 40], [18, 32], [55, 38]], [[11, 12, 6, 28], [4, 3, 16, 52, 13, 20, 20], [12, 4, 16, 10, 21, 12, 10], [19, 15, 27]], [[20], [24], [23, 17], [39], [45, 18]], [[10, 25, 34, 11], [14, 47, 25, 16, 19], [15, 21, 11, 13]], [[30, 25], [20, 29], [44, 22, 21], [39, 27]], [[23], [40, 12], [32], [34], [39]], [[19, 10, 17], [40, 21, 23, 16, 17, 12, 28, 51], [11, 23, 32, 28, 35, 59]], [[18, 28, 39], [], [90, 15, 17, 28], [13, 23, 9, 20, 20, 18, 25, 45]], [[38], [38], [12, 32, 36], [20, 36], [36, 26], [14, 34]], [[7, 25], [11], [], [26, 15], [50], [17, 39], [29, 27], [39]], [[55], [45], [29], [57], []], [[76, 23, 17, 19], [11, 17, 13], [19, 38], [9, 12, 16]], [[25, 18, 32, 36], [25, 18, 42, 26, 22, 15, 24], [22, 24]], [[13, 9, 12, 10], [15, 23, 27], [23, 24, 13], [11, 17, 31], [18, 25, 18]], [[30, 36], [18, 65], [48], [47, 51]], [[17, 14, 30], [9, 37, 42], [53, 15], [42, 28], [27, 26, 58, 24]], [[20, 11, 21, 25], [13, 32, 16, 8, 24, 14], [11, 34], [9, 14, 9, 23, 9, 11]], [[24, 22], [9, 8, 23, 26], [37, 22, 38, 26], [16, 17, 17]], [[16, 14, 15], [18, 16, 6, 13, 4], [16, 36, 24], [21, 12, 3, 15], [34]], [[34, 13, 18, 32], [10, 50, 23, 30, 44, 27], [45, 34, 23]], [[24, 13], [28, 18, 36, 47, 48], [62], [17, 15]], [[], [66, 51], [28, 28], [29, 37], [15, 16, 34]], [[17, 29], [17, 27], [19], [16, 15]], [[31, 15, 28], [29, 14, 36, 34], [22, 11, 47], [54, 24]], [[15, 18, 30, 20], [32, 25], [66], [46, 41], [32, 35], [14, 8, 28, 23]], [[55], [71], [39], [36]], [[34, 22, 12], [29, 25, 29], [25, 29, 24], [33, 13, 20, 27], [18, 29]], [[21, 13], [25], [40], [24]], [[10, 18, 38, 22, 19], [32, 24, 23, 1, 14, 3, 7, 4, 17, 15, 23]], [[22, 28], [14, 51, 6], [49, 11], [49]], [[72, 23], [31, 9], [21], [38], [17], [46, 16]], [[15, 15], [7, 15, 16]], [[97, 67], [83, 27], []], [[35, 18], [29, 9], [14, 15, 18], [24, 22], [33]], [[17, 42], [26, 43, 61], [50, 53, 21], [25, 36, 19]], [[24], [11, 22], [56, 25], [111], [89, 16]], [[15, 24], [35, 16, 18, 33], [35, 14], [23, 33]], [[18, 26, 27], [19, 15, 32, 56], [39, 26, 11, 28], [53]], [[42], [48, 50], [65, 51], [54]], [[15, 19, 22], [29], [35]], [[28], [], [], [138], [], [44]], [[28, 54], [23, 43], [51, 48], [74]], [[35, 43, 43], [33, 27], [31, 14, 34], [45, 20, 14]], [[36], [38], [49], [34]], [[35], [47], [39], [50]], [[21, 21, 30], [36, 24, 20], [19, 16, 22], [26, 22, 22]], [[13, 11], [13, 9, 31], [17, 29], [45], [40, 28]], [[16, 43], [22, 45], [29, 16], [34]], [[19, 46], [37, 36], [49], [19, 21], [22, 36]], [[47, 23, 18, 45], [51]], [[55, 10], [23], [63], [40], [40], [72], [14, 40]], [[61, 43, 57], [46, 16, 47, 34, 34, 23, 58, 65], [41, 86]], [[25, 27], [39, 23], [41, 31], [37, 50], [50], [38, 28]], [[34], [10], [62], [23, 16], [7, 25], [34], [37], [40], [5, 12], [10, 31], [18], [32]], [[13, 16, 15], [20, 14, 17, 22, 19, 13], [26, 21]], [[27, 7], [26, 43, 21, 24], [39, 16, 8], [41, 17]], [[17, 19, 18, 20], [11, 36, 23], [22, 40], [26, 56], [28, 34, 1]], [[28], [47, 11], [19], [26, 31], [58, 21, 3], [21, 12], [33, 18], [54], [49], [16, 29], [15, 17], [8, 20, 39], [21], [8], [10, 28], [], [56], [25, 7], [21], [22, 21, 4], [5], [1]], [[40], [26, 24], [51], [35], [17, 15]], [[4, 6, 9, 25], [19, 28, 7, 11, 9], [4, 10, 8, 17, 5, 6, 19, 4], [13, 25, 22], [8, 22, 23]], [[18, 9], [14, 31], [21, 15], [23]], [[21, 39], [26, 23, 27], [19, 21, 20], [62]], [[], [], [], [63], [], [23, 2], [2], [34], [], [48], [8, 12], [28, 21, 2, 8]], [[17, 9, 32], [38, 15, 17, 22, 20], [14, 13, 23, 27], [23, 26]], [[33], [15, 47], [59], [38, 44, 26], [7, 12, 22, 50], [41]], [[11, 6, 17, 13], [32, 11], [15, 17], [17, 15], [23, 21, 16]], [[12, 32], [17, 16, 35], [34, 20, 13, 21], [21, 17]], [[44, 13], [], [29, 12, 9], [15, 20], [14, 27], [13, 9], [66], [11, 14]], [[48], [43, 51], [52]], [[23], [25, 34], [24, 12], [55], [22, 28]], [[4, 33, 19, 16], [22, 21, 21, 48, 10], [25, 39, 43]], [[4, 10, 20], [68], [25, 46], [19, 17]], [[65], [27, 53, 14, 24], [39]], [[26, 2, 33], [21, 8], [33], [16, 17, 34], [48, 22]], [[6, 8, 23, 9], [9, 20, 22], [15, 15], [9, 22], [21, 23]], [[32, 64], [99], [44], [48]], [[15, 26], [19], [6, 22], [21, 13], [25], [11, 21]], [[10, 12, 12, 10], [27, 11, 14], [26, 13, 33, 18, 8], [27, 22]], [[31], [16, 40, 23, 52], [20, 26, 43, 30], [34, 12]], [[11, 32, 46], [50, 17], [82], [74, 10]], [[12], [15, 66], [68, 37], [], [89], [], []], [[92, 24, 26], [29, 19, 16], [16, 19, 15, 17, 25], [19, 17, 13, 16], [19, 25, 12, 19, 8, 28]], [[57], [86], [21, 19], [32]], [[8, 28], [19, 19, 29, 28], [53, 39, 12, 8], [38, 45], [20, 15]], [[10, 17], [41, 12, 19], [10, 52], [22, 20]], [[21], [38, 32], [28, 51], [29, 18], [20, 26], [47, 19, 18], [13]], [[39], [31, 43], [32, 21], [41]], [[18, 10, 20], [17, 50], [20], [17], [14], [15]], [[28, 12], [16, 16], [31], [43], [21, 18], [15, 27]], [[31, 6], [34, 13], [40, 30, 13], [27, 44], [7, 20, 14]], [[52, 7], [40, 26, 31, 14, 6, 30, 9, 11], [22, 17, 25, 15, 16], [13]], [[49, 20], [23, 15, 28, 13], [47, 3, 19, 28, 32, 13], [14, 21]], [[28], [23, 18], [41], [28], [18, 20]], [[13, 18], [17, 6, 26, 16], [14, 16, 13, 23], [22, 14, 2, 20], [19, 8]], [[19, 32], [], [160], [31, 41]], [[80], [57]], [[21], [38], [44], [39, 10], [26]], [[11, 40], [18, 26], [15, 19, 26]], [[21, 37], [30, 20, 18], [27, 17], [33, 16, 24]], [[9, 20, 3, 2, 15, 23], [13, 46], [5, 19, 11, 6, 27], [9, 5, 9, 10]], [[26, 44, 13], [24, 19, 21, 29, 26], [13, 10, 22, 23, 20]], [[16, 19, 19, 27, 16, 22, 34, 17, 19, 18, 32, 18, 26, 7, 26]], [[14, 16, 12], [6, 19], [19, 20], [19], [52], [16, 8], [27]], [[31, 15], [18, 14, 18], [21, 15], [20, 14, 10]], [[38], [45], [16, 40], [31]], [[55], [13, 25], [25], [65]], [[59, 41, 36, 33]], [[11, 11, 14], [15, 27], [20, 26, 13], [42, 11]], [[28, 23, 43], [41, 15, 13], [24, 10, 22, 25, 14], [22, 27, 27, 11], [39, 18]], [[39], [19, 49], [47, 10], [22, 22, 17], [20, 24]], [[44], [16, 21, 20], [33], [28], [22]], [[12, 26], [51], [48], [44]], [[15, 29], [48], [32], [18], [114, 27]], [[16, 27], [29], [33, 26], [21, 52], [11, 27]], [[12, 23], [16, 23, 16], [21, 31, 10], [18, 7, 13]], [[28], [14], [33], [27], [16], [27]], [[29], [26, 29], [21], [22, 21], [18]], [[72], [33], [65], []], [[98], [20, 32, 13, 43], [63]], [[15, 11, 12], [13, 23, 12], [28, 16, 16], [13, 12, 26]], [[], [102], [69], [47], [42]], [[14, 35], [34, 56], [62]], [[48], [36], [20, 31, 45], []], [[56, 18], [43], [17, 28, 9], [26], [9], [31], [17], [31]], [[50], [37], [58, 73]], [[48], [58, 31, 45], [50]], [[3, 2, 10, 25, 12, 22, 48, 29, 18]], [[12, 32], [27, 32], [36, 12], [28, 7], [14, 17]], [[11, 13], [16, 21], [11, 33], [33, 18]], [[30, 19], [30, 22], [17, 33], [20, 24]], [[61, 31], [41, 42, 20], [58], [43, 6, 24]], [[27, 16], [35, 18], [35, 29], [31]], [[7, 30], [35, 10, 17], [37, 19], [19, 17]], [[49, 31], [21], [23, 16]], [[23], [31, 22], [13, 33], [54], [34]], [[21, 14], [26, 15], [17, 12, 15, 18, 6, 13]], [[23], [24, 26, 13], [29, 26], [8, 32]], [[33, 13, 32], [25, 23, 13], []], [[77], [37], [26], [35, 39], [41], [28, 46]], [[20, 10], [29], [20, 17], [29], [28, 21]], [[27, 12, 14], [31], [46], [38]], [[27, 13], [38, 14], [16, 33], [29, 34]], [[2, 3, 6, 8, 17], [19, 12, 32], [26, 19], [22, 43, 24], [35]], [[54], [], [53], [16, 24]], [[28, 37], [34], [32], [36], [17, 15]], [[30], [33], [29], [30, 12]], [[24, 11], [21, 25, 8], [23, 13], [20]], [[29, 15], [45], [39], [29], [19, 21], [53]], [[23, 19], [19, 32, 5, 35], [21, 4, 21, 17], [66]], [[24, 30, 15], [10], [44, 39], [29, 8, 37]], [[17, 14, 11], [19, 22], [34, 22], [64], [27]], [[20, 17, 17, 24, 21, 7], [35], [17, 14], [43, 38], [30], [39]], [[43], [], [68, 52], [10, 34]], [[11, 32], [11, 20, 30], [16, 19, 21, 18], [13, 40, 6]], [[27, 24], [42], [43, 30, 14], [19, 17]], [[15, 22], [29, 15, 14, 34], [9, 15, 40], [18, 31]], [[25, 55]], [[], [61], [55, 36], [27, 32]], [[18], [13, 22], [18, 8], [26, 10], [31], [18]], [[16, 21], [22, 17, 14], [34], [11, 16, 13]], [[9, 13, 17, 23], [17, 9, 11], [21, 18], [33, 22, 19], [6, 10, 16, 11, 4]], [[27], [31, 18], [], [38], [44], [35], [26], [11]], [[8, 27], [7, 44, 21], [11, 33], [16, 9]], [[20], [26, 61], [25], [19, 29], [60]], [[], [92], [48, 27], [43, 26], [29, 24]], [[19], [20, 36], [10, 13, 33, 36], [44]], [[8, 26], [20], [22, 8, 11]], [[14, 14, 23], [43, 20], [16, 10, 42], [13, 35]], [[43], [20, 17, 16], [36], [49]], [[14, 17], [15, 12], [34], [35], [12, 23, 13, 15]], [[29, 19], [25], [31], [29], [22], [35]], [[], [28], [13, 4, 8, 6, 12], [26], [1, 8], [25], [4, 13]], [[24, 19, 25], [28, 9, 31], [44], [33, 32], [17, 13, 16]], [[1, 14, 39, 28, 24], [9, 3, 9, 9, 9, 10], [9, 6, 15, 12], [27, 14, 18], [8, 25], [24]], [[14], [24], [33], [35, 31], [20], [31], [39]], [[13, 23, 38], [54, 40], [26, 32, 19]], [[], [32, 27, 0], [62], [34]], [[11, 24], [20, 15, 31], [27, 38], [20]], [[17, 64], [52], [51, 54], [83]], [[8, 8, 32], [21, 34], [35, 29], [12, 24], [24, 9]], [[8, 15, 34], [19, 7, 21], [30], [27], [33], [29, 19]], [[9], [14, 15], [24], [13, 11], [], []], [[66, 13], [20, 11, 32], [9, 2, 23], [26, 24]], [[22], [55, 17, 33], [25, 14]], [[14, 27], [33], [26, 19, 38], [15, 18, 25, 15, 20], [40]], [[94]], [[31], [17], [24], [43, 5]], [[16, 15, 26], [25, 24], [44], [52]], [[42], [77], [], [129]], [[19, 13, 25, 16], [29], [22], [28, 37], [23, 30]], [[8, 15], [65], [26], [24]], [[10, 32], [30], [16, 42], [17, 13, 19], [18, 23]], [[47], [30, 32], [58], [32, 10, 40]], [[11, 8, 20], [20, 24, 12, 28], [], [55, 15], [11, 10, 13]], [[79], [82, 47], [59]], [[16, 32], [23], [71], [10, 29, 14], [16, 38], [35]], [[21], [24, 4, 18], [26], [57, 24], [21, 18], [21]], [[31, 26], [104], [67], [78]], [[12, 75], [21, 25], [42], [33]], [[34], [], [84, 62], [51]], [[37], [22, 36], [25], [34], [37], [43, 32, 5]], [[26], [26, 27, 16], [66], [6, 26]], [[27, 22], [60], [56], [41]], [[31], [24, 22, 36, 20], [14, 39, 14], [59], [35, 24]], [[8, 20], [69, 28], [92], [54], [34, 34]], [[12, 23], [37], [18, 41], [13, 11, 16]], [[36], [44], [41], [44], [64]], [[], [151], [58], [76]], [[14, 12], [30, 12, 21], [8, 19, 4]], [[24, 16, 25], [12, 30, 68], [16, 22, 19], [17, 38]], [[12, 12, 15, 25], [15, 13, 6, 9, 8, 9], [12, 15, 18], [15, 20, 19, 11, 14]], [[40, 17], [60], [44, 20]], [[17, 25], [30], [32, 34, 25, 11], [10, 41], [3, 12, 27, 19]], [[18, 17, 15, 23], [58], [18, 27], [13, 16], [13, 25]], [[15, 11, 26], [31, 17, 8], [13, 11, 14, 21], [12, 26], [12, 11]], [[35], [41, 36], [47], [39], [30, 40]], [[7, 18, 36, 29], [42, 6, 22, 28, 15], [9, 12, 9, 31, 26, 33], [7, 33, 21, 16, 8, 15, 41], [6, 14, 18, 19, 12, 19, 6, 23]], [[14, 26, 25], [12, 11, 13, 19], [10, 23, 15, 38], [23, 27, 16]], [[16, 18], [18, 23], [31], [13, 19], [9, 5, 13, 9]], [[58], [], [36], [5, 9, 17, 14], [41], [15]], [[79], [10, 18, 24], [23, 15, 14], [], [59, 40, 17]], [[6, 36], [], [55], [32], [57], [40], [42], []], [[79, 17, 8, 19], [47, 27, 53, 5], [43], [23, 25, 33, 26, 15, 10], [29, 30]], [[37], [37], [29], [62]], [[39], [31], [83, 19, 20, 15], [], [62]], [[18, 32], [131], [91, 35], [66]], [[19, 27], [114], [69], [29]], [[69], [92], [110], [87]], [[38, 17], [47], [56], [27, 15, 21], [44]], [[18, 23], [44, 9, 24, 26], [13, 28, 7], [34, 31]], [[41], [28, 12, 19, 37], [13, 32], [], [41]], [[46, 41], [36, 79], [32, 25], [63]], [[28, 17, 11], [12, 15], [40, 8, 31], [28, 10], [37], [43, 29]], [[29, 23], [45], [11, 36], [16, 39, 19], [15, 21, 36, 13]], [[13, 9], [31, 6, 35], [7, 23, 23], [31], [11, 17, 24]], [[33, 4, 1, 0], [33, 38], [30], [], [73], [57]], [[13, 9, 17], [7, 24], [24], [6, 23, 23, 13], [25]], [[1, 10, 4, 10, 1], [26, 7, 24, 25, 15, 6, 12], [43, 9, 4, 32], [4, 3, 30]], [[48, 130, 17]], [[], [69], [], [177], [58], [66]], [[10, 18], [11, 10], [24], [18], [7], [23], [15], [30], [21], [14, 28], [], [19]], [[22], [19], [31, 22, 20], [18, 20, 29, 18, 10, 32], [16, 12, 25]], [[7, 13, 21], [], [85], [22]], [[25, 27], [], [71], [36, 55, 26, 21, 11], [28, 53]], [[15, 16, 13, 23, 10], [16, 25, 13, 23], [12, 43, 15], [25, 24, 35]], [[16, 16, 32], [11, 11, 20], [37], [34], [19, 22, 36, 13]], [[5, 17, 21, 149, 34, 70]], [[18, 19], [64], [67], [45], [28, 39]], [[12, 26, 13], [13, 68], [38, 44, 27], [26, 15, 13], [51, 19], [30, 31, 31], [28, 32, 6]], [[21, 32], [30, 28, 26, 28], [21, 9, 26, 18, 25, 31, 14], [12, 36, 15, 37, 19], [20, 47, 7]], [[32], [34, 23, 34], [29, 23], [31]], [[34, 35], [28], [48, 32], [18], [24, 15]], [[31, 28], [21, 25], [28, 28, 12, 9], [38]], [[27, 34], [14, 37, 30], [15, 16, 22, 32], [19, 37, 24], [23, 12, 23, 25, 9], [22, 41]], [[22], [12, 6], [], [63, 26], [34], [9, 5], [48, 17], [28], [32]], [[38, 64, 14, 15, 32, 10, 111, 29, 41, 69]], [[24, 20, 45], [47, 25], [32, 30], [51]], [[43], [12, 15, 16], [26, 30], [27]], [[14, 26], [10, 29, 61], [25, 20], [23, 14]], [[8, 16, 21, 20, 8], [11, 10, 34], [17, 43], [21, 17], [30, 18]], [[10, 23], [58, 19], [16, 18, 23, 21], [32, 18, 30], [24, 20]], [[47, 12, 3, 29, 3, 20, 10], [13, 11, 18, 22, 16, 6, 19], [12, 28, 7, 5, 36], [20], [80], [25]], [[18], [22], [26], [24, 34, 19], [32]], [[81], [33], [20, 14], [35], [25], [9]], [[29], [45], [40], [48], [60], [38, 22, 19], [41]], [[53, 13], [48, 19], [33, 25], [21, 46]], [[20, 28, 19, 13], [47], [20, 45, 17, 28], [26, 12, 11]], [[15, 22, 36], [10, 25, 19, 21, 12, 24], [11, 22, 5, 45, 11], [54, 32, 23]], [[29], [20, 27, 7], [50], [43, 19], [60]], [[12, 34], [15, 10], [40, 5, 24, 23, 40], [19, 15], [21], [8, 8]], [[24, 47], [], [], [101, 8, 47, 9]], [[17, 21, 37, 27, 22], [28, 12, 26], [63], [30, 17]], [[2, 6, 31, 12, 12, 21], [30, 10, 14, 6, 13, 7], [10, 11, 6, 14, 16, 16], [11, 11, 26], [6, 9, 12, 4, 37], [15], [19, 56]], [[16, 35, 23], [43, 45, 13], [14, 19]], [[32, 36], [41], [59], [60]], [[47], [31]], [[47], [157], [193]], [[38, 22], [36, 47], [35, 30], [51, 27], [27, 51]], [[49], [51], [32], [19, 20], [32], [74]], [[28], [19, 27, 23], [46], [21, 14, 29, 43]], [[28, 27], [38, 12], [77], [53], [19, 33]], [[22], [24], [45], [46], [24], [60], [11]], [[69, 28], [9, 15, 14], [18, 12, 15, 20], [29, 25], [16, 16, 20]], [[17], [50], [20, 16], [34, 11], [41], [28, 21, 8], [35], [13, 18]], [[25, 17], [82, 21, 11], [12, 15, 32, 24], [26, 17, 32, 11, 14]], [[20, 37], [21, 27], [37], [29]], [[43, 35], [29, 34, 58], [29, 9, 13, 7], [14, 32]], [[25], [75], [42], [26, 48]], [[10, 20], [26, 37], [35, 37, 20], [], [68], [], [72, 22], [10, 24, 14, 44]], [[13, 14, 16], [17], [18], [], [36], [27], [26, 28], [15, 22], [18], [19], [48], [19]], [[48], [23, 59, 8], [93, 10, 3], [54, 4]], [[11, 16, 11, 22], [7, 30, 14], [14, 13, 16], [33, 16], [14, 17, 10]], [[60], [112], [78], [64, 22], [69]], [[17, 18, 25], [59, 8, 37], [4, 20, 28], [27, 47]], [[31, 77], [11, 14, 45], [35], [44, 25, 42, 23, 32], [42]], [[7, 21], [84, 19, 47], [46, 27], [31, 27]], [[18, 23], [16, 28, 29, 23], [64, 16]], [[10, 31], [19, 16], [24, 37, 34], [30, 6], [31]], [[10, 26], [18, 4, 27], [29], [29, 19, 6, 19, 15], [31]], [[58], [24], [65], [26]], [[19, 33, 20], [27, 4], [18, 19, 22, 12], [25, 33], [9, 7, 21]], [[8, 27], [16, 20], [29], [24, 21], [46, 18], [28, 21]], [[12, 22, 17, 18, 15], [32, 30], [11, 15, 21, 35], [26, 37, 30]], [[33, 9], [45], [17, 38], [50], [69]], [[7, 25], [18, 17, 15, 13], [28, 10], [17, 8, 10, 3], [17, 13], [24, 25, 10], [13, 20], [11, 10, 5], [12, 12]], [[42], [15, 17], [33]], [[35], [32, 11, 25], [25], [49], [12, 11, 32, 10]], [[32, 58], [], [], [195]], [[73, 46], [45, 51, 62], [59, 21, 28], [40]], [[], [130], [50], [45]], [[21, 11], [48, 9], [42], [24, 13, 17, 36], [20, 25, 33]], [[17], [38, 35, 24, 20], [24, 13, 25, 22, 17], [25, 17]], [[12, 17, 20], [23, 14, 34, 13, 30], [49, 15], [14, 43, 25, 14], [39, 48]], [[44], [37, 14, 22], [20, 27, 12, 34], [29], [19, 27]], [[29, 24, 22], [45, 30, 51], [43, 36], [43]], [[13, 18, 20, 12], [23, 7, 24], [19, 19, 25, 26, 25], [23, 14, 17, 12, 22, 18], [46, 6, 4, 19, 17, 19]], [[19, 32], [93], [77], [35, 26]], [[11, 10, 12, 13], [16, 4], [25, 29, 54, 22, 23], [33, 24, 19]], [[22, 53], [23, 20, 15, 11, 21, 4], [30], [14, 9]], [[20, 39], [23], [16, 19, 22, 17, 14], [16]], [[36, 11, 17, 18, 30], [30, 18, 14], [18, 10, 22], [19, 15, 13, 15, 31], [21, 12, 13, 13], [11, 25, 13, 18, 33, 8]], [[7, 14, 13], [21, 17, 39, 19, 45], [29, 22, 8]], [[10, 24], [19, 16], [16, 13], [14, 31], [24, 23, 22], [10, 15, 20], [42], [12, 30]], [[36, 15], [11], [], [57, 15, 25, 8, 19], [12, 27, 38, 25, 27]], [[12], [24], [17], [13, 29], [40], [25], [12, 36, 9], [44]], [[6, 21, 10, 14, 11, 11, 10, 3, 24, 17, 16, 5, 17, 33, 19, 15, 6, 11]], [[8, 19], [43, 20, 21, 22], [26, 8, 17, 20], [13, 32, 15]], [[6, 8, 18], [13, 19, 10, 16], [24, 10, 38], [21, 26], [9, 7, 23, 19, 26]], [[13, 22, 26, 41], [25, 28], [25], [27, 80], [22, 43]], [[22, 26], [57, 34, 16], [29, 43], [15, 43], [18, 32, 19]], [[23], [], [87], [20, 25], [18, 18, 10]], [[], [57, 34], [74], [66, 4], [44], [45]], [[11, 20], [28, 32, 22, 13], [34, 18, 27], [17, 13]], [[40, 38, 11, 10, 29, 16, 11, 25, 32, 45], [34, 28, 17, 27], [12, 23, 16, 24, 26]], [[10, 22, 9, 7], [], [21, 14, 36], [6, 21, 43, 9], [17, 15, 25], [23, 42]], [[24, 23], [37, 19], [17, 21], [24, 16], [17, 28, 16], [21]], [[8, 24], [9], [8], [19], [13], [5], [9], [10, 18], [23, 4], [10], [14], [5]], [[11, 7, 25, 31], [12, 24, 42], [13, 19, 11, 18, 16], [23, 28, 13], [12, 6, 22, 8, 24]], [[28, 30], [33], [25, 17], [25, 32], [26, 34]], [[34], [18, 38], [27, 17, 21, 26, 25, 36], [36, 34], [9, 24, 29]], [[23, 32], [41, 23, 14], [19, 21, 27]], [[9, 11, 9, 17], [9, 23, 13], [17, 8, 15, 41], [8, 12, 14], [23, 8, 13, 12, 23, 32]], [[7, 15, 27], [8, 4, 44], [12, 18, 1], [20, 32], [4], [11, 16, 21], []], [[54, 22], [24, 28], [21, 32], [20, 26, 16, 16]], [[32], [32, 48], [19, 22], [23, 29], [45]], [[21], [30], [34], [11, 45, 19], [53], [13, 77], [], [69], [64, 38]], [[13, 25], [18, 13, 6], [16, 12, 25], [34, 16, 13, 14, 13, 18], [12], [17, 12], [22]], [[16, 39], [17, 17, 24], [29, 39], [24, 24, 15], [53]], [[20, 26], [62], [38], [47]], [[17, 37], [21, 26], [22, 14], [23, 13], [22, 11]], [[12], [], [], [133], [], [68, 29]], [[28], [19, 44], [18, 6, 27], [34, 28]], [[33, 17], [38], [39], [32, 23]], [[35, 17, 7], [35, 41], [29, 16, 9], [18, 10, 19, 21, 19]], [[18, 22, 13], [13, 34], [13, 23], [17, 27, 20], [38, 4], [18, 11], [40]], [[50], [24, 21], [28, 45], [72]], [[28], [29], [25, 24], [34, 20], [18]], [[44, 21], [44], [31], [57]], [[23, 20, 31, 18], [18, 17, 15, 13, 28], [11, 18, 12, 26, 25, 14], [12, 13, 22, 18, 23], [18, 14, 24, 16, 19]], [[24], [46], [45], [56], [34], [78]], [[33, 31], [20, 17, 36, 18], [23, 34, 32, 40, 78], [48], [30]], [[9, 9, 33], [28, 16, 25, 41], [10, 14, 41, 18], [47], [30, 21]], [[12, 22, 13], [27, 34], [22, 18, 33], [20, 40], [18, 24, 21], [25, 16, 21]], [[15, 16], [15, 8, 25], [23, 9, 23, 29], [28, 28, 31]], [[9, 30, 9], [22, 23, 21], [41, 40, 40, 31], [19, 15, 24], [50]], [[33], [32, 31], [22, 32, 19], [38], [93]], [[46, 49], [54, 39], [38, 16, 38, 12]], [[67], [47, 19], [45, 32], [28], [81]], [[19, 16, 24], [24, 27, 20, 12, 19], [25, 22, 34, 21], [19, 13, 19, 17]], [[36, 39, 14], [22, 48, 18], [35, 12, 20, 12, 3, 28, 30, 11, 30]], [[12, 9, 33, 11, 15], [19, 17], [35, 15, 9, 37, 24], [33, 19]], [[40, 28], [53], [59], [14, 11, 50, 74, 13], [31, 37]], [[21], [86], [85], [72]], [[13, 11, 39], [34, 25], [2, 24, 4, 23, 29], [23, 23], [32, 32]], [[11, 11], [18, 12, 21], [30, 9], [14, 22, 12], [26]], [[23, 28], [25, 42, 24], [21, 22], [55, 33, 12, 17, 5, 13], [13, 16, 19, 4, 18, 15, 21]], [[53, 25], [64], [50], [33, 21], [32]], [[], [98, 25], [54], [25, 20], [44], []], [[43, 22, 17], [30], [38], [21, 15], [], [73]], [[21, 16, 9], [26, 14, 22, 28], [16, 8, 20, 21, 8], [32, 10]], [[20, 51], [14, 24, 12, 23, 25, 18], [40], [29, 14], [35], [22]], [[8], [82, 18, 34], [24, 10], [21, 16, 10, 31], [28, 17, 26], [11, 11, 22, 24, 12]], [[53], [34, 42], [66, 23], [66], [59], [47, 37]], [[38, 11], [10, 21], [12, 20], [31], [17, 19, 7, 18, 38, 7, 27, 12], [9, 24], [11, 26, 9]], [[23, 8], [78], [19, 17], [37]], [[13, 21, 22, 37], [23, 21], [12, 17, 19], [28, 19], [25, 12]], [[26], [50, 37, 15], [69, 100], [14], [43, 92]], [[53, 25], [64], [50], [33, 21], [32]], [[9, 18, 10], [12, 11, 9], [12, 7, 10], [12, 9, 10], [14, 15]], [[12, 33], [43], [5], [40], [19, 17], [26], [23], [], [30]], [[21, 16, 25], [25, 22], [41], [12, 19, 18], [13, 13, 17, 13, 10, 18], [23, 11, 9, 30, 17]], [[31, 19, 26], [16, 49], [36, 41]], [[13, 21, 23, 18, 18], [17, 22, 13, 40, 21, 0, 20, 31, 30, 18, 38], [21, 20, 9, 13, 29]], [[36, 15], [15, 12], [27], [15], [28, 20, 21], [19, 15, 17]], [[22], [14], [12, 27], [49], [29], [27]], [[17, 34, 43], [8, 38, 9, 9, 14], [20, 18, 33], [23], [19, 20, 26], [25, 16, 44], [12], [26, 30, 34]], [[1, 1, 1, 5, 12, 20], [20, 8, 24], [9, 14, 6, 8], [11, 8, 12, 13], [14, 10, 10, 8], [13]], [[13, 42, 42, 71, 10, 22, 26, 17, 44]], [[10, 11, 20], [30, 10, 16], [33, 28], [22, 30, 14]], [[36, 9], [25, 27], [27, 35], [19, 39]], [[4, 14, 19], [40], [34], [49], [25, 23], [28, 9, 12]], [[15, 25], [28, 7, 20], [23, 34], [7, 15, 11, 13, 15, 14, 23], [22, 22, 29]], [[14, 6, 29, 26, 14], [7, 28, 15, 16, 14], [22, 17, 29, 6], [39], [33]], [[39], [29, 18], [36], [52], [23]], [[14, 26], [9, 15, 33], [38], [11, 12, 25, 29], [20, 14]], [[27, 25, 13], [17, 18, 27], [26, 17, 16], [16, 13, 15], [16, 32]], [[26, 17, 9, 23], [27, 14, 11, 26, 15], [38, 17, 20, 17, 11, 12], [8, 22, 20, 12]], [[17, 23], [26], [26, 18], [36, 19, 3], [27], [30]], [[36, 19, 32], [33, 6, 35], [27, 16, 30], [26, 24, 26]], [[17, 8], [17], [18], [12, 18], [18], [22, 14], [13], [24, 25]], [[37], [11, 25, 23], [15, 10, 59], [34]], [[41], [42], [40], [38, 53], [51], [42, 54]], [[3, 24], [22, 68], [22], [52, 49], [67]], [[15, 17, 10], [15, 7, 7, 24, 7], [19, 22, 20], [10, 9, 17, 12], [24, 30, 28], [20, 14, 12]], [[23, 41], [25, 37, 17], [26, 15, 8, 29], [15, 18, 5, 44, 13, 5, 33, 31], [11, 15, 11], [24, 18, 8, 37]], [[36], [28], [22], [28], [20], [9], [37], [52], [46], [32]], [[16, 30], [27, 25, 15, 21], [31, 21, 15, 19], [16, 39]], [[31], [62], [55], [47], [33, 58], [73], [27, 22, 11]], [[17, 22], [8, 12, 28], [26, 14, 4], [19, 16], [18, 22, 29]], [[17, 18], [14, 24, 17, 32], [17, 6, 6, 16, 15, 25, 16], [20, 11, 10, 25]], [[12, 18, 39, 17], [28, 41], [31, 17], [14, 15, 15], [23, 18, 5]], [[37], [22, 37], [81], [24, 32, 66]], [[20, 17], [19, 20], [20, 24], [17, 11], [35], [20, 17], [6, 37]], [[30, 17, 31], [49, 23, 54, 38], [41, 20]], [[25, 20], [13, 18, 14], [22, 17], [21, 20, 18], [12, 10, 8, 29]], [[36], [49, 72], [48], [41], [43]], [[17], [39, 41, 22, 34], [44, 39], [38, 18]], [[14, 25], [36], [113], [56], [33]], [[15, 9, 25, 35], [18, 12, 34], [9, 22, 30], [42, 23], [25, 16, 8, 9]], [[7, 17], [22, 40], [8, 23, 23], [15, 38], [12, 29]], [[27, 20], [14, 20, 54], [30, 19, 82], [35, 12, 16], [30]], [[17, 38], [44], [23, 60], [31, 33], [29, 24, 11]], [[25, 10], [27, 21, 10], [18, 12, 11], [17], [25, 8], [20, 19]], [[20, 42], [23, 35], [21, 17, 67], [47, 45], [25, 31, 26, 27]], [[13, 7, 22, 10], [12, 13, 26, 49, 31], [23, 29, 14], [23, 31]], [[25, 19], [40, 41], [17, 27], [29, 19], [152, 11]], [[15, 16, 30, 12], [21, 16, 18, 13, 15], [32, 27, 23], [15, 42, 30]], [[9, 32], [14], [12, 30], [13, 20, 12, 9], [12, 37, 14, 23, 12, 8, 7]], [[17, 14], [28, 21, 15, 17, 16], [12, 18, 18, 18, 16], [17, 17, 11], [20, 22, 27, 25]], [[17, 18, 31], [71], [64], [58], [78]], [[10, 19, 20, 21], [7, 12, 14, 17], [15, 18, 24], [16, 10, 14]], [[19, 20, 24], [10, 49], [27, 27, 11], [21, 14, 26, 12], [12, 36]], [[35, 182, 42, 107]], [[23, 15, 26, 29], [17, 28, 21, 36, 22], [16, 16, 16, 19, 23, 29, 32], [27]], [[27], [32], [39], [51], [20, 12], [58, 17], [14]], [[25, 19], [34], [23, 19], [45, 22], [20], [20], [22], [22], [28, 18, 36, 17]], [[11, 27, 22], [31, 30, 16], [24, 14, 27, 25, 21], [33, 42]], [[56], [33, 36], [63], [51]], [[7, 45, 20, 43, 3, 3, 12, 26, 15, 13, 10, 13, 16, 5, 29, 16, 32, 39]], [[60], [13, 45], [74], [48]], [[31, 33], [14, 20, 17, 18, 23], [36, 19], [17, 32]], [[14], [23], [22, 32], [10], [29], [41], [27], [25], [46]], [[9, 12, 28], [11, 8, 17, 20, 27, 10], [13, 31], [15, 17, 12], [11, 17, 16, 12]], [[19, 10, 16, 9, 15], [27, 20, 10, 3, 2, 19], [36, 30, 18], [58]], [[3, 4, 18, 2, 19, 12, 27, 4, 3, 23, 6, 8], [9, 11, 17, 14, 9, 7, 3, 3, 12, 12, 3, 16, 4], [14, 11, 10]], [[16, 39], [54], [25, 31, 42], [58], [47]], [[8, 21, 28], [20, 11, 11, 17, 34], [7, 18, 23, 35], [16, 19, 17]], [[33, 22], [11, 23, 21], [29, 28], [21, 17]], [[23, 33, 27], [25, 30], [19, 38, 0], [23, 43, 11]], [[10, 20], [39, 38], [29, 23], [19, 31]], [[36, 25], [20, 22, 32, 28], [28, 13], [15, 19], [34, 37]], [[19, 27, 27], [10, 29], [17, 12, 18], [13, 18, 30], [20], [16, 10, 11]], [[24, 18], [16, 74], [54], [36]], [[16], [21], [24, 14], [16, 4, 32, 3], [10, 42], [35, 15, 12], [54, 12], [18, 15], [13, 19, 4], [13], [3]], [[6, 5, 16], [26, 21, 18], [13, 4, 7], [7, 27, 14], [19, 14]], [[14, 18, 26], [14, 14, 18, 31], [17, 21, 32], [48], [18, 16, 15]], [[8, 14, 25, 3], [15, 7, 20, 45], [11, 40, 13], [71]], [[12], [79, 26, 58, 56], [66, 31]], [[19, 25, 10], [12, 23, 15, 27], [14, 29, 11, 23], [15, 24, 9, 17], [13, 14, 33, 23]], [[106], [10, 29, 55, 29, 14]], [[33, 16], [34, 31], [66], [32], [30]], [[155]], [[8, 40], [2, 24, 26, 28], [4, 23, 8], [9, 32], [28]], [[50, 20, 37, 43, 17, 11, 18, 12, 28]], [[13], [12], [36], [32], [31], [10], [16], [22], [33], [32]], [[25, 25], [55], [47], [32], [55]], [[18, 19, 34], [21, 20, 32, 7, 40], [31, 22, 34], [45, 23]], [[15, 25], [29, 24, 39], [29, 26], [39]], [[37, 42], [34, 37], [49, 53]], [[17, 34], [90], [13, 25], [44], [37, 22, 16]], [[7, 6, 24], [24, 8, 3, 14, 6, 12, 15], [11, 7, 13, 5, 15, 11, 21], [11, 20], [23], [29, 22, 15, 9, 9]], [[6, 17, 22], [21, 26, 23], [29, 51], [38, 38]], [[17, 14, 16], [11, 31, 19, 18], [19, 18], [11, 25], [49, 17]], [[22, 22, 20, 21, 25], [19, 12, 25, 15, 15, 22]], [[12, 15], [19, 24, 44], [42], [27, 25, 35, 49], [39, 21, 12]], [[52], [37], [95], [42]], [[9, 26, 16, 10, 19], [11, 10, 33, 14], [10, 8, 14, 20, 7], [16, 18]], [[25, 28], [48], [70], [43], [69], [91]], [[15, 16], [9, 12, 34, 14], [6, 11, 19, 20], [41]], [[30], [36, 38, 30, 36], [105, 36], [33]], [[43, 36, 33], [11, 14, 16], [78], [40, 60, 29]], [[25, 39, 20, 15, 24, 18, 81, 24, 24, 21]], [[18], [], [92], [], [107, 20]], [[15, 19, 20], [37, 5, 20, 18], [24, 21, 6], [19, 16, 17, 24], [34, 17, 14]], [[18, 18, 17, 7], [10, 32, 17], [23], [18, 5, 23, 18], [13, 16, 32, 15]], [[9, 6, 45], [42], [20, 48], [46, 35], [9, 36, 23]], [[10, 26, 39], [18, 23, 24, 36, 7], [28, 15, 28], [23, 32, 12]], [[34], [47], [62], [36]], [[29], [33, 32, 64, 18, 43, 18], [47], [43]], [[34, 29, 19, 73, 20, 40], [21, 21, 37]], [[12, 27, 6, 10, 21, 23, 11, 9], [22, 6, 5, 19, 9, 48, 18, 3, 15], [3]], [[13, 34], [7, 17, 30], [15, 20, 17, 36], [10, 18, 18, 14, 32, 14, 11, 20, 7]], [[18, 15, 21, 18, 12], [27], [7, 20, 12, 15, 37, 21, 16, 8, 11, 13, 15, 11, 6, 12, 11, 7, 8, 11, 14], [10, 31, 10, 9, 38, 9, 19]], [[26, 23, 23, 26], [16, 21, 43, 18], [47, 62], [32, 33, 24]], [[49], [26, 12], [23, 24], [16, 29, 19], [30], [93]], [[18, 18, 28], [28, 26, 34, 11], [39, 46, 37, 17], [22, 30]], [[21], [27], [34], [29], [], [57]], [[25, 19, 27], [39, 24], [26, 36]], [[16, 18, 19], [35, 19, 11], [32, 46, 8], [29, 36]], [[20, 5], [32, 47, 13], [97, 15, 17], [45, 13]], [[31], [24], [80, 46], [36]], [[9, 25, 47], [49, 48], [56], [83], [75, 43]], [[30, 19, 33, 20, 51], [27], [67]], [[10, 14, 9, 12, 6], [15, 14, 25, 11, 16, 4], [16, 14, 71, 22]], [[16, 10], [23, 30], [34, 29], [33], [28, 53], [22, 20, 7]], [[10, 15], [32, 7, 20, 10], [8, 26], [9, 16], [36], [10, 14], [4, 25]], [[20, 32], [11, 56], [16, 28], [42], [25, 11, 41], [26]], [[32, 23, 33, 66], [37], [25]], [[19, 14], [25, 19, 9], [25, 25, 51], [53, 40], [35]], [[26, 53], [26, 47], [31, 22, 53], [27]], [[34], [13, 10, 21, 8, 8, 7, 17], [21, 10, 9, 32]], [[61], [20, 38, 15, 24], [10, 20, 18, 14, 28, 36], [9, 10, 28, 25]], [[26], [37], [14, 34], [], [28], [30], [], [43], [20], [20], [13]], [[29, 33], [39], [45], [41, 26]], [[33], [43], [53], [36], [65], [29]], [[21, 22], [27, 37], [43, 15], [31, 27], [17, 35]], [[24, 29], [23, 18], [20, 19, 5], [23, 29], [13, 15, 16], []], [[39, 60], [61], [18, 16, 28, 15], [35, 9]], [[34, 25, 11], [56], [10, 40], [30, 36], [11, 22, 14], [13, 34]], [[33, 62], [16, 54], [43, 36], [29], [47]], [[30, 31], [75, 43], [38, 43]], [[16, 4, 3, 9, 9, 10], [8, 16, 4, 15], [8, 26, 11], [], [31, 23], [16, 15]], [[11, 24, 17], [8, 17, 18], [15], [50], [28], [13], [32, 28], [22, 5, 6, 21]], [[], [52, 17, 29], [9, 20, 31], [12, 15, 29, 19], [28]], [[27, 55, 14], [25, 34, 15], [24, 18, 12, 40], [18, 18, 26, 17]], [[42, 22], [32, 17], [77], [63, 42]], [[13, 7, 34], [27, 48, 22, 20], [35, 29]], [[13, 8, 18, 16, 28], [57, 23, 19], [39, 50], [21, 35], [59, 11, 40]], [[8, 13, 20], [14, 14, 8, 23], [19, 23, 18], [30]], [[7], [], [106], [58], [19, 39, 13]], [[19, 22, 28], [47], [48], [20, 43, 6, 21, 45], [52, 32]], [[52], [18, 50], [51], [24]], [[48, 30], [18, 16, 22, 15, 19], [16, 12, 28, 27], [22, 21, 49], [13, 26]], [[21, 10, 24], [2, 4, 3, 1, 2, 1, 9, 35, 34], [37, 14, 23], [43, 17]], [[22, 27, 8], [26, 18, 18, 24], [28, 12, 41], [22, 20]], [[17, 22], [14, 25], [38, 9], [29, 22], [56]], [[53, 16], [20, 29, 45], [83]], [[19, 18, 21, 22], [45, 4, 49, 21, 21], [51], [76]], [[7, 24, 25, 12], [30, 29, 20, 18], [41, 24, 31], [13, 42]], [[], [25, 15], [13, 11], [22], [30], [28], [31, 13, 22], []], [[29, 21], [19, 22, 36, 44, 31, 24]], [[11, 14, 19, 13, 30], [69, 16, 35, 13], [32, 8, 22], [28, 10, 4], [11, 11, 8, 53, 12, 35], [14, 14, 20]], [[16, 32, 28, 10, 10], [5, 28, 8, 8, 19, 29, 29], [23, 21, 27], [14, 12, 11], [81, 60, 36]], [[26], [23, 10, 35], [43], [25], [19]], [[54], [116], [21, 45], [62], [40]], [[10, 19], [23, 10], [23, 26], [17, 21], [18, 15, 24], [24, 39], [60]], [[21, 23, 27, 3, 10, 14, 5, 20], [19, 19, 12, 26, 22, 10], [29, 10, 12, 17, 4, 14, 10, 4], [8, 7, 20, 41]], [[26, 26, 25], [40], [], [37], [20, 17], [12, 13], [], [82], [29], [30], [27, 18], [44]], [[18], [14, 5, 31, 11], [17, 18, 8, 7], [17, 18], [18, 12, 10]], [[62], [64], [90], [74], [73]], [[15, 18], [21], [], [53], [22, 8, 61, 32, 6, 39, 27], [42]], [[8, 9, 15, 12], [30, 24, 34], [56], [39]], [[15, 28, 20], [46, 19], [40], [14, 30, 40]], [[24, 21], [21, 11, 24, 25], [24, 28], [21, 28], [30, 27, 30]], [[21, 17, 24, 10], [36, 27], [35, 26, 19, 25]], [[19, 22, 15], [24, 33, 33], [18, 14, 41], [20, 13, 18, 8, 23]], [[25, 14], [16, 34, 11, 12, 25], [18, 18, 26, 15], [14, 29, 30, 7, 16]]]\n"
     ]
    }
   ],
   "source": [
    "#Sofisticação lexical se dá pelos seguintes parametros listados:\n",
    "#1. Quantidade de palavras no texto (OK)\n",
    "#2. Quantidade de palavras diferentes no texto (OK)\n",
    "#3. Quantidade de sentenças no texto (OK)\n",
    "#4. Quantidade de paragrafos no texto (OK)\n",
    "#5. Quantidade de palavras por sentença (OK)\n",
    "#6. Quantidade de sentenças por parágrafo (OK)\n",
    "#7. Sentenças longas demais\n",
    "\n",
    "#1. Quantidade de palavras no texto\n",
    "\n",
    "def count_words(all_essays): #recebe a lista de redações divididas em paragrafos\n",
    "    #retorna wit e wis que são listas de listas que representam\n",
    "    #a quantidade de palavras por paragrafo em cada texto e por sentença em um paragrafo em cada texto\n",
    "\n",
    "    wit=[]\n",
    "    wis=[]\n",
    "    palavras_na_sentenca=0\n",
    "    for i in range(len(all_essays)): #Redação\n",
    "        wip=[]\n",
    "        vaux2=[]\n",
    "        for j in range(len(all_essays[i])): #Paragrafo\n",
    "            palavras_no_paragrafo=0\n",
    "            aux=all_essays[i][j].copy() #copia de um paragrafo\n",
    "            vaux=[]\n",
    "            for word in aux:\n",
    "                if word[0].isalpha() != False:\n",
    "                    palavras_no_paragrafo+=1\n",
    "                    palavras_na_sentenca+=1\n",
    "                if word == '.' or word == '...': #encerra uma sentença\n",
    "                    #indice de word é o indice da ultima palavra da sentença\n",
    "                    vaux.append(palavras_na_sentenca) #quantidade de palavras por sentença\n",
    "                    palavras_na_sentenca=0\n",
    "            vaux2.append(vaux) #quantidade de palavras por sentença\n",
    "            wip.append(palavras_no_paragrafo) #quantidade de palavras por paragrafo\n",
    "        wis.append(vaux2) #quantidade de palavras por sentença\n",
    "        wit.append(wip) #quantidade de palavras no texto\n",
    "    return wit, wis\n",
    "\n",
    "wit,wis = count_words(all_essays)\n",
    "\n",
    "mwt4 = [0]*4 #media de palavras por paragrafo para redacooes com 4 paragrafos\n",
    "mws4 = [0]*4 #media de palavras por sentenca para redacooes com 4 paragrafos\n",
    "t4 = 0 #quantidade de redacooes com 4 paragrafos\n",
    "\n",
    "for i in range(len(wis)):\n",
    "    if len(wit[i]) == 4 and qtdspf[i][0] != 0 and qtdspf[i][1] != 0 and qtdspf[i][2] != 0 and qtdspf[i][3] != 0:\n",
    "        t4 += 1\n",
    "        mws4[0] += wit[i][0]/qtdspf[i][0]\n",
    "        mws4[1] += wit[i][1]/qtdspf[i][1]\n",
    "        mws4[2] += wit[i][2]/qtdspf[i][2]\n",
    "        mws4[3] += wit[i][3]/qtdspf[i][3]\n",
    "for i in range(len(mws4)):\n",
    "    mws4[i] = mws4[i]/t4\n",
    "print(mws4)\n",
    "print(sum(mws4)/4)\n",
    "#print(wit)               \n",
    "print(wis[1045:])"
   ]
  },
  {
   "cell_type": "code",
   "execution_count": 80,
   "metadata": {},
   "outputs": [
    {
     "name": "stdout",
     "output_type": "stream",
     "text": [
      "[{'A': 1, 'liberdade': 1, 'de': 1, 'expressão': 1, 'assim': 1, 'como': 1, 'o': 2, 'direito': 1, 'à': 1, 'intimidade': 1, 'são': 1, 'conquistas': 1, 'históricas': 1, 'Quando': 1, 'um': 1, 'entra': 1, 'em': 1, 'contato': 1, 'com': 2, 'outro': 1, 'é': 1, 'preciso': 1, 'pesar': 1, 'bom': 1, 'senso': 1, 'os': 1, 'dois': 1, 'lados': 1}, {'Em': 1, 'épocas': 2, 'de': 2, 'regimes': 1, 'autoritários': 1, 'como': 1, 'as': 2, 'ditaduras': 1, 'militares': 1, 'na': 3, 'América': 1, 'Latina': 1, 'e': 2, 'fascistas': 1, 'Europa': 1, 'a': 2, 'imprensa': 1, 'não': 1, 'tinha': 1, 'liberdade': 1, 'para': 1, 'veicular': 1, 'notícias': 1, 'diversas': 1, 'esbarrando': 1, 'comumente': 1, 'censura': 1, 'Nessas': 1, 'pessoas': 1, 'também': 1, 'sofriam': 1, 'graves': 1, 'violações': 1, 'em': 1, 'suas': 1, 'vidas': 1, 'privadas': 1, 'por': 3, 'meio': 1, 'tortura': 1, 'constrangimentos': 1, 'exemplo': 1, 'mas': 1, 'com': 1, 'ascenção': 1, 'da': 1, 'democracia': 1, 'no': 1, 'ocidente': 1, 'esses': 1, 'direitos': 1, 'foram': 1, 'amplamente': 1, 'protegidos': 1, 'lei': 1}, {'Porém': 1, 'há': 1, 'casos': 1, 'em': 4, 'que': 3, 'essas': 1, 'garantias': 1, 'são': 2, 'postas': 1, 'conflito': 1, 'como': 1, 'figuras': 1, 'públicas': 1, 'principalmente': 1, 'políticas': 1, 'pauta': 1, 'de': 2, 'notícias': 1, 'esbarram': 1, 'sua': 3, 'intimidade': 1, 'Assim': 1, 'o': 1, 'alvo': 1, 'dessas': 1, 'matérias': 1, 'pode': 1, 'requerer': 1, 'sigilo': 1, 'por': 1, 'se': 1, 'tratar': 1, 'da': 1, 'vida': 1, 'privada': 1, 'enquanto': 1, 'a': 1, 'imprensa': 1, 'vê': 1, 'cerceada': 1, 'liberdade': 1, 'expressão': 1}, {'Portanto': 1, 'é': 1, 'preciso': 1, 'avaliar': 1, 'até': 2, 'onde': 1, 'o': 2, 'direito': 1, 'de': 3, 'expressão': 2, 'pode': 1, 'ser': 2, 'abusivo': 1, 'lesar': 1, 'a': 1, 'honra': 1, 'do': 2, 'cidadão': 1, 'e': 1, 'mesmo': 1, 'causar': 1, 'transtornos': 1, 'psicológicos': 1, 'ao': 2, 'alvo': 1, 'das': 1, 'notícias': 1, 'Dessa': 1, 'forma': 1, 'bem': 1, 'estar': 2, 'humano': 1, 'deve': 1, 'à': 1, 'frente': 1, 'da': 1, 'liberdade': 1, 'quando': 1, 'esta': 1, 'não': 1, 'for': 1, 'suma': 1, 'necessidade': 1, 'conhecimento': 1, 'público': 1}]\n"
     ]
    }
   ],
   "source": [
    "def countdiffwordsbyessay(all_essays):\n",
    "    aux_essays = all_essays.copy()\n",
    "\n",
    "    #2. Quantidade de palavras diferentes no texto\n",
    "    #removendo a pontuação para não ser contada como palavra\n",
    "    for i in range(len(aux_essays)):\n",
    "        for j in range(len(aux_essays[i])):\n",
    "            aux=aux_essays[i][j].copy()\n",
    "            for word in aux:\n",
    "                if word[0].isalpha() == False:\n",
    "                    aux.remove(word)\n",
    "            aux_essays[i][j]=aux\n",
    "    #calculando a quantidade de palavras diferentes no texto\n",
    "    qtdpd = []\n",
    "    for i in range(len(aux_essays)):\n",
    "        txt = aux_essays[i]\n",
    "        words = [item for sublist in txt for item in sublist]\n",
    "        #for words in txt:\n",
    "        fdist1 = nltk.FreqDist(words)\n",
    "\n",
    "        filtered_word_freq = dict((word, freq) for word, freq in fdist1.items() if not word.isdigit())\n",
    "\n",
    "        qtdpd.append(filtered_word_freq)\n",
    "    return qtdpd\n",
    "\n",
    "def countdiffwordsbyparagraph(all_essays):\n",
    "    \n",
    "    aux_essays = all_essays.copy()\n",
    "\n",
    "    #2. Quantidade de palavras diferentes no texto\n",
    "    #removendo a pontuação para não ser contada como palavra\n",
    "    for i in range(len(aux_essays)):\n",
    "        for j in range(len(aux_essays[i])):\n",
    "            aux=aux_essays[i][j].copy()\n",
    "            for word in aux:\n",
    "                if word[0].isalpha() == False:\n",
    "                    aux.remove(word)\n",
    "            aux_essays[i][j]=aux\n",
    "    #calculando a quantidade de palavras diferentes no texto\n",
    "    qtdpd = []\n",
    "    for i in range(len(aux_essays)):\n",
    "        txt = aux_essays[i]\n",
    "        vaux=[]\n",
    "        for words in txt:\n",
    "            fdist1 = nltk.FreqDist(words)\n",
    "\n",
    "            filtered_word_freq = dict((word, freq) for word, freq in fdist1.items() if not word.isdigit())\n",
    "\n",
    "            vaux.append(filtered_word_freq)\n",
    "        qtdpd.append(vaux)\n",
    "    return qtdpd\n",
    "\n",
    "\n",
    "testing = all_essays.copy()\n",
    "print(countdiffwordsbyparagraph(testing)[0]) #quantidade de palavras diferentes no texto da redação 1\n",
    "    #print(qtdpd[1].values())\n",
    "    "
   ]
  },
  {
   "cell_type": "code",
   "execution_count": null,
   "metadata": {},
   "outputs": [
    {
     "data": {
      "text/plain": [
       "'Conflito entre liberdade de expressão e intimidade: bom senso é necessário'"
      ]
     },
     "execution_count": 5,
     "metadata": {},
     "output_type": "execute_result"
    }
   ],
   "source": [
    "essays[0].title"
   ]
  },
  {
   "cell_type": "code",
   "execution_count": null,
   "metadata": {},
   "outputs": [
    {
     "data": {
      "text/plain": [
       "{'Competência 1': 1.0,\n",
       " 'Competência 2': 1.0,\n",
       " 'Competência 3': 1.0,\n",
       " 'Competência 4': 1.0,\n",
       " 'Competência 5': 1.0}"
      ]
     },
     "execution_count": 6,
     "metadata": {},
     "output_type": "execute_result"
    }
   ],
   "source": [
    "essays[0].criteria_scores"
   ]
  },
  {
   "cell_type": "code",
   "execution_count": null,
   "metadata": {},
   "outputs": [
    {
     "data": {
      "text/plain": [
       "Direitos em conflito: liberdade de expressão e intimidade\n",
       "https://educacao.uol.com.br/bancoderedacoes/propostas/direitos-em-conflito-liberdade-de-expressao-e-intimidade.htm"
      ]
     },
     "execution_count": 8,
     "metadata": {},
     "output_type": "execute_result"
    }
   ],
   "source": [
    "essays[0].prompt"
   ]
  },
  {
   "cell_type": "code",
   "execution_count": null,
   "metadata": {},
   "outputs": [
    {
     "data": {
      "text/plain": [
       "'https://educacao.uol.com.br/bancoderedacoes/redacoes/conflito-entre-liberdade-de-expressao-e-intimidade-bom-senso-e-necessario.htm'"
      ]
     },
     "execution_count": 9,
     "metadata": {},
     "output_type": "execute_result"
    }
   ],
   "source": [
    "essays[0].url"
   ]
  },
  {
   "cell_type": "code",
   "execution_count": 40,
   "metadata": {},
   "outputs": [
    {
     "data": {
      "text/plain": [
       "'Os direitos fundamentais contidos na Constituição Federal não são absolutos, salvo algumas exceções conflitantes entre especialistas, o que abre margem para discussões em casos em que há convergência de direitos. Esse é o caso da decisão judiciária aplicada aos jornais para a remoção das publicações que fizeram sobre o caso de Marcela Temer e do hacker, cuja repercussão se estabeleceu no impasse sobre que direitos teriam prioridade: liberdade de expressão ou inviolabilidade da intimidade.\\nEm uma primeira  a inviolabilidade da intimidade teria prioridade sobre a liberdade de expressão, pois as formas midiáticas, a atividade artística, a música, etc. não necessitam de autorização para exercerem suas atividades, desde que não interfiram nos direitos de terceiros. Entretanto, quem é contra a decisão judiciária afirma que a ordem se trata de uma forma de censura, pois as imagens divulgadas do caso foram retiradas do processo judiciário público – isto é, qualquer pessoa tem o direito de acessar – e abordam tema de interesse social.\\nNessa disputa de censura ou violação da intimidade, observa-se que há interesse político, pois as informações atingem diretamente o atual presidente do Brasil, Michel Temer, o que prejudicaria sua reputação. Então chega-se a outra questão pertinente à população: até que ponto são verídicas as alegações do hacker, sendo ele um criminoso ou não? Afinal, os fragmentos de texto propagados na internet são dispersos e pouco se pode concluir, mas se há crime por de trás das ações do Presidente Temer, é necessário que haja investigação policial.\\nPor conseguinte, conclui-se que houve censura por parte da decisão para minimizar futuros constrangimentos a Temer. Mas, sendo ele uma figura pública, o caso diz respeito aos brasileiros, que não podem ser vendados diante dos diversos casos de corrupção envolvendo políticos. Inegavelmente, o ato de hackear é crime, e o executor desse caso está pagando sua pena, mas deveria ser aberto um novo processo – em segredo de justiça, para que não haja a inviolabilidade da imagem da pessoa – para descobrirem se existem ou não marqueteiro(s)  a serviço do Presidente da República, pois a justiça deve ter prioridade sobre qualquer direito individual.'"
      ]
     },
     "execution_count": 40,
     "metadata": {},
     "output_type": "execute_result"
    }
   ],
   "source": [
    "essays[1].fixed_text"
   ]
  },
  {
   "cell_type": "code",
   "execution_count": 97,
   "metadata": {},
   "outputs": [
    {
     "name": "stdout",
     "output_type": "stream",
     "text": [
      "185\n",
      "41\n",
      "36\n",
      "63\n",
      "41\n",
      "56\n",
      "62\n",
      "85\n",
      "33\n",
      "58\n",
      "49\n",
      "57\n",
      "38\n",
      "44\n",
      "125\n",
      "65\n",
      "43\n",
      "46\n",
      "34\n",
      "124\n",
      "46\n",
      "59\n",
      "41\n",
      "53\n",
      "76\n",
      "71\n",
      "59\n",
      "51\n",
      "41\n",
      "39\n",
      "35\n",
      "56\n",
      "46\n",
      "44\n",
      "80\n",
      "33\n",
      "50\n",
      "40\n",
      "56\n",
      "69\n",
      "80\n",
      "62\n",
      "43\n",
      "170\n",
      "64\n",
      "37\n",
      "41\n",
      "65\n",
      "114\n",
      "47\n",
      "42\n",
      "60\n",
      "47\n",
      "54\n",
      "65\n",
      "48\n",
      "41\n",
      "53\n",
      "54\n",
      "101\n",
      "72\n",
      "51\n",
      "86\n",
      "38\n",
      "42\n",
      "58\n",
      "59\n",
      "41\n",
      "36\n",
      "104\n",
      "61\n",
      "51\n",
      "40\n",
      "92\n",
      "70\n",
      "85\n",
      "51\n",
      "53\n",
      "57\n",
      "34\n",
      "73\n",
      "73\n",
      "35\n",
      "60\n",
      "83\n",
      "83\n",
      "83\n",
      "65\n",
      "40\n",
      "51\n",
      "42\n",
      "57\n",
      "81\n",
      "40\n",
      "125\n",
      "83\n",
      "34\n",
      "47\n",
      "58\n",
      "63\n",
      "65\n",
      "51\n",
      "61\n",
      "37\n",
      "60\n",
      "52\n",
      "74\n",
      "88\n",
      "37\n",
      "48\n",
      "83\n",
      "58\n",
      "58\n",
      "48\n",
      "113\n",
      "126\n",
      "47\n",
      "86\n",
      "61\n",
      "40\n",
      "55\n",
      "64\n",
      "49\n",
      "38\n",
      "56\n",
      "34\n",
      "39\n",
      "64\n",
      "42\n",
      "64\n",
      "52\n",
      "95\n",
      "40\n",
      "116\n",
      "46\n",
      "55\n",
      "35\n",
      "54\n",
      "51\n",
      "56\n",
      "46\n",
      "66\n",
      "58\n",
      "83\n",
      "97\n",
      "75\n",
      "44\n",
      "40\n",
      "93\n",
      "32\n",
      "46\n",
      "67\n",
      "55\n",
      "73\n",
      "65\n",
      "57\n",
      "57\n",
      "59\n",
      "49\n",
      "44\n",
      "35\n",
      "50\n",
      "58\n",
      "72\n",
      "53\n",
      "69\n",
      "89\n",
      "54\n",
      "34\n",
      "31\n",
      "59\n",
      "40\n",
      "55\n",
      "67\n",
      "33\n",
      "56\n",
      "34\n",
      "58\n",
      "56\n",
      "50\n",
      "51\n",
      "49\n",
      "44\n",
      "32\n",
      "105\n",
      "35\n",
      "54\n",
      "140\n",
      "37\n",
      "59\n",
      "46\n",
      "49\n",
      "48\n",
      "73\n",
      "74\n",
      "68\n",
      "52\n",
      "67\n",
      "89\n",
      "45\n",
      "39\n",
      "77\n",
      "49\n",
      "63\n",
      "33\n",
      "69\n",
      "44\n",
      "68\n",
      "73\n",
      "40\n",
      "114\n",
      "67\n",
      "45\n",
      "39\n",
      "67\n",
      "53\n",
      "69\n",
      "36\n",
      "153\n",
      "50\n",
      "42\n",
      "100\n",
      "50\n",
      "59\n",
      "107\n",
      "108\n",
      "42\n",
      "86\n",
      "42\n",
      "69\n",
      "54\n",
      "66\n",
      "57\n",
      "44\n",
      "70\n",
      "70\n",
      "44\n",
      "72\n",
      "52\n",
      "39\n",
      "46\n",
      "50\n",
      "97\n",
      "72\n",
      "118\n",
      "40\n",
      "47\n",
      "46\n",
      "68\n",
      "58\n",
      "71\n",
      "93\n",
      "65\n",
      "66\n",
      "63\n",
      "77\n",
      "46\n",
      "71\n",
      "56\n",
      "102\n",
      "97\n",
      "103\n",
      "68\n",
      "95\n",
      "50\n",
      "76\n",
      "68\n",
      "78\n",
      "63\n",
      "81\n",
      "79\n",
      "45\n",
      "81\n",
      "58\n",
      "77\n",
      "51\n",
      "84\n",
      "37\n",
      "55\n",
      "54\n",
      "80\n",
      "58\n",
      "81\n",
      "80\n",
      "69\n",
      "50\n",
      "31\n",
      "53\n",
      "63\n",
      "53\n",
      "72\n",
      "46\n",
      "79\n",
      "61\n",
      "76\n",
      "73\n",
      "100\n",
      "40\n",
      "51\n",
      "56\n",
      "48\n",
      "127\n",
      "96\n",
      "119\n",
      "67\n",
      "67\n",
      "64\n",
      "59\n",
      "37\n",
      "42\n",
      "96\n",
      "65\n",
      "48\n",
      "81\n",
      "80\n",
      "74\n",
      "46\n",
      "69\n",
      "94\n",
      "41\n",
      "95\n",
      "75\n",
      "80\n",
      "45\n",
      "80\n",
      "89\n",
      "65\n",
      "47\n",
      "46\n",
      "47\n",
      "120\n",
      "92\n",
      "59\n",
      "121\n",
      "34\n",
      "47\n",
      "74\n",
      "129\n",
      "38\n",
      "39\n",
      "129\n",
      "41\n",
      "43\n",
      "116\n",
      "91\n",
      "55\n",
      "62\n",
      "90\n",
      "76\n",
      "38\n",
      "49\n",
      "87\n",
      "48\n",
      "45\n",
      "47\n",
      "37\n",
      "67\n",
      "119\n",
      "50\n",
      "62\n",
      "65\n",
      "74\n",
      "45\n",
      "51\n",
      "86\n",
      "65\n",
      "86\n",
      "53\n",
      "44\n",
      "41\n",
      "160\n",
      "59\n",
      "43\n",
      "52\n",
      "92\n",
      "60\n",
      "83\n",
      "131\n",
      "81\n",
      "60\n",
      "112\n",
      "46\n",
      "37\n",
      "54\n"
     ]
    }
   ],
   "source": [
    "#essays[1046].errors\n",
    "flag = 0\n",
    "for essay in essays:\n",
    "    for i in range(len(essay.errors)):\n",
    "        if essay.errors[i][0].count(',')==essay.errors[i][1].count('.') and essay.errors[i][1].count('.')!=0:\n",
    "            #indice da essay\n",
    "            maxel = 0\n",
    "            for el in wis[essays.index(essay)]:\n",
    "                if el!=[] and max(el)>maxel:\n",
    "                    maxel = max(el)\n",
    "            if maxel > 30:\n",
    "                print(maxel)\n",
    "            flag = 1\n",
    "        if flag != 1:\n",
    "            for el in wis[essays.index(essay)]:\n",
    "                if el!=[] and max(el)>30:\n",
    "                    print(max(el))\n",
    "                    flag = 1\n",
    "            "
   ]
  },
  {
   "cell_type": "code",
   "execution_count": 38,
   "metadata": {},
   "outputs": [
    {
     "data": {
      "text/plain": [
       "'<comments>## Comentário geral\\nTexto regular, razoavelmente bem escrito, apesar da prolixidade e de alguns problemas pontuais graves, particularmente o da obscuridade de certos trechos. Mesmo assim, o autor apresenta uma interpretação pessoal do tema e defende uma tese por meio de argumentação. Não fossem a prolixidade e a falta de clareza, que chega a prejudicar argumentos, a Redação poderia receber uma nota maior. O autor precisa ter em conta que a clareza e a concisão são metas a ser atingidas e que ele precisa se desenvolver nesse sentido.\\n## Aspectos pontuais\\n1) Primeiro parágrafo: a) começa com uma divagação contraditória, afirmando que os direitos constitucionais não são absolutos, exceto quando entram em conflitos, pois então são relativos. Mas se eles não são absolutos, a relatividade atinge todos e não somente os que são conflitantes. b) A repercussão do caso não se deveu a impasse nenhum. O caso repercutiu por envolver a primeira-dama e o presidente da República. O que o autor, provavelmente, quis dizer foi que dos desdobramentos do caso decorre a polêmica sobre o conflito de direitos constitucionais. c) Direitos conflitantes não convergem, divergem.\\n2) Segundo parágrafo: a) o raciocínio apresentado é confuso, pois o autor fala que o direito à intimidade deveria prevalecer sobre a liberdade de expressão de uma maneira geral, mas, a partir daí, passa a falar do caso específico da primeira-dama e da decisão do juiz de fazer prevalecer a intimidade, o que leva algumas pessoas a falar em censura. Na verdade, parece que o autor não consegue dizer claramente que, em sua perspectiva, o direito à intimidade é prioritário, mas existem casos que invertem essa prioridade, a exemplo do que aconteceu com a primeira dama. b) Por formas midiáticas o autor quer dizer simplesmente os meios de comunicação. Então, para que inventar expressões esdrúxulas como formas midiáticas, cujo significado é equívoco? c) Não se tratou de publicação de imagens, mas de textos.\\n3) Quarto parágrafo: a) Não é crime a contratação de marqueteiros. O que o autor deveria afirmar é que houvesse uma investigação para ver se as declarações do hacker eram verídicas e de que modo ela \"jogaria lama\" na reputação do presidente. b) A declaração não faz muito sentido. Justiça não é o contrário de direitos individuais, nem pode prevalecer sobre eles pois os direitos são estabelecidos pela Justiça. O autor parece querer dizer que os direitos da coletividade deve prevalecer sobre os dos indivíduos.</comments>'"
      ]
     },
     "execution_count": 38,
     "metadata": {},
     "output_type": "execute_result"
    }
   ],
   "source": [
    "essays[1].comments"
   ]
  },
  {
   "cell_type": "code",
   "execution_count": 39,
   "metadata": {},
   "outputs": [
    {
     "data": {
      "text/plain": [
       "<bound method Essay.get_features of Entre direitos individuais e escândalos políticos\n",
       "Os direitos fundamentais contidos na Constituição Federal não são absolutos, salvo algumas exceções conflitantes entre especialistas, o que abre margem para discussões em casos em que há convergência de direitos. Esse é o caso da decisão judiciária aplicada aos jornais para a remoção das publicações que fizeram sobre o caso de Marcela Temer e do hacker, cuja repercussão se estabeleceu no impasse sobre quais direitos teriam prioridade: liberdade de expressão ou inviolabilidade da intimidade.\n",
       "Em uma primeira análise a inviolabilidade da intimidade teria prioridade sobre a liberdade de expressão, pois as formas midiáticas, a atividade artística, a música, etc. não necessitam de autorização para exercerem suas atividades, desde que não interfiram nos direitos de terceiros. Entretanto, quem é contra a decisão judiciária afirma que a ordem se trata de uma forma de censura, pois as imagens divulgadas do caso foram retiradas do processo judiciário público – isto é, qualquer pessoa tem o direito de acessar – e abordam tema de interesse social.\n",
       "Nessa disputa de censura ou violação da intimidade, observa-se que há interesse político, pois as informações atingem diretamente o atual presidente do Brasil, Michel Temer, o que prejudicaria sua reputação. Então chega-se há outra questão pertinente à população: até que ponto são verídicas as alegações do hacker, sendo ele um criminoso ou não.  Afinal, os fragmentos de texto propagados na internet são dispersos e pouco se pode concluir, mas se há crime por de traz das ações do Presidente Temer, é necessário que haja investigação policial.\n",
       "Por conseguinte, conclui-se que houve censura por parte da decisão para minimizar futuros constrangimentos a Temer. Mas, sendo este uma figura pública, o caso diz respeito aos brasileiros, que não podem ser vendados diante dos diversos casos de corrupção envolvendo políticos. Inegavelmente, o ato de hackear é crime, e o executor desse caso está pagando sua pena, mas deveria ser aberto um novo processo – em segredo de justiça, para que não haja a inviolabilidade da imagem da pessoa – para descobrirem se existe ou não marqueteiro(s)  à trabalho para o atual Presidente da República, pois a justiça deve ter prioridade sobre qualquer direito individual.>"
      ]
     },
     "execution_count": 39,
     "metadata": {},
     "output_type": "execute_result"
    }
   ],
   "source": [
    "essays[1].get_features"
   ]
  },
  {
   "cell_type": "code",
   "execution_count": 5,
   "metadata": {},
   "outputs": [
    {
     "ename": "NameError",
     "evalue": "name 'essays' is not defined",
     "output_type": "error",
     "traceback": [
      "\u001b[1;31m---------------------------------------------------------------------------\u001b[0m",
      "\u001b[1;31mNameError\u001b[0m                                 Traceback (most recent call last)",
      "Cell \u001b[1;32mIn[5], line 1\u001b[0m\n\u001b[1;32m----> 1\u001b[0m essays[\u001b[39m2\u001b[39m]\u001b[39m.\u001b[39mtext\n",
      "\u001b[1;31mNameError\u001b[0m: name 'essays' is not defined"
     ]
    }
   ],
   "source": [
    "essays[2].text"
   ]
  },
  {
   "cell_type": "code",
   "execution_count": null,
   "metadata": {},
   "outputs": [],
   "source": []
  }
 ],
 "metadata": {
  "kernelspec": {
   "display_name": "venv",
   "language": "python",
   "name": "python3"
  },
  "language_info": {
   "codemirror_mode": {
    "name": "ipython",
    "version": 3
   },
   "file_extension": ".py",
   "mimetype": "text/x-python",
   "name": "python",
   "nbconvert_exporter": "python",
   "pygments_lexer": "ipython3",
   "version": "3.9.0"
  },
  "orig_nbformat": 4
 },
 "nbformat": 4,
 "nbformat_minor": 2
}
